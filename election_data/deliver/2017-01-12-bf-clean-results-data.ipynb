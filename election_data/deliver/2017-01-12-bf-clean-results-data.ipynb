{
 "cells": [
  {
   "cell_type": "code",
   "execution_count": 2,
   "metadata": {
    "collapsed": true
   },
   "outputs": [],
   "source": [
    "# %load ../src/util.py\n",
    "\n",
    "republica_nova = [1945, 1950, 1955, 1960]\n",
    "regime_militar = [1964, 1966, 1969, 1974, 1978]\n",
    "nova_republica = [1985, 1989, 1994, 1998, 2002, 2006, 2010, 2014]\n",
    "\n",
    "YEARS = republica_nova + regime_militar + nova_republica\n",
    "# 1985 foi indireta por decisão judicial \n",
    "DIRETAS = republica_nova + nova_republica[1:]\n",
    "\n",
    "base = '../data/results_ALL'\n",
    "paths = {\n",
    "    'base': base,\n",
    "    'zip': f'{base}/zip',\n",
    "    'unzip': f'{base}/unzip',\n",
    "    'normalized': f'{base}/normalized',\n",
    "    'json': f'{base}/json'\n",
    "}\n"
   ]
  },
  {
   "cell_type": "code",
   "execution_count": 115,
   "metadata": {
    "collapsed": true
   },
   "outputs": [],
   "source": [
    "# %load ../src/clean_historic_results_data.py\n",
    "import os\n",
    "import glob\n",
    "import pandas as pd\n",
    "\n",
    "\n",
    "def load_data(year, paths):\n",
    "    if year < 1994:\n",
    "        files_pattern = f'*{year}*.txt'\n",
    "        variaveis = [\n",
    "            'DATA_GERACAO',\n",
    "            'HORA_GERACAO',\n",
    "            'ANO_ELEICAO',\n",
    "            'NUM_TURNO',\n",
    "            'DESCRICAO_ELEICAO',\n",
    "            'SIGLA_UF',\n",
    "            'SIGLA_UE',\n",
    "            'CODIGO_CARGO',\n",
    "            'NUMERO_CAND',\n",
    "            'SQ_CANDIDATO',\n",
    "            'NOME_CANDIDATO',\n",
    "            'NOME_URNA_CANDIDATO',\n",
    "            'DESCRICAO_CARGO',\n",
    "            'COD_SIT_CAND_SUPERIOR',\n",
    "            'DESC_SIT_CAND_SUPERIOR',\n",
    "            'CODIGO_SIT_CANDIDATO',\n",
    "            'DESC_SIT_CANDIDATO',\n",
    "            'CODIGO_SIT_CAND_TOT',\n",
    "            'DESC_SIT_CAND_TOT',\n",
    "            'NUMERO_PARTIDO',\n",
    "            'SIGLA_PARTIDO',\n",
    "            'NOME_PARTIDO',\n",
    "            'SEQUENCIAL_LEGENDA',\n",
    "            'NOME_COLIGACAO',\n",
    "            'COMPOSICAO_LEGENDA',\n",
    "            'TOTAL_VOTOS'\n",
    "        ]\n",
    "\n",
    "        use = [\n",
    "            'SIGLA_UF',\n",
    "            'NOME_URNA_CANDIDATO',\n",
    "            'NOME_CANDIDATO',\n",
    "            'DESCRICAO_CARGO',\n",
    "            'NUM_TURNO',\n",
    "            'SIGLA_PARTIDO',\n",
    "            'TOTAL_VOTOS'\n",
    "        ]\n",
    "\n",
    "    else:\n",
    "        files_pattern = f'votacao_secao_{year}*.txt'\n",
    "        variaveis = [\n",
    "            'DATA_GERACAO',\n",
    "            'HORA_GERACAO',\n",
    "            'ANO_ELEICAO',\n",
    "            'NUM_TURNO',\n",
    "            'DESCRICAO_ELEICAO',\n",
    "            'SIGLA_UF',\n",
    "            'SIGLA_UE',\n",
    "            'CODIGO_MUNICIPIO',\n",
    "            'NOME_MUNICIPIO',\n",
    "            'NUM_ZONA',\n",
    "            'NUM_SECAO',\n",
    "            'CODIGO_CARGO',\n",
    "            'DESCRICAO_CARGO',\n",
    "            'NUM_VOTAVEL',\n",
    "            'QTDE_VOTOS'\n",
    "        ]\n",
    "\n",
    "        use = [\n",
    "            'SIGLA_UF',\n",
    "            'NUM_VOTAVEL',\n",
    "            'DESCRICAO_CARGO',\n",
    "            'NUM_TURNO',\n",
    "            'QTDE_VOTOS'\n",
    "        ]\n",
    "\n",
    "    all_files = glob.glob(os.path.join(paths['unzip'], files_pattern))\n",
    "\n",
    "    options = {\n",
    "        'encoding': 'latin1',\n",
    "        'sep': ';',\n",
    "        'names': variaveis,\n",
    "        'index_col': False,\n",
    "        'usecols': use\n",
    "    }\n",
    "\n",
    "    df_from_each_file = (pd.read_csv(f, **options) for f in all_files)\n",
    "    return pd.concat(df_from_each_file, ignore_index=True)\n",
    "\n",
    "\n",
    "def generate_results_frame(year, turno, cargo, paths):\n",
    "    df = load_data(year, paths)\n",
    "    df = df[df.DESCRICAO_CARGO == cargo]\n",
    "    df = df[df.NUM_TURNO == turno]\n",
    "\n",
    "    if year < 1994:\n",
    "        df = df[['SIGLA_UF', 'NOME_URNA_CANDIDATO', 'TOTAL_VOTOS']]\n",
    "\n",
    "        df = df.groupby(['SIGLA_UF', 'NOME_URNA_CANDIDATO']).sum()\n",
    "        df.TOTAL_VOTOS = df.TOTAL_VOTOS.map(lambda x: int(x))\n",
    "        df = df.unstack('SIGLA_UF')\n",
    "        df.columns = df.columns.droplevel()\n",
    "\n",
    "    else:\n",
    "        df = df[['SIGLA_UF', 'NUM_VOTAVEL', 'QTDE_VOTOS']]\n",
    "        # TODO: load consulta candidato do ano e\n",
    "        # substituir NUM_VOTAL por NOME URNA\n",
    "\n",
    "        df = df.groupby(['SIGLA_UF', 'NUM_VOTAVEL']).sum()\n",
    "        df.TOTAL_VOTOS = df.QTDE_VOTOS.map(lambda x: int(x))\n",
    "        df = df.unstack('SIGLA_UF')\n",
    "        df.columns = df.columns.droplevel()      \n",
    "\n",
    "        return df\n",
    "\n",
    "    # options = {\n",
    "    #     'encoding': 'latin1',\n",
    "    #     'sep': ';',\n",
    "    #     # 'index': False,\n",
    "    # }\n",
    "\n",
    "    # filepath = os.path.join(paths['normalized'], f'{cargo}_{year}_{turno}.txt')\n",
    "    # with open(filepath, 'w') as file:\n",
    "    #     df.to_csv(file, **options)\n",
    "\n",
    "    # return filepath\n"
   ]
  },
  {
   "cell_type": "code",
   "execution_count": 116,
   "metadata": {
    "collapsed": false
   },
   "outputs": [],
   "source": [
    "# for year in filter(lambda y: y < 1994, DIRETAS):\n",
    "#     for turno in [1, 2]:\n",
    "#         p = generate_results_frame(year, turno, 'PRESIDENTE', paths)\n",
    "#         print(p)"
   ]
  },
  {
   "cell_type": "code",
   "execution_count": 117,
   "metadata": {
    "collapsed": true
   },
   "outputs": [],
   "source": [
    "df = generate_results_frame(1994, 1, 'PRESIDENTE', paths)"
   ]
  },
  {
   "cell_type": "code",
   "execution_count": 122,
   "metadata": {
    "collapsed": false
   },
   "outputs": [
    {
     "data": {
      "text/plain": [
       "Index(['AC', 'AL', 'AM', 'AP', 'BA', 'GO', 'MA', 'MS', 'PI', 'RO', 'RS', 'SC',\n",
       "       'SE', 'SP', 'TO'],\n",
       "      dtype='object', name='SIGLA_UF')"
      ]
     },
     "execution_count": 122,
     "metadata": {},
     "output_type": "execute_result"
    }
   ],
   "source": [
    "df.keys()"
   ]
  },
  {
   "cell_type": "code",
   "execution_count": null,
   "metadata": {
    "collapsed": true
   },
   "outputs": [],
   "source": []
  },
  {
   "cell_type": "code",
   "execution_count": null,
   "metadata": {
    "collapsed": true
   },
   "outputs": [],
   "source": []
  },
  {
   "cell_type": "code",
   "execution_count": null,
   "metadata": {
    "collapsed": true
   },
   "outputs": [],
   "source": []
  },
  {
   "cell_type": "code",
   "execution_count": null,
   "metadata": {
    "collapsed": true
   },
   "outputs": [],
   "source": []
  },
  {
   "cell_type": "code",
   "execution_count": null,
   "metadata": {
    "collapsed": true
   },
   "outputs": [],
   "source": []
  },
  {
   "cell_type": "code",
   "execution_count": null,
   "metadata": {
    "collapsed": true
   },
   "outputs": [],
   "source": []
  },
  {
   "cell_type": "code",
   "execution_count": null,
   "metadata": {
    "collapsed": true
   },
   "outputs": [],
   "source": []
  },
  {
   "cell_type": "code",
   "execution_count": null,
   "metadata": {
    "collapsed": true
   },
   "outputs": [],
   "source": []
  },
  {
   "cell_type": "code",
   "execution_count": null,
   "metadata": {
    "collapsed": true
   },
   "outputs": [],
   "source": []
  },
  {
   "cell_type": "code",
   "execution_count": null,
   "metadata": {
    "collapsed": true
   },
   "outputs": [],
   "source": []
  },
  {
   "cell_type": "code",
   "execution_count": null,
   "metadata": {
    "collapsed": true
   },
   "outputs": [],
   "source": []
  },
  {
   "cell_type": "code",
   "execution_count": null,
   "metadata": {
    "collapsed": true
   },
   "outputs": [],
   "source": []
  },
  {
   "cell_type": "code",
   "execution_count": null,
   "metadata": {
    "collapsed": true
   },
   "outputs": [],
   "source": []
  },
  {
   "cell_type": "code",
   "execution_count": null,
   "metadata": {
    "collapsed": true
   },
   "outputs": [],
   "source": []
  },
  {
   "cell_type": "code",
   "execution_count": null,
   "metadata": {
    "collapsed": true
   },
   "outputs": [],
   "source": []
  },
  {
   "cell_type": "code",
   "execution_count": null,
   "metadata": {
    "collapsed": true
   },
   "outputs": [],
   "source": []
  },
  {
   "cell_type": "code",
   "execution_count": null,
   "metadata": {
    "collapsed": true
   },
   "outputs": [],
   "source": []
  }
 ],
 "metadata": {
  "kernelspec": {
   "display_name": "election_history",
   "language": "python",
   "name": "election_data"
  },
  "language_info": {
   "codemirror_mode": {
    "name": "ipython",
    "version": 3
   },
   "file_extension": ".py",
   "mimetype": "text/x-python",
   "name": "python",
   "nbconvert_exporter": "python",
   "pygments_lexer": "ipython3",
   "version": "3.6.0"
  }
 },
 "nbformat": 4,
 "nbformat_minor": 1
}
