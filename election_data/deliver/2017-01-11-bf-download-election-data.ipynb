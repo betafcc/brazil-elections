{
 "cells": [
  {
   "cell_type": "code",
   "execution_count": 1,
   "metadata": {
    "collapsed": false
   },
   "outputs": [],
   "source": [
    "import os, wget, shutil, glob\n",
    "from zipfile import ZipFile"
   ]
  },
  {
   "cell_type": "code",
   "execution_count": 5,
   "metadata": {
    "collapsed": false
   },
   "outputs": [],
   "source": [
    "def create_folders(paths):\n",
    "    os.mkdir(paths['base'])\n",
    "    for k, v in paths.items():\n",
    "        if k != 'base':\n",
    "            os.mkdir(v)\n",
    "\n",
    "def get_links(years):\n",
    "    links = []\n",
    "    for year in years:\n",
    "        if year < 1994:\n",
    "            links.append(f'http://agencia.tse.jus.br/estatistica/sead/odsele/votacao_candidato_uf/votacao_candidato_uf_{year}.zip')\n",
    "        else:\n",
    "            links.append(f'http://agencia.tse.jus.br/estatistica/sead/odsele/votacao_secao/votacao_secao_{year}_BR.zip')\n",
    "            links.append(f'http://agencia.tse.jus.br/estatistica/sead/odsele/consulta_cand/consulta_cand_{year}.zip')\n",
    "    return links"
   ]
  },
  {
   "cell_type": "code",
   "execution_count": 6,
   "metadata": {
    "collapsed": true
   },
   "outputs": [],
   "source": [
    "republica_nova = [1945, 1950, 1955, 1960]\n",
    "regime_militar = [1964, 1966, 1969, 1974, 1978]\n",
    "nova_republica = [1985, 1989, 1994, 1998, 2002, 2006, 2010, 2014]\n",
    "\n",
    "YEARS = republica_nova + regime_militar + nova_republica\n",
    "# 1985 foi indireta por decisão judicial \n",
    "DIRETAS = republica_nova + nova_republica[1:]"
   ]
  },
  {
   "cell_type": "code",
   "execution_count": 7,
   "metadata": {
    "collapsed": true
   },
   "outputs": [],
   "source": [
    "base = '../data/results_ALL'\n",
    "paths = {\n",
    "    'base': base,\n",
    "    'zip': f'{base}/zip',\n",
    "    'unzip': f'{base}/unzip',\n",
    "    'normalized': f'{base}/normalized',\n",
    "    'json': f'{base}/json'\n",
    "}"
   ]
  },
  {
   "cell_type": "code",
   "execution_count": 8,
   "metadata": {
    "collapsed": true
   },
   "outputs": [],
   "source": [
    "create_folders(paths)"
   ]
  },
  {
   "cell_type": "code",
   "execution_count": 10,
   "metadata": {
    "collapsed": true
   },
   "outputs": [
    {
     "name": "stdout",
     "output_type": "stream",
     "text": [
      "../data/results_ALL/zip/votacao_candidato_uf_1945.zip\n",
      "unziped\n",
      "../data/results_ALL/zip/votacao_candidato_uf_1950.zip\n",
      "unziped\n",
      "../data/results_ALL/zip/votacao_candidato_uf_1955.zip\n",
      "unziped\n",
      "../data/results_ALL/zip/votacao_candidato_uf_1960.zip\n",
      "unziped\n",
      "../data/results_ALL/zip/votacao_candidato_uf_1989.zip\n",
      "unziped\n",
      "../data/results_ALL/zip/votacao_secao_1994_BR.zip\n",
      "unziped\n",
      "../data/results_ALL/zip/consulta_cand_1994.zip\n",
      "unziped\n",
      "../data/results_ALL/zip/votacao_secao_1998_BR.zip\n",
      "unziped\n",
      "../data/results_ALL/zip/consulta_cand_1998.zip\n",
      "unziped\n",
      "../data/results_ALL/zip/votacao_secao_2002_BR.zip\n",
      "unziped\n",
      "../data/results_ALL/zip/consulta_cand_2002.zip\n",
      "unziped\n",
      "../data/results_ALL/zip/votacao_secao_2006_BR.zip\n",
      "unziped\n",
      "../data/results_ALL/zip/consulta_cand_2006.zip\n",
      "unziped\n",
      "../data/results_ALL/zip/votacao_secao_2010_BR.zip\n",
      "unziped\n",
      "../data/results_ALL/zip/consulta_cand_2010.zip\n",
      "unziped\n",
      "../data/results_ALL/zip/votacao_secao_2014_BR.zip\n",
      "unziped\n",
      "../data/results_ALL/zip/consulta_cand_2014.zip\n",
      "unziped\n"
     ]
    }
   ],
   "source": [
    "# Download and extract right away\n",
    "for link in get_links(DIRETAS):\n",
    "    downloaded = wget.download(link, paths['zip'])\n",
    "    print(downloaded)\n",
    "    with ZipFile(downloaded, 'r') as zip:\n",
    "        zip.extractall(paths['unzip'])\n",
    "    print('unziped')"
   ]
  },
  {
   "cell_type": "code",
   "execution_count": 23,
   "metadata": {
    "collapsed": false
   },
   "outputs": [],
   "source": [
    "## Flat folder structure\n",
    "for file in glob.glob(f'{paths[\"unzip\"]}/*/*.txt'):\n",
    "    shutil.move(file, paths['unzip'])"
   ]
  },
  {
   "cell_type": "code",
   "execution_count": 25,
   "metadata": {
    "collapsed": false
   },
   "outputs": [
    {
     "data": {
      "text/plain": [
       "['../data/results_ALL/unzip/VOTACAO_CANDIDATO_UF_1945_BA.txt',\n",
       " '../data/results_ALL/unzip/VOTACAO_CANDIDATO_UF_1945_Fernando de Noronha.txt',\n",
       " '../data/results_ALL/unzip/VOTACAO_CANDIDATO_UF_1945_SP.txt',\n",
       " '../data/results_ALL/unzip/VOTACAO_CANDIDATO_UF_1945_ES.txt',\n",
       " '../data/results_ALL/unzip/VOTACAO_CANDIDATO_UF_1945_Iguaçu.txt',\n",
       " '../data/results_ALL/unzip/VOTACAO_CANDIDATO_UF_1945_SC.txt',\n",
       " '../data/results_ALL/unzip/VOTACAO_CANDIDATO_UF_1945_MT.txt',\n",
       " '../data/results_ALL/unzip/VOTACAO_CANDIDATO_UF_1945_AC.txt',\n",
       " '../data/results_ALL/unzip/VOTACAO_CANDIDATO_UF_1945_AM.txt',\n",
       " '../data/results_ALL/unzip/VOTACAO_CANDIDATO_UF_1945_PI.txt',\n",
       " '../data/results_ALL/unzip/VOTACAO_CANDIDATO_UF_1945_MA.txt',\n",
       " '../data/results_ALL/unzip/VOTACAO_CANDIDATO_UF_1945_CE.txt',\n",
       " '../data/results_ALL/unzip/VOTACAO_CANDIDATO_UF_1945_AL.txt',\n",
       " '../data/results_ALL/unzip/VOTACAO_CANDIDATO_UF_1945_GO.txt',\n",
       " '../data/results_ALL/unzip/VOTACAO_CANDIDATO_UF_1945_GP.txt',\n",
       " '../data/results_ALL/unzip/VOTACAO_CANDIDATO_UF_1945_RJ.txt',\n",
       " '../data/results_ALL/unzip/VOTACAO_CANDIDATO_UF_1945_Ponta Por╞.txt',\n",
       " '../data/results_ALL/unzip/VOTACAO_CANDIDATO_UF_1945_AP.txt',\n",
       " '../data/results_ALL/unzip/VOTACAO_CANDIDATO_UF_1945_MG.txt',\n",
       " '../data/results_ALL/unzip/VOTACAO_CANDIDATO_UF_1945_PA.txt',\n",
       " '../data/results_ALL/unzip/VOTACAO_CANDIDATO_UF_1945_RS.txt',\n",
       " '../data/results_ALL/unzip/VOTACAO_CANDIDATO_UF_1945_DF.txt',\n",
       " '../data/results_ALL/unzip/VOTACAO_CANDIDATO_UF_1945_PB.txt',\n",
       " '../data/results_ALL/unzip/VOTACAO_CANDIDATO_UF_1945_PE.txt',\n",
       " '../data/results_ALL/unzip/VOTACAO_CANDIDATO_UF_1945_RB.txt',\n",
       " '../data/results_ALL/unzip/VOTACAO_CANDIDATO_UF_1945_RN.txt',\n",
       " '../data/results_ALL/unzip/VOTACAO_CANDIDATO_UF_1945_PR.txt',\n",
       " '../data/results_ALL/unzip/VOTACAO_CANDIDATO_UF_1945_SE.txt']"
      ]
     },
     "execution_count": 25,
     "metadata": {},
     "output_type": "execute_result"
    }
   ],
   "source": [
    "glob.glob(os.path.join(paths['unzip'], f'*{year}*.txt'))"
   ]
  },
  {
   "cell_type": "code",
   "execution_count": null,
   "metadata": {
    "collapsed": true
   },
   "outputs": [],
   "source": []
  },
  {
   "cell_type": "code",
   "execution_count": null,
   "metadata": {
    "collapsed": true
   },
   "outputs": [],
   "source": []
  },
  {
   "cell_type": "code",
   "execution_count": null,
   "metadata": {
    "collapsed": true
   },
   "outputs": [],
   "source": []
  },
  {
   "cell_type": "code",
   "execution_count": null,
   "metadata": {
    "collapsed": true
   },
   "outputs": [],
   "source": []
  },
  {
   "cell_type": "code",
   "execution_count": null,
   "metadata": {
    "collapsed": true
   },
   "outputs": [],
   "source": []
  }
 ],
 "metadata": {
  "kernelspec": {
   "display_name": "election_history",
   "language": "python",
   "name": "election_data"
  },
  "language_info": {
   "codemirror_mode": {
    "name": "ipython",
    "version": 3
   },
   "file_extension": ".py",
   "mimetype": "text/x-python",
   "name": "python",
   "nbconvert_exporter": "python",
   "pygments_lexer": "ipython3",
   "version": "3.6.0"
  }
 },
 "nbformat": 4,
 "nbformat_minor": 1
}
