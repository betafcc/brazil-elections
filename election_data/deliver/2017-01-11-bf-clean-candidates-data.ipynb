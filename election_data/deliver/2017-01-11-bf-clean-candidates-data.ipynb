{
 "cells": [
  {
   "cell_type": "code",
   "execution_count": 2,
   "metadata": {
    "collapsed": true
   },
   "outputs": [],
   "source": [
    "# %load ../src/util.py\n",
    "\n",
    "republica_nova = [1945, 1950, 1955, 1960]\n",
    "regime_militar = [1964, 1966, 1969, 1974, 1978]\n",
    "nova_republica = [1985, 1989, 1994, 1998, 2002, 2006, 2010, 2014]\n",
    "\n",
    "YEARS = republica_nova + regime_militar + nova_republica\n",
    "# 1985 foi indireta por decisão judicial \n",
    "DIRETAS = republica_nova + nova_republica[1:]\n",
    "\n",
    "base = '../data/results_ALL'\n",
    "paths = {\n",
    "    'base': base,\n",
    "    'zip': f'{base}/zip',\n",
    "    'unzip': f'{base}/unzip',\n",
    "    'normalized': f'{base}/normalized',\n",
    "    'json': f'{base}/json'\n",
    "}\n"
   ]
  },
  {
   "cell_type": "code",
   "execution_count": 27,
   "metadata": {
    "collapsed": true
   },
   "outputs": [],
   "source": [
    "%load ../src/clean_historic_candidates_data.py"
   ]
  },
  {
   "cell_type": "code",
   "execution_count": 28,
   "metadata": {
    "collapsed": false
   },
   "outputs": [
    {
     "name": "stdout",
     "output_type": "stream",
     "text": [
      "../data/results_ALL/normalized/CANDIDATOS_PRESIDENTE_1945.txt\n",
      "../data/results_ALL/normalized/CANDIDATOS_PRESIDENTE_1950.txt\n",
      "../data/results_ALL/normalized/CANDIDATOS_PRESIDENTE_1955.txt\n",
      "../data/results_ALL/normalized/CANDIDATOS_PRESIDENTE_1960.txt\n",
      "../data/results_ALL/normalized/CANDIDATOS_PRESIDENTE_1989.txt\n",
      "../data/results_ALL/normalized/CANDIDATOS_PRESIDENTE_1994.txt\n",
      "../data/results_ALL/normalized/CANDIDATOS_PRESIDENTE_1998.txt\n",
      "../data/results_ALL/normalized/CANDIDATOS_PRESIDENTE_2002.txt\n",
      "../data/results_ALL/normalized/CANDIDATOS_PRESIDENTE_2006.txt\n",
      "../data/results_ALL/normalized/CANDIDATOS_PRESIDENTE_2010.txt\n",
      "../data/results_ALL/normalized/CANDIDATOS_PRESIDENTE_2014.txt\n"
     ]
    }
   ],
   "source": [
    "for year in DIRETAS:\n",
    "    print(generate_candidatos_frame(year, 'PRESIDENTE', paths))"
   ]
  },
  {
   "cell_type": "code",
   "execution_count": 29,
   "metadata": {
    "collapsed": false
   },
   "outputs": [
    {
     "name": "stdout",
     "output_type": "stream",
     "text": [
      "NOME_CANDIDATO;NOME_URNA_CANDIDATO;SIGLA_PARTIDO\n",
      "EURICO GASPAR DUTRA;GENERAL EURICO GASPAR DUTRA;PSD\n",
      "EDUARDO GOMES;MAJOR BRIGADEIRO EDUARDO GOMES;UDN\n",
      "MÁRIO ROLLIM TELLES;ROLLIM TELLES;PAN\n",
      "YEDDO FIUZA;YEDDO FIUZA;PCB\n",
      "----------------------------------------\n",
      "NOME_CANDIDATO;NOME_URNA_CANDIDATO;SIGLA_PARTIDO\n",
      "CHRISTIANO MONTEIRO MACHADO;CHRISTIANO MACHADO;PSD\n",
      "JOÃO  MANGABEIRA;JOÃO MANGABEIRA;PSB\n",
      "GETÚLIO DORNELLES VARGAS;GETÚLIO VARGAS;PTB\n",
      "EDUARDO GOMES;BRIGADEIRO EDUARDO GOMES;UDN\n",
      "----------------------------------------\n",
      "NOME_CANDIDATO;NOME_URNA_CANDIDATO;SIGLA_PARTIDO\n",
      "JUSCELINO KUBISTCHECK DE OLIVEIRA;JUSCELINO KUBISTCHECK;PSD\n",
      "JUARÉZ DO NASCIMENTO FERNANDES TÁVORA;JUARÉZ TÁVORA;UDN\n",
      "PLÍNIO SALGADO;PLÍNIO SALGADO;PRP\n",
      "ADHEMAR PEREIRA DE BARROS;ADHEMAR DE BARROS;PSP\n",
      "----------------------------------------\n",
      "NOME_CANDIDATO;NOME_URNA_CANDIDATO;SIGLA_PARTIDO\n",
      "ADHEMAR PEREIRA DE BARROS;ADHEMAR DE BARROS;PSP\n",
      "HENRIQUE DUFFLES TEIXEIRA LOTT;HENRIQUE LOTT;PSD\n",
      "JÂNIO DA SILVA QUADROS;JÂNIO QUADROS;PTN\n",
      "----------------------------------------\n",
      "NOME_CANDIDATO;NOME_URNA_CANDIDATO;SIGLA_PARTIDO\n",
      "AFFONSO ALVES DE CAMARGO NETTO;AFFONSO CAMARGO;PTB\n",
      "GUILHERME AFIF DOMINGOS;AFIF;PL\n",
      "ANTONIO AURELIANO CHAVES DE MENDONÇA;AURELIANO CHAVES;PFL\n",
      "LEONEL DE MOURA BRIZOLA;BRIZOLA;PDT\n",
      "CELSO TEXEIRA BRANT;CELSO BRANT;PMN\n",
      "FERNANDO AFFONSO COLLOR DE MELLO;COLLOR;PRN\n",
      "ARMANDO CORREA DA SILVA;CORREA;PMB\n",
      "ENEAS FERREIRA CARNEIRO;ENEAS;PRONA\n",
      "EUDES DE OLIVEIRA MATTAR;EUDES MATTAR;PLP\n",
      "FERNANDO PAULO NAGLE GABEIRA;GABEIRA;PV\n",
      "LIVIA MARIA LEDO PIO DE ABREU;LIVIA MARIA;PN\n",
      "LUIZ INACIO LULA DA SILVA;LULA;PT\n",
      "PAULO SALIM MALUF;MALUF;PDS\n",
      "MANOEL ANTONIO DE OLIVEIRA HORTA;MANOEL HORTA;PDCdoB\n",
      "MARIO COVAS JUNIOR;MARIO COVAS;PSDB\n",
      "JOSÉ ALCIDES MARRONZINHO DE OLIVEIRA;MARRONZINHO;PSP\n",
      "PAULO GONTIJO;P.G.;PP\n",
      "ANTONIO DOS SANTOS PEDREIRA;PEDREIRA;PPB\n",
      "ROBERTO JOAO PEREIRA FREIRE;ROBERTO FREIRE;PCB\n",
      "RONALDO RAMOS CAIADO;RONALDO CAIADO;PSD\n",
      "ULYSSES SILVEIRA GUIMARAES;ULYSSES GUIMARAES;PMDB\n",
      "ZAMIR JOSE TEXEIRA;ZAMIR;PCN\n",
      "----------------------------------------\n",
      "NOME_CANDIDATO;NOME_URNA_CANDIDATO;SIGLA_PARTIDO\n",
      "ESPERIDIAO AMIN HELOU FILHO;ESPERIDIAO AMIN;PPR\n",
      "LEONEL DE MOURA BRIZOLA;BRIZOLA;PDT\n",
      "LUIZ INACIO LULA DA SILVA;LULA;PT\n",
      "ORESTES QUERCIA;ORESTES QUERCIA;PMDB\n",
      "HERNANI GOULART FORTUNA;HERNANI FORTUNA;PSC\n",
      "CARLOS ANTONIO GOMES;CARLOS GOMES;PRN\n",
      "FERNANDO HENRIQUE CARDOSO;FERNANDO HENRIQ;PSDB\n",
      "ENEAS FERREIRA CARNEIRO;ENEAS;PRONA\n",
      "----------------------------------------\n",
      "NOME_CANDIDATO;NOME_URNA_CANDIDATO;SIGLA_PARTIDO\n",
      "LUIZ INÁCIO LULA DA SILVA;LULA;PT\n",
      "JOSÉ MARIA DE ALMEIDA;ZÉ MARIA;PSTU\n",
      "DORIVAL MASCI DE ABREU;THEREZA RUIZ;PTN\n",
      "DORIVAL MASCI DE ABREU;DORIVAL DE ABREU;PTN\n",
      "THEREZA TINAJERO RUIZ;THEREZA RUIZ;PTN\n",
      "THEREZA TINAJERO RUIZ;DORIVAL DE ABREU;PTN\n",
      "SERGIO BUENO;SERGIO BUENO;PSC\n",
      "CIRO FERREIRA GOMES;CIRO GOMES;PPS\n",
      "JOSÉ MARIA EYMAEL;EYMAEL;PSDC\n",
      "VASCO AZEVEDO NETO;VASCO NETO;PSN\n",
      "IVAN MOACYR DA FROTA;BRIGADEIRO IVAN FROTA;PMN\n",
      "ALFREDO HÉLIO SYRKIS;SIRKIS;PV\n",
      "FERNANDO HENRIQUE CARDOSO;FERNANDO HENRIQUE;PSDB\n",
      "ENÉAS FERREIRA CARNEIRO;ENÉAS;PRONA\n",
      "JOÃO DE DEUS BARBOSA DE JESUS;JOÃO DE DEUS BARBOSA;PT do B\n",
      "----------------------------------------\n",
      "NOME_CANDIDATO;NOME_URNA_CANDIDATO;SIGLA_PARTIDO\n",
      "LUIZ INACIO LULA DA SILVA;LULA;PT\n",
      "JOSÉ MARIA DE ALMEIDA;ZÉ MARIA;PSTU\n",
      "CIRO FERREIRA GOMES;CIRO;PPS\n",
      "PEDRO DE ABREU TEIXEIRA;PEDRO TEIXEIRA;PFL\n",
      "RUI COSTA PIMENTA;RUI COSTA PIMENTA;PCO\n",
      "ANTHONY WILLIAM GAROTINHO MATHEUS DE OLIVEIRA;GAROTINHO;PSB\n",
      "JOSÉ SERRA;JOSÉ SERRA;PSDB\n",
      "JOSÉ MARIA BOTÃO ABREU;JOSÉ MARIA BOTÃO ABREU;PRESTCONTAS\n",
      "----------------------------------------\n",
      "NOME_CANDIDATO;NOME_URNA_CANDIDATO;SIGLA_PARTIDO\n",
      "ANA MARIA TEIXEIRA RANGEL;ANA MARIA RANGEL;PRP\n",
      "CRISTOVAM RICARDO CALVACANTI BUARQUE;CRISTOVAM BUARQUE;PDT\n",
      "GERALDO JOSÉ RODRIGUES ALCKMIN FILHO;GERALDO ALCKMIN;PSDB\n",
      "HELOÍSA HELENA LIMA DE MORAES CARVALHO;HELOÍSA HELENA;PSOL\n",
      "JOSÉ MARIA EYMAEL;JOSÉ MARIA EYMAEL;PSDC\n",
      "LUCIANO CALDAS BIVAR;LUCIANO BIVAR;PSL\n",
      "LUIZ INACIO LULA DA SILVA;LULA;PT\n",
      "RUI COSTA PIMENTA;RUI COSTA PIMENTA;PCO\n",
      "----------------------------------------\n",
      "NOME_CANDIDATO;NOME_URNA_CANDIDATO;SIGLA_PARTIDO\n",
      "DILMA VANA ROUSSEFF;DILMA;PT\n",
      "IVAN MARTINS PINHEIRO;IVAN PINHEIRO;PCB\n",
      "JOSE LEVY FIDELIX DA CRUZ;LEVY FIDELIX;PRTB\n",
      "JOSE MARIA EYMAEL;EYMAEL;PSDC\n",
      "JOSÉ MARIA DE ALMEIDA;ZÉ MARIA;PSTU\n",
      "JOSÉ SERRA;JOSÉ SERRA;PSDB\n",
      "MARIA OSMARINA MARINA DA SILVA VAZ DE LIMA;MARINA SILVA;PV\n",
      "PLÍNIO SOARES DE ARRUDA SAMPAIO;PLÍNIO;PSOL\n",
      "RUI COSTA PIMENTA;RUI COSTA PIMENTA;PCO\n",
      "----------------------------------------\n",
      "NOME_CANDIDATO;NOME_URNA_CANDIDATO;SIGLA_PARTIDO\n",
      "AÉCIO NEVES DA CUNHA;AÉCIO NEVES;PSDB\n",
      "DILMA VANA ROUSSEFF;DILMA;PT\n",
      "RUI COSTA PIMENTA;RUI COSTA PIMENTA;PCO\n",
      "LUCIANA KREBS GENRO;LUCIANA GENRO;PSOL\n",
      "MARIA OSMARINA MARINA DA SILVA VAZ DE LIMA;MARINA SILVA;PSB\n",
      "MAURO LUÍS IASI;MAURO IASI;PCB\n",
      "JOSÉ MARIA DE ALMEIDA;ZÉ MARIA;PSTU\n",
      "EVERALDO DIAS PEREIRA;PASTOR EVERALDO;PSC\n",
      "JOSE MARIA EYMAEL;EYMAEL;PSDC\n",
      "EDUARDO JORGE MARTINS ALVES SOBRINHO;EDUARDO JORGE;PV\n",
      "EDUARDO HENRIQUE ACCIOLY CAMPOS;EDUARDO CAMPOS;PSB\n",
      "JOSÉ LEVY FIDELIX DA CRUZ;LEVY FIDELIX;PRTB\n",
      "----------------------------------------\n"
     ]
    }
   ],
   "source": [
    "%%bash\n",
    "for file in ../data/results_ALL/normalized/CANDIDATOS_PRESIDENTE_*.txt; do\n",
    "    cat $file\n",
    "    echo ----------------------------------------\n",
    "done"
   ]
  },
  {
   "cell_type": "code",
   "execution_count": null,
   "metadata": {
    "collapsed": true
   },
   "outputs": [],
   "source": []
  },
  {
   "cell_type": "code",
   "execution_count": null,
   "metadata": {
    "collapsed": true
   },
   "outputs": [],
   "source": []
  }
 ],
 "metadata": {
  "kernelspec": {
   "display_name": "election_history",
   "language": "python",
   "name": "election_data"
  },
  "language_info": {
   "codemirror_mode": {
    "name": "ipython",
    "version": 3
   },
   "file_extension": ".py",
   "mimetype": "text/x-python",
   "name": "python",
   "nbconvert_exporter": "python",
   "pygments_lexer": "ipython3",
   "version": "3.6.0"
  }
 },
 "nbformat": 4,
 "nbformat_minor": 1
}
