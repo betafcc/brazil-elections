{
 "cells": [
  {
   "cell_type": "markdown",
   "metadata": {},
   "source": [
    "# Presidential elections historic data"
   ]
  },
  {
   "cell_type": "markdown",
   "metadata": {},
   "source": [
    "## This notebook aims to:\n",
    "    - [ ] Listar eleições diretas que contém info no site do tse\n",
    "    - [ ] Uma por uma, fazer sumário de resultados"
   ]
  },
  {
   "cell_type": "code",
   "execution_count": 1,
   "metadata": {
    "collapsed": true
   },
   "outputs": [],
   "source": [
    "from IPython.display import IFrame"
   ]
  },
  {
   "cell_type": "markdown",
   "metadata": {
    "collapsed": true
   },
   "source": [
    "## Mostre o site do tse"
   ]
  },
  {
   "cell_type": "code",
   "execution_count": 2,
   "metadata": {
    "collapsed": false
   },
   "outputs": [
    {
     "data": {
      "text/html": [
       "\n",
       "        <iframe\n",
       "            width=\"800\"\n",
       "            height=\"400\"\n",
       "            src=\"http://www.tse.jus.br/hotSites/pesquisas-eleitorais/resultados.html\"\n",
       "            frameborder=\"0\"\n",
       "            allowfullscreen\n",
       "        ></iframe>\n",
       "        "
      ],
      "text/plain": [
       "<IPython.lib.display.IFrame at 0x7fddcffe1208>"
      ]
     },
     "execution_count": 2,
     "metadata": {},
     "output_type": "execute_result"
    }
   ],
   "source": [
    "IFrame(\n",
    "    'http://www.tse.jus.br/hotSites/pesquisas-eleitorais/resultados.html',\n",
    "    800, 400\n",
    ")"
   ]
  },
  {
   "cell_type": "code",
   "execution_count": 3,
   "metadata": {
    "collapsed": false
   },
   "outputs": [
    {
     "name": "stdout",
     "output_type": "stream",
     "text": [
      "[1945, 1950, 1955, 1960, 1989, 1994, 1998, 2002, 2006, 2010, 2014]\n"
     ]
    }
   ],
   "source": [
    "republica_nova = [1945, 1950, 1955, 1960]\n",
    "regime_militar = [1964, 1966, 1969, 1974, 1978]\n",
    "nova_republica = [1985, 1989, 1994, 1998, 2002, 2006, 2010, 2014]\n",
    "\n",
    "YEARS = republica_nova + regime_militar + nova_republica\n",
    "# 1985 foi indireta por decisão judicial \n",
    "DIRETAS = republica_nova + nova_republica[1:]\n",
    "\n",
    "print(DIRETAS)"
   ]
  },
  {
   "cell_type": "markdown",
   "metadata": {},
   "source": [
    "## O seguinte script faz download de todos os relevantes:"
   ]
  },
  {
   "cell_type": "code",
   "execution_count": 4,
   "metadata": {
    "collapsed": false
   },
   "outputs": [],
   "source": [
    "# %load ../src/download-historic-election-data.py"
   ]
  },
  {
   "cell_type": "markdown",
   "metadata": {},
   "source": [
    "## 1945"
   ]
  },
  {
   "cell_type": "code",
   "execution_count": 4,
   "metadata": {
    "collapsed": true
   },
   "outputs": [],
   "source": [
    "# %load ../src/election_json.py\n",
    "import os, glob, json\n",
    "\n",
    "import pandas as pd\n",
    "\n",
    "\n",
    "def find(arr, func):\n",
    "    indexes = []\n",
    "    for i, v in enumerate(arr):\n",
    "        if func(v):\n",
    "            indexes.append(i)\n",
    "    return indexes\n",
    "\n",
    "\n",
    "def load_data(ano):\n",
    "    variaveis = [\n",
    "        'DATA_GERACAO', 'HORA_GERACAO', 'ANO_ELEICAO',\n",
    "        'NUM_TURNO', 'DESCRICAO_ELEICAO', 'SIGLA_UF',\n",
    "        'SIGLA_UE', 'CODIGO_CARGO', 'NUMERO_CAND', \n",
    "        'SQ_CANDIDATO', 'NOME_CANDIDATO', 'NOME_URNA_CANDIDATO',\n",
    "        'DESCRICAO_CARGO', 'COD_SIT_CAND_SUPERIOR', 'DESC_SIT_CAND_SUPERIOR',\n",
    "        'CODIGO_SIT_CANDIDATO', 'DESC_SIT_CANDIDATO', 'CODIGO_SIT_CAND_TOT',\n",
    "        'DESC_SIT_CAND_TOT', 'NUMERO_PARTIDO', 'SIGLA_PARTIDO',\n",
    "        'NOME_PARTIDO', 'SEQUENCIAL_LEGENDA', 'NOME_COLIGACAO',\n",
    "        'COMPOSICAO_LEGENDA', 'TOTAL_VOTOS'\n",
    "    ]\n",
    "\n",
    "    use = [\n",
    "        'SIGLA_UF', 'NOME_URNA_CANDIDATO', 'DESCRICAO_CARGO',\n",
    "        'NUM_TURNO', 'SIGLA_PARTIDO', 'TOTAL_VOTOS'\n",
    "    ]\n",
    "\n",
    "    path = f'../data/results_ALL/unzipped/{ano}/'\n",
    "    all_files = glob.glob(os.path.join(path, '*.txt'))\n",
    "\n",
    "    options = {\n",
    "        'encoding': 'latin1',\n",
    "        'sep': ';',\n",
    "        'names': variaveis,\n",
    "        'index_col': False,\n",
    "        'usecols': use\n",
    "    }\n",
    "\n",
    "    df_from_each_file = (pd.read_csv(f, **options) for f in all_files)\n",
    "    return pd.concat(df_from_each_file, ignore_index=True)\n",
    "\n",
    "def filter_data(data, cargo, turno):\n",
    "    final = data[\n",
    "        (data.DESCRICAO_CARGO == cargo) &\n",
    "        (data.NUM_TURNO == turno)\n",
    "    ]\n",
    "    del final['DESCRICAO_CARGO']\n",
    "    del final['NUM_TURNO']\n",
    "\n",
    "    return final\n",
    "\n",
    "def mount_dic(data, ano, turno):\n",
    "    final = {\n",
    "        'ano': ano,\n",
    "        'turno': turno,\n",
    "        'candidatos': [],\n",
    "        'estados': {}\n",
    "    }\n",
    "\n",
    "    g = data.groupby(['SIGLA_UF', 'SIGLA_PARTIDO', 'NOME_URNA_CANDIDATO'])\n",
    "    s = g.TOTAL_VOTOS.sum()\n",
    "    u = s.unstack('SIGLA_UF')\n",
    "\n",
    "    it = u.transpose().sum().to_dict().items()\n",
    "    for k, v in it:\n",
    "        final['candidatos'].append({'partido': k[0], 'nome': k[1], 'votos': int(v)})\n",
    "    final['candidatos'].sort(key=lambda x: x['votos'], reverse=True)\n",
    "\n",
    "\n",
    "    for UF in u.keys():\n",
    "        final['estados'][UF] = []\n",
    "        r = final['estados'][UF]\n",
    "\n",
    "        it = u[UF].to_dict().items()\n",
    "        for k, v in it:\n",
    "            r.append({\n",
    "                'votos': int(v),\n",
    "                'candidato': find(\n",
    "                    final['candidatos'],\n",
    "                    lambda x: x['nome'] == k[1]\n",
    "                )[0]\n",
    "            })\n",
    "        r.sort(key=lambda x: x['votos'], reverse=True)\n",
    "\n",
    "    return final\n",
    "\n",
    "def to_json(dict):\n",
    "    return json.dumps(dict, ensure_ascii=False)\n",
    "\n",
    "def election_json(cargo, ano, turno):\n",
    "    return to_json(mount_dic(filter_data(load_data(ano), cargo, turno), ano, turno))\n"
   ]
  },
  {
   "cell_type": "code",
   "execution_count": 12,
   "metadata": {
    "collapsed": true
   },
   "outputs": [],
   "source": [
    "j = election_json('PRESIDENTE', 1960, 1)"
   ]
  },
  {
   "cell_type": "code",
   "execution_count": 13,
   "metadata": {
    "collapsed": false
   },
   "outputs": [
    {
     "data": {
      "text/plain": [
       "'{\"ano\": 1960, \"turno\": 1, \"candidatos\": [{\"partido\": \"PTN\", \"nome\": \"JÂNIO QUADROS\", \"votos\": 5636623}, {\"partido\": \"PSD\", \"nome\": \"HENRIQUE LOTT\", \"votos\": 3846825}, {\"partido\": \"PSP\", \"nome\": \"ADHEMAR DE BARROS\", \"votos\": 2195709}], \"estados\": {\"AC\": [{\"votos\": 5496, \"candidato\": 0}, {\"votos\": 4336, \"candidato\": 1}, {\"votos\": 783, \"candidato\": 2}], \"AL\": [{\"votos\": 53835, \"candidato\": 0}, {\"votos\": 32253, \"candidato\": 1}, {\"votos\": 25926, \"candidato\": 2}], \"AM\": [{\"votos\": 32324, \"candidato\": 1}, {\"votos\": 23812, \"candidato\": 0}, {\"votos\": 2202, \"candidato\": 2}], \"AP\": [{\"votos\": 3971, \"candidato\": 1}, {\"votos\": 2845, \"candidato\": 0}, {\"votos\": 105, \"candidato\": 2}], \"BA\": [{\"votos\": 255530, \"candidato\": 0}, {\"votos\": 232391, \"candidato\": 1}, {\"votos\": 47824, \"candidato\": 2}], \"CE\": [{\"votos\": 189372, \"candidato\": 0}, {\"votos\": 184118, \"candidato\": 1}, {\"votos\": 27668, \"candidato\": 2}], \"DF\": [{\"votos\": 10444, \"candidato\": 1}, {\"votos\": 7518, \"candidato\": 0}, {\"votos\": 1813, \"candidato\": 2}], \"ES\": [{\"votos\": 88900, \"candidato\": 0}, {\"votos\": 59805, \"candidato\": 1}, {\"votos\": 31705, \"candidato\": 2}], \"GB\": [{\"votos\": 418813, \"candidato\": 0}, {\"votos\": 287836, \"candidato\": 1}, {\"votos\": 250117, \"candidato\": 2}], \"GO\": [{\"votos\": 126671, \"candidato\": 1}, {\"votos\": 125427, \"candidato\": 0}, {\"votos\": 22338, \"candidato\": 2}], \"MA\": [{\"votos\": 81102, \"candidato\": 1}, {\"votos\": 72456, \"candidato\": 2}, {\"votos\": 56727, \"candidato\": 0}], \"MG\": [{\"votos\": 692044, \"candidato\": 0}, {\"votos\": 679951, \"candidato\": 1}, {\"votos\": 183599, \"candidato\": 2}], \"MT\": [{\"votos\": 77531, \"candidato\": 0}, {\"votos\": 58448, \"candidato\": 1}, {\"votos\": 7398, \"candidato\": 2}], \"PA\": [{\"votos\": 102175, \"candidato\": 0}, {\"votos\": 90261, \"candidato\": 1}, {\"votos\": 18074, \"candidato\": 2}], \"PB\": [{\"votos\": 143408, \"candidato\": 0}, {\"votos\": 104725, \"candidato\": 1}, {\"votos\": 18349, \"candidato\": 2}], \"PE\": [{\"votos\": 226211, \"candidato\": 0}, {\"votos\": 185136, \"candidato\": 1}, {\"votos\": 34626, \"candidato\": 2}], \"PI\": [{\"votos\": 61061, \"candidato\": 1}, {\"votos\": 53172, \"candidato\": 0}, {\"votos\": 7780, \"candidato\": 2}], \"PR\": [{\"votos\": 369737, \"candidato\": 0}, {\"votos\": 163810, \"candidato\": 2}, {\"votos\": 122360, \"candidato\": 1}], \"RB\": [{\"votos\": 2057, \"candidato\": 1}, {\"votos\": 1906, \"candidato\": 0}, {\"votos\": 98, \"candidato\": 2}], \"RJ\": [{\"votos\": 249707, \"candidato\": 1}, {\"votos\": 245655, \"candidato\": 0}, {\"votos\": 146485, \"candidato\": 2}], \"RN\": [{\"votos\": 96598, \"candidato\": 0}, {\"votos\": 95721, \"candidato\": 1}, {\"votos\": 15646, \"candidato\": 2}], \"RO\": [{\"votos\": 2301, \"candidato\": 2}, {\"votos\": 1741, \"candidato\": 1}, {\"votos\": 1240, \"candidato\": 0}], \"RS\": [{\"votos\": 541331, \"candidato\": 0}, {\"votos\": 431497, \"candidato\": 1}, {\"votos\": 214963, \"candidato\": 2}], \"SC\": [{\"votos\": 226370, \"candidato\": 0}, {\"votos\": 221813, \"candidato\": 1}, {\"votos\": 41706, \"candidato\": 2}], \"SE\": [{\"votos\": 45341, \"candidato\": 1}, {\"votos\": 42377, \"candidato\": 0}, {\"votos\": 2844, \"candidato\": 2}], \"SP\": [{\"votos\": 1588593, \"candidato\": 0}, {\"votos\": 855093, \"candidato\": 2}, {\"votos\": 441755, \"candidato\": 1}]}}'"
      ]
     },
     "execution_count": 13,
     "metadata": {},
     "output_type": "execute_result"
    }
   ],
   "source": [
    "j"
   ]
  },
  {
   "cell_type": "code",
   "execution_count": 15,
   "metadata": {
    "collapsed": false
   },
   "outputs": [
    {
     "ename": "CParserError",
     "evalue": "Too many columns specified: expected 26 and found 15",
     "output_type": "error",
     "traceback": [
      "\u001b[0;31m---------------------------------------------------------------------------\u001b[0m",
      "\u001b[0;31mCParserError\u001b[0m                              Traceback (most recent call last)",
      "\u001b[0;32m<ipython-input-15-781e162ce832>\u001b[0m in \u001b[0;36m<module>\u001b[0;34m()\u001b[0m\n\u001b[0;32m----> 1\u001b[0;31m \u001b[0mj\u001b[0m \u001b[0;34m=\u001b[0m \u001b[0melection_json\u001b[0m\u001b[0;34m(\u001b[0m\u001b[0;34m'PRESIDENTE'\u001b[0m\u001b[0;34m,\u001b[0m \u001b[0;36m1994\u001b[0m\u001b[0;34m,\u001b[0m \u001b[0;36m1\u001b[0m\u001b[0;34m)\u001b[0m\u001b[0;34m\u001b[0m\u001b[0m\n\u001b[0m\u001b[1;32m      2\u001b[0m \u001b[0mj\u001b[0m\u001b[0;34m\u001b[0m\u001b[0m\n",
      "\u001b[0;32m<ipython-input-4-fffce1f2ddde>\u001b[0m in \u001b[0;36melection_json\u001b[0;34m(cargo, ano, turno)\u001b[0m\n\u001b[1;32m     94\u001b[0m \u001b[0;34m\u001b[0m\u001b[0m\n\u001b[1;32m     95\u001b[0m \u001b[0;32mdef\u001b[0m \u001b[0melection_json\u001b[0m\u001b[0;34m(\u001b[0m\u001b[0mcargo\u001b[0m\u001b[0;34m,\u001b[0m \u001b[0mano\u001b[0m\u001b[0;34m,\u001b[0m \u001b[0mturno\u001b[0m\u001b[0;34m)\u001b[0m\u001b[0;34m:\u001b[0m\u001b[0;34m\u001b[0m\u001b[0m\n\u001b[0;32m---> 96\u001b[0;31m     \u001b[0;32mreturn\u001b[0m \u001b[0mto_json\u001b[0m\u001b[0;34m(\u001b[0m\u001b[0mmount_dic\u001b[0m\u001b[0;34m(\u001b[0m\u001b[0mfilter_data\u001b[0m\u001b[0;34m(\u001b[0m\u001b[0mload_data\u001b[0m\u001b[0;34m(\u001b[0m\u001b[0mano\u001b[0m\u001b[0;34m)\u001b[0m\u001b[0;34m,\u001b[0m \u001b[0mcargo\u001b[0m\u001b[0;34m,\u001b[0m \u001b[0mturno\u001b[0m\u001b[0;34m)\u001b[0m\u001b[0;34m,\u001b[0m \u001b[0mano\u001b[0m\u001b[0;34m,\u001b[0m \u001b[0mturno\u001b[0m\u001b[0;34m)\u001b[0m\u001b[0;34m)\u001b[0m\u001b[0;34m\u001b[0m\u001b[0m\n\u001b[0m",
      "\u001b[0;32m<ipython-input-4-fffce1f2ddde>\u001b[0m in \u001b[0;36mload_data\u001b[0;34m(ano)\u001b[0m\n\u001b[1;32m     43\u001b[0m \u001b[0;34m\u001b[0m\u001b[0m\n\u001b[1;32m     44\u001b[0m     \u001b[0mdf_from_each_file\u001b[0m \u001b[0;34m=\u001b[0m \u001b[0;34m(\u001b[0m\u001b[0mpd\u001b[0m\u001b[0;34m.\u001b[0m\u001b[0mread_csv\u001b[0m\u001b[0;34m(\u001b[0m\u001b[0mf\u001b[0m\u001b[0;34m,\u001b[0m \u001b[0;34m**\u001b[0m\u001b[0moptions\u001b[0m\u001b[0;34m)\u001b[0m \u001b[0;32mfor\u001b[0m \u001b[0mf\u001b[0m \u001b[0;32min\u001b[0m \u001b[0mall_files\u001b[0m\u001b[0;34m)\u001b[0m\u001b[0;34m\u001b[0m\u001b[0m\n\u001b[0;32m---> 45\u001b[0;31m     \u001b[0;32mreturn\u001b[0m \u001b[0mpd\u001b[0m\u001b[0;34m.\u001b[0m\u001b[0mconcat\u001b[0m\u001b[0;34m(\u001b[0m\u001b[0mdf_from_each_file\u001b[0m\u001b[0;34m,\u001b[0m \u001b[0mignore_index\u001b[0m\u001b[0;34m=\u001b[0m\u001b[0;32mTrue\u001b[0m\u001b[0;34m)\u001b[0m\u001b[0;34m\u001b[0m\u001b[0m\n\u001b[0m\u001b[1;32m     46\u001b[0m \u001b[0;34m\u001b[0m\u001b[0m\n\u001b[1;32m     47\u001b[0m \u001b[0;32mdef\u001b[0m \u001b[0mfilter_data\u001b[0m\u001b[0;34m(\u001b[0m\u001b[0mdata\u001b[0m\u001b[0;34m,\u001b[0m \u001b[0mcargo\u001b[0m\u001b[0;34m,\u001b[0m \u001b[0mturno\u001b[0m\u001b[0;34m)\u001b[0m\u001b[0;34m:\u001b[0m\u001b[0;34m\u001b[0m\u001b[0m\n",
      "\u001b[0;32m/home/im/Desktop/brazil_election_history/election_data/env/lib/python3.6/site-packages/pandas/tools/merge.py\u001b[0m in \u001b[0;36mconcat\u001b[0;34m(objs, axis, join, join_axes, ignore_index, keys, levels, names, verify_integrity, copy)\u001b[0m\n\u001b[1;32m   1449\u001b[0m                        \u001b[0mkeys\u001b[0m\u001b[0;34m=\u001b[0m\u001b[0mkeys\u001b[0m\u001b[0;34m,\u001b[0m \u001b[0mlevels\u001b[0m\u001b[0;34m=\u001b[0m\u001b[0mlevels\u001b[0m\u001b[0;34m,\u001b[0m \u001b[0mnames\u001b[0m\u001b[0;34m=\u001b[0m\u001b[0mnames\u001b[0m\u001b[0;34m,\u001b[0m\u001b[0;34m\u001b[0m\u001b[0m\n\u001b[1;32m   1450\u001b[0m                        \u001b[0mverify_integrity\u001b[0m\u001b[0;34m=\u001b[0m\u001b[0mverify_integrity\u001b[0m\u001b[0;34m,\u001b[0m\u001b[0;34m\u001b[0m\u001b[0m\n\u001b[0;32m-> 1451\u001b[0;31m                        copy=copy)\n\u001b[0m\u001b[1;32m   1452\u001b[0m     \u001b[0;32mreturn\u001b[0m \u001b[0mop\u001b[0m\u001b[0;34m.\u001b[0m\u001b[0mget_result\u001b[0m\u001b[0;34m(\u001b[0m\u001b[0;34m)\u001b[0m\u001b[0;34m\u001b[0m\u001b[0m\n\u001b[1;32m   1453\u001b[0m \u001b[0;34m\u001b[0m\u001b[0m\n",
      "\u001b[0;32m/home/im/Desktop/brazil_election_history/election_data/env/lib/python3.6/site-packages/pandas/tools/merge.py\u001b[0m in \u001b[0;36m__init__\u001b[0;34m(self, objs, axis, join, join_axes, keys, levels, names, ignore_index, verify_integrity, copy)\u001b[0m\n\u001b[1;32m   1479\u001b[0m             \u001b[0mobjs\u001b[0m \u001b[0;34m=\u001b[0m \u001b[0;34m[\u001b[0m\u001b[0mobjs\u001b[0m\u001b[0;34m[\u001b[0m\u001b[0mk\u001b[0m\u001b[0;34m]\u001b[0m \u001b[0;32mfor\u001b[0m \u001b[0mk\u001b[0m \u001b[0;32min\u001b[0m \u001b[0mkeys\u001b[0m\u001b[0;34m]\u001b[0m\u001b[0;34m\u001b[0m\u001b[0m\n\u001b[1;32m   1480\u001b[0m         \u001b[0;32melse\u001b[0m\u001b[0;34m:\u001b[0m\u001b[0;34m\u001b[0m\u001b[0m\n\u001b[0;32m-> 1481\u001b[0;31m             \u001b[0mobjs\u001b[0m \u001b[0;34m=\u001b[0m \u001b[0mlist\u001b[0m\u001b[0;34m(\u001b[0m\u001b[0mobjs\u001b[0m\u001b[0;34m)\u001b[0m\u001b[0;34m\u001b[0m\u001b[0m\n\u001b[0m\u001b[1;32m   1482\u001b[0m \u001b[0;34m\u001b[0m\u001b[0m\n\u001b[1;32m   1483\u001b[0m         \u001b[0;32mif\u001b[0m \u001b[0mlen\u001b[0m\u001b[0;34m(\u001b[0m\u001b[0mobjs\u001b[0m\u001b[0;34m)\u001b[0m \u001b[0;34m==\u001b[0m \u001b[0;36m0\u001b[0m\u001b[0;34m:\u001b[0m\u001b[0;34m\u001b[0m\u001b[0m\n",
      "\u001b[0;32m<ipython-input-4-fffce1f2ddde>\u001b[0m in \u001b[0;36m<genexpr>\u001b[0;34m(.0)\u001b[0m\n\u001b[1;32m     42\u001b[0m     }\n\u001b[1;32m     43\u001b[0m \u001b[0;34m\u001b[0m\u001b[0m\n\u001b[0;32m---> 44\u001b[0;31m     \u001b[0mdf_from_each_file\u001b[0m \u001b[0;34m=\u001b[0m \u001b[0;34m(\u001b[0m\u001b[0mpd\u001b[0m\u001b[0;34m.\u001b[0m\u001b[0mread_csv\u001b[0m\u001b[0;34m(\u001b[0m\u001b[0mf\u001b[0m\u001b[0;34m,\u001b[0m \u001b[0;34m**\u001b[0m\u001b[0moptions\u001b[0m\u001b[0;34m)\u001b[0m \u001b[0;32mfor\u001b[0m \u001b[0mf\u001b[0m \u001b[0;32min\u001b[0m \u001b[0mall_files\u001b[0m\u001b[0;34m)\u001b[0m\u001b[0;34m\u001b[0m\u001b[0m\n\u001b[0m\u001b[1;32m     45\u001b[0m     \u001b[0;32mreturn\u001b[0m \u001b[0mpd\u001b[0m\u001b[0;34m.\u001b[0m\u001b[0mconcat\u001b[0m\u001b[0;34m(\u001b[0m\u001b[0mdf_from_each_file\u001b[0m\u001b[0;34m,\u001b[0m \u001b[0mignore_index\u001b[0m\u001b[0;34m=\u001b[0m\u001b[0;32mTrue\u001b[0m\u001b[0;34m)\u001b[0m\u001b[0;34m\u001b[0m\u001b[0m\n\u001b[1;32m     46\u001b[0m \u001b[0;34m\u001b[0m\u001b[0m\n",
      "\u001b[0;32m/home/im/Desktop/brazil_election_history/election_data/env/lib/python3.6/site-packages/pandas/io/parsers.py\u001b[0m in \u001b[0;36mparser_f\u001b[0;34m(filepath_or_buffer, sep, delimiter, header, names, index_col, usecols, squeeze, prefix, mangle_dupe_cols, dtype, engine, converters, true_values, false_values, skipinitialspace, skiprows, nrows, na_values, keep_default_na, na_filter, verbose, skip_blank_lines, parse_dates, infer_datetime_format, keep_date_col, date_parser, dayfirst, iterator, chunksize, compression, thousands, decimal, lineterminator, quotechar, quoting, escapechar, comment, encoding, dialect, tupleize_cols, error_bad_lines, warn_bad_lines, skipfooter, skip_footer, doublequote, delim_whitespace, as_recarray, compact_ints, use_unsigned, low_memory, buffer_lines, memory_map, float_precision)\u001b[0m\n\u001b[1;32m    644\u001b[0m                     skip_blank_lines=skip_blank_lines)\n\u001b[1;32m    645\u001b[0m \u001b[0;34m\u001b[0m\u001b[0m\n\u001b[0;32m--> 646\u001b[0;31m         \u001b[0;32mreturn\u001b[0m \u001b[0m_read\u001b[0m\u001b[0;34m(\u001b[0m\u001b[0mfilepath_or_buffer\u001b[0m\u001b[0;34m,\u001b[0m \u001b[0mkwds\u001b[0m\u001b[0;34m)\u001b[0m\u001b[0;34m\u001b[0m\u001b[0m\n\u001b[0m\u001b[1;32m    647\u001b[0m \u001b[0;34m\u001b[0m\u001b[0m\n\u001b[1;32m    648\u001b[0m     \u001b[0mparser_f\u001b[0m\u001b[0;34m.\u001b[0m\u001b[0m__name__\u001b[0m \u001b[0;34m=\u001b[0m \u001b[0mname\u001b[0m\u001b[0;34m\u001b[0m\u001b[0m\n",
      "\u001b[0;32m/home/im/Desktop/brazil_election_history/election_data/env/lib/python3.6/site-packages/pandas/io/parsers.py\u001b[0m in \u001b[0;36m_read\u001b[0;34m(filepath_or_buffer, kwds)\u001b[0m\n\u001b[1;32m    399\u001b[0m         \u001b[0;32mreturn\u001b[0m \u001b[0mparser\u001b[0m\u001b[0;34m\u001b[0m\u001b[0m\n\u001b[1;32m    400\u001b[0m \u001b[0;34m\u001b[0m\u001b[0m\n\u001b[0;32m--> 401\u001b[0;31m     \u001b[0mdata\u001b[0m \u001b[0;34m=\u001b[0m \u001b[0mparser\u001b[0m\u001b[0;34m.\u001b[0m\u001b[0mread\u001b[0m\u001b[0;34m(\u001b[0m\u001b[0;34m)\u001b[0m\u001b[0;34m\u001b[0m\u001b[0m\n\u001b[0m\u001b[1;32m    402\u001b[0m     \u001b[0mparser\u001b[0m\u001b[0;34m.\u001b[0m\u001b[0mclose\u001b[0m\u001b[0;34m(\u001b[0m\u001b[0;34m)\u001b[0m\u001b[0;34m\u001b[0m\u001b[0m\n\u001b[1;32m    403\u001b[0m     \u001b[0;32mreturn\u001b[0m \u001b[0mdata\u001b[0m\u001b[0;34m\u001b[0m\u001b[0m\n",
      "\u001b[0;32m/home/im/Desktop/brazil_election_history/election_data/env/lib/python3.6/site-packages/pandas/io/parsers.py\u001b[0m in \u001b[0;36mread\u001b[0;34m(self, nrows)\u001b[0m\n\u001b[1;32m    937\u001b[0m                 \u001b[0;32mraise\u001b[0m \u001b[0mValueError\u001b[0m\u001b[0;34m(\u001b[0m\u001b[0;34m'skipfooter not supported for iteration'\u001b[0m\u001b[0;34m)\u001b[0m\u001b[0;34m\u001b[0m\u001b[0m\n\u001b[1;32m    938\u001b[0m \u001b[0;34m\u001b[0m\u001b[0m\n\u001b[0;32m--> 939\u001b[0;31m         \u001b[0mret\u001b[0m \u001b[0;34m=\u001b[0m \u001b[0mself\u001b[0m\u001b[0;34m.\u001b[0m\u001b[0m_engine\u001b[0m\u001b[0;34m.\u001b[0m\u001b[0mread\u001b[0m\u001b[0;34m(\u001b[0m\u001b[0mnrows\u001b[0m\u001b[0;34m)\u001b[0m\u001b[0;34m\u001b[0m\u001b[0m\n\u001b[0m\u001b[1;32m    940\u001b[0m \u001b[0;34m\u001b[0m\u001b[0m\n\u001b[1;32m    941\u001b[0m         \u001b[0;32mif\u001b[0m \u001b[0mself\u001b[0m\u001b[0;34m.\u001b[0m\u001b[0moptions\u001b[0m\u001b[0;34m.\u001b[0m\u001b[0mget\u001b[0m\u001b[0;34m(\u001b[0m\u001b[0;34m'as_recarray'\u001b[0m\u001b[0;34m)\u001b[0m\u001b[0;34m:\u001b[0m\u001b[0;34m\u001b[0m\u001b[0m\n",
      "\u001b[0;32m/home/im/Desktop/brazil_election_history/election_data/env/lib/python3.6/site-packages/pandas/io/parsers.py\u001b[0m in \u001b[0;36mread\u001b[0;34m(self, nrows)\u001b[0m\n\u001b[1;32m   1506\u001b[0m     \u001b[0;32mdef\u001b[0m \u001b[0mread\u001b[0m\u001b[0;34m(\u001b[0m\u001b[0mself\u001b[0m\u001b[0;34m,\u001b[0m \u001b[0mnrows\u001b[0m\u001b[0;34m=\u001b[0m\u001b[0;32mNone\u001b[0m\u001b[0;34m)\u001b[0m\u001b[0;34m:\u001b[0m\u001b[0;34m\u001b[0m\u001b[0m\n\u001b[1;32m   1507\u001b[0m         \u001b[0;32mtry\u001b[0m\u001b[0;34m:\u001b[0m\u001b[0;34m\u001b[0m\u001b[0m\n\u001b[0;32m-> 1508\u001b[0;31m             \u001b[0mdata\u001b[0m \u001b[0;34m=\u001b[0m \u001b[0mself\u001b[0m\u001b[0;34m.\u001b[0m\u001b[0m_reader\u001b[0m\u001b[0;34m.\u001b[0m\u001b[0mread\u001b[0m\u001b[0;34m(\u001b[0m\u001b[0mnrows\u001b[0m\u001b[0;34m)\u001b[0m\u001b[0;34m\u001b[0m\u001b[0m\n\u001b[0m\u001b[1;32m   1509\u001b[0m         \u001b[0;32mexcept\u001b[0m \u001b[0mStopIteration\u001b[0m\u001b[0;34m:\u001b[0m\u001b[0;34m\u001b[0m\u001b[0m\n\u001b[1;32m   1510\u001b[0m             \u001b[0;32mif\u001b[0m \u001b[0mself\u001b[0m\u001b[0;34m.\u001b[0m\u001b[0m_first_chunk\u001b[0m\u001b[0;34m:\u001b[0m\u001b[0;34m\u001b[0m\u001b[0m\n",
      "\u001b[0;32mpandas/parser.pyx\u001b[0m in \u001b[0;36mpandas.parser.TextReader.read (pandas/parser.c:9977)\u001b[0;34m()\u001b[0m\n",
      "\u001b[0;32mpandas/parser.pyx\u001b[0m in \u001b[0;36mpandas.parser.TextReader._read_low_memory (pandas/parser.c:10235)\u001b[0;34m()\u001b[0m\n",
      "\u001b[0;32mpandas/parser.pyx\u001b[0m in \u001b[0;36mpandas.parser.TextReader._read_rows (pandas/parser.c:11254)\u001b[0;34m()\u001b[0m\n",
      "\u001b[0;32mpandas/parser.pyx\u001b[0m in \u001b[0;36mpandas.parser.TextReader._convert_column_data (pandas/parser.c:12165)\u001b[0;34m()\u001b[0m\n",
      "\u001b[0;31mCParserError\u001b[0m: Too many columns specified: expected 26 and found 15"
     ]
    }
   ],
   "source": [
    "j = election_json('PRESIDENTE', 1994, 1)\n",
    "j"
   ]
  },
  {
   "cell_type": "code",
   "execution_count": null,
   "metadata": {
    "collapsed": true
   },
   "outputs": [],
   "source": []
  },
  {
   "cell_type": "code",
   "execution_count": null,
   "metadata": {
    "collapsed": true
   },
   "outputs": [],
   "source": []
  },
  {
   "cell_type": "code",
   "execution_count": null,
   "metadata": {
    "collapsed": true
   },
   "outputs": [],
   "source": []
  },
  {
   "cell_type": "code",
   "execution_count": null,
   "metadata": {
    "collapsed": true
   },
   "outputs": [],
   "source": []
  },
  {
   "cell_type": "code",
   "execution_count": null,
   "metadata": {
    "collapsed": true
   },
   "outputs": [],
   "source": []
  },
  {
   "cell_type": "code",
   "execution_count": null,
   "metadata": {
    "collapsed": true
   },
   "outputs": [],
   "source": []
  },
  {
   "cell_type": "code",
   "execution_count": null,
   "metadata": {
    "collapsed": true
   },
   "outputs": [],
   "source": []
  },
  {
   "cell_type": "code",
   "execution_count": null,
   "metadata": {
    "collapsed": true
   },
   "outputs": [],
   "source": []
  },
  {
   "cell_type": "code",
   "execution_count": null,
   "metadata": {
    "collapsed": true
   },
   "outputs": [],
   "source": []
  },
  {
   "cell_type": "code",
   "execution_count": null,
   "metadata": {
    "collapsed": true
   },
   "outputs": [],
   "source": []
  },
  {
   "cell_type": "code",
   "execution_count": null,
   "metadata": {
    "collapsed": true
   },
   "outputs": [],
   "source": []
  },
  {
   "cell_type": "code",
   "execution_count": null,
   "metadata": {
    "collapsed": true
   },
   "outputs": [],
   "source": []
  },
  {
   "cell_type": "code",
   "execution_count": null,
   "metadata": {
    "collapsed": true
   },
   "outputs": [],
   "source": []
  },
  {
   "cell_type": "code",
   "execution_count": null,
   "metadata": {
    "collapsed": true
   },
   "outputs": [],
   "source": []
  },
  {
   "cell_type": "code",
   "execution_count": null,
   "metadata": {
    "collapsed": true
   },
   "outputs": [],
   "source": []
  },
  {
   "cell_type": "code",
   "execution_count": null,
   "metadata": {
    "collapsed": true
   },
   "outputs": [],
   "source": []
  },
  {
   "cell_type": "code",
   "execution_count": null,
   "metadata": {
    "collapsed": true
   },
   "outputs": [],
   "source": []
  },
  {
   "cell_type": "code",
   "execution_count": null,
   "metadata": {
    "collapsed": true
   },
   "outputs": [],
   "source": []
  },
  {
   "cell_type": "code",
   "execution_count": null,
   "metadata": {
    "collapsed": true
   },
   "outputs": [],
   "source": []
  },
  {
   "cell_type": "code",
   "execution_count": null,
   "metadata": {
    "collapsed": true
   },
   "outputs": [],
   "source": []
  },
  {
   "cell_type": "code",
   "execution_count": null,
   "metadata": {
    "collapsed": true
   },
   "outputs": [],
   "source": []
  },
  {
   "cell_type": "code",
   "execution_count": null,
   "metadata": {
    "collapsed": true
   },
   "outputs": [],
   "source": []
  },
  {
   "cell_type": "code",
   "execution_count": null,
   "metadata": {
    "collapsed": true
   },
   "outputs": [],
   "source": []
  }
 ],
 "metadata": {
  "kernelspec": {
   "display_name": "election_history",
   "language": "python",
   "name": "election_data"
  },
  "language_info": {
   "codemirror_mode": {
    "name": "ipython",
    "version": 3
   },
   "file_extension": ".py",
   "mimetype": "text/x-python",
   "name": "python",
   "nbconvert_exporter": "python",
   "pygments_lexer": "ipython3",
   "version": "3.6.0"
  }
 },
 "nbformat": 4,
 "nbformat_minor": 1
}
