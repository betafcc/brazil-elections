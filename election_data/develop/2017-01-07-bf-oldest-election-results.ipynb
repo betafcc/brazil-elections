{
 "cells": [
  {
   "cell_type": "markdown",
   "metadata": {},
   "source": [
    "# 1945 Election Results"
   ]
  },
  {
   "cell_type": "markdown",
   "metadata": {},
   "source": [
    "# This notebook aims to:\n",
    "    - [X] Achar dados do resultado da eleição de 1945\n",
    "    - [X] Baixa-los\n",
    "    - [X] Parsea-los como DataFrame\n",
    "    - [X] Aprender a traversar\n",
    "    - [X] Achar o resultado geral\n",
    "    - [X] Achar o resultado por UF"
   ]
  },
  {
   "cell_type": "code",
   "execution_count": 3,
   "metadata": {
    "collapsed": true
   },
   "outputs": [],
   "source": [
    "from IPython.display import IFrame"
   ]
  },
  {
   "cell_type": "code",
   "execution_count": 6,
   "metadata": {
    "collapsed": false
   },
   "outputs": [
    {
     "data": {
      "text/html": [
       "\n",
       "        <iframe\n",
       "            width=\"800\"\n",
       "            height=\"400\"\n",
       "            src=\"http://www.tse.jus.br/hotSites/pesquisas-eleitorais/resultados_anos/1945.html\"\n",
       "            frameborder=\"0\"\n",
       "            allowfullscreen\n",
       "        ></iframe>\n",
       "        "
      ],
      "text/plain": [
       "<IPython.lib.display.IFrame at 0x7ff330db2630>"
      ]
     },
     "execution_count": 6,
     "metadata": {},
     "output_type": "execute_result"
    }
   ],
   "source": [
    "IFrame(\n",
    "    'http://www.tse.jus.br/hotSites/pesquisas-eleitorais/resultados_anos/1945.html',\n",
    "    800, 400\n",
    ")"
   ]
  },
  {
   "cell_type": "markdown",
   "metadata": {},
   "source": [
    "## Faça download dos dados"
   ]
  },
  {
   "cell_type": "code",
   "execution_count": 7,
   "metadata": {
    "collapsed": true
   },
   "outputs": [],
   "source": [
    "from os import mkdir, listdir"
   ]
  },
  {
   "cell_type": "code",
   "execution_count": 8,
   "metadata": {
    "collapsed": true
   },
   "outputs": [],
   "source": [
    "import wget"
   ]
  },
  {
   "cell_type": "code",
   "execution_count": 9,
   "metadata": {
    "collapsed": true
   },
   "outputs": [],
   "source": [
    "zip_folder   = '../data/votacao_candidato_uf_1945_ZIP'\n",
    "unzip_folder = '../data/votacao_candidato_uf_1945_UNZIP'"
   ]
  },
  {
   "cell_type": "code",
   "execution_count": 12,
   "metadata": {
    "collapsed": false
   },
   "outputs": [],
   "source": [
    "# mkdir(zip_folder)\n",
    "# wget.download(\n",
    "#     'http://agencia.tse.jus.br/estatistica/sead/odsele/votacao_candidato_uf/votacao_candidato_uf_1945.zip',\n",
    "#     out=zip_folder\n",
    "# )"
   ]
  },
  {
   "cell_type": "code",
   "execution_count": 13,
   "metadata": {
    "collapsed": false
   },
   "outputs": [
    {
     "data": {
      "text/plain": [
       "['votacao_candidato_uf_1945.zip']"
      ]
     },
     "execution_count": 13,
     "metadata": {},
     "output_type": "execute_result"
    }
   ],
   "source": [
    "listdir(zip_folder)"
   ]
  },
  {
   "cell_type": "markdown",
   "metadata": {},
   "source": [
    "## Unzipe"
   ]
  },
  {
   "cell_type": "code",
   "execution_count": 17,
   "metadata": {
    "collapsed": true
   },
   "outputs": [],
   "source": [
    "# from zipfile import ZipFile"
   ]
  },
  {
   "cell_type": "code",
   "execution_count": 18,
   "metadata": {
    "collapsed": true
   },
   "outputs": [],
   "source": [
    "# for file in listdir(zip_folder):\n",
    "#     with ZipFile(f'{zip_folder}/{file}', 'r') as zip_file:\n",
    "#         zip_file.extractall(unzip_folder)"
   ]
  },
  {
   "cell_type": "code",
   "execution_count": 19,
   "metadata": {
    "collapsed": false
   },
   "outputs": [
    {
     "data": {
      "text/plain": [
       "['VOTACAO_CANDIDATO_UF_1945']"
      ]
     },
     "execution_count": 19,
     "metadata": {},
     "output_type": "execute_result"
    }
   ],
   "source": [
    "listdir(unzip_folder)"
   ]
  },
  {
   "cell_type": "markdown",
   "metadata": {},
   "source": [
    "## Mostre o PDF com instruções para o uso"
   ]
  },
  {
   "cell_type": "code",
   "execution_count": 21,
   "metadata": {
    "collapsed": false
   },
   "outputs": [
    {
     "data": {
      "text/html": [
       "\n",
       "        <iframe\n",
       "            width=\"800\"\n",
       "            height=\"600\"\n",
       "            src=\"../data/votacao_candidato_uf_1945_UNZIP/VOTACAO_CANDIDATO_UF_1945/Leia-me.pdf#6\"\n",
       "            frameborder=\"0\"\n",
       "            allowfullscreen\n",
       "        ></iframe>\n",
       "        "
      ],
      "text/plain": [
       "<IPython.lib.display.IFrame at 0x7ff330db9710>"
      ]
     },
     "execution_count": 21,
     "metadata": {},
     "output_type": "execute_result"
    }
   ],
   "source": [
    "IFrame(\n",
    "    '../data/votacao_candidato_uf_1945_UNZIP/VOTACAO_CANDIDATO_UF_1945/Leia-me.pdf#6',\n",
    "    800, 600\n",
    ")"
   ]
  },
  {
   "cell_type": "markdown",
   "metadata": {},
   "source": [
    "## Copie o indice"
   ]
  },
  {
   "cell_type": "code",
   "execution_count": 22,
   "metadata": {
    "collapsed": true
   },
   "outputs": [],
   "source": [
    "variaveis = [\n",
    "    'DATA_GERACAO', 'HORA_GERACAO', 'ANO_ELEICAO',\n",
    "    'NUM_TURNO', 'DESCRICAO_ELEICAO', 'SIGLA_UF',\n",
    "    'SIGLA_UE', 'CODIGO_CARGO', 'NUMERO_CAND', \n",
    "    'SQ_CANDIDATO', 'NOME_CANDIDATO', 'NOME_URNA_CANDIDATO',\n",
    "    'DESCRICAO_CARGO', 'COD_SIT_CAND_SUPERIOR', 'DESC_SIT_CAND_SUPERIOR',\n",
    "    'CODIGO_SIT_CANDIDATO', 'DESC_SIT_CANDIDATO', 'CODIGO_SIT_CAND_TOT',\n",
    "    'DESC_SIT_CAND_TOT', 'NUMERO_PARTIDO', 'SIGLA_PARTIDO',\n",
    "    'NOME_PARTIDO', 'SEQUENCIAL_LEGENDA', 'NOME_COLIGACAO',\n",
    "    'COMPOSICAO_LEGENDA', 'TOTAL_VOTOS'\n",
    "]"
   ]
  },
  {
   "cell_type": "markdown",
   "metadata": {},
   "source": [
    "## Carregue a DataFrame dos dados do RJ"
   ]
  },
  {
   "cell_type": "code",
   "execution_count": 23,
   "metadata": {
    "collapsed": true
   },
   "outputs": [],
   "source": [
    "import pandas as pd"
   ]
  },
  {
   "cell_type": "code",
   "execution_count": 24,
   "metadata": {
    "collapsed": false
   },
   "outputs": [
    {
     "data": {
      "text/html": [
       "<div>\n",
       "<table border=\"1\" class=\"dataframe\">\n",
       "  <thead>\n",
       "    <tr style=\"text-align: right;\">\n",
       "      <th></th>\n",
       "      <th>DATA_GERACAO</th>\n",
       "      <th>HORA_GERACAO</th>\n",
       "      <th>ANO_ELEICAO</th>\n",
       "      <th>NUM_TURNO</th>\n",
       "      <th>DESCRICAO_ELEICAO</th>\n",
       "      <th>SIGLA_UF</th>\n",
       "      <th>SIGLA_UE</th>\n",
       "      <th>CODIGO_CARGO</th>\n",
       "      <th>NUMERO_CAND</th>\n",
       "      <th>SQ_CANDIDATO</th>\n",
       "      <th>...</th>\n",
       "      <th>DESC_SIT_CANDIDATO</th>\n",
       "      <th>CODIGO_SIT_CAND_TOT</th>\n",
       "      <th>DESC_SIT_CAND_TOT</th>\n",
       "      <th>NUMERO_PARTIDO</th>\n",
       "      <th>SIGLA_PARTIDO</th>\n",
       "      <th>NOME_PARTIDO</th>\n",
       "      <th>SEQUENCIAL_LEGENDA</th>\n",
       "      <th>NOME_COLIGACAO</th>\n",
       "      <th>COMPOSICAO_LEGENDA</th>\n",
       "      <th>TOTAL_VOTOS</th>\n",
       "    </tr>\n",
       "  </thead>\n",
       "  <tbody>\n",
       "    <tr>\n",
       "      <th>0</th>\n",
       "      <td>30/4/2014</td>\n",
       "      <td>16:31:48</td>\n",
       "      <td>1945</td>\n",
       "      <td>1</td>\n",
       "      <td>ELEIÇÕES 1945</td>\n",
       "      <td>RJ</td>\n",
       "      <td>BR</td>\n",
       "      <td>1</td>\n",
       "      <td>-1</td>\n",
       "      <td>-3</td>\n",
       "      <td>...</td>\n",
       "      <td>DEFERIDO</td>\n",
       "      <td>1</td>\n",
       "      <td>ELEITO</td>\n",
       "      <td>-3</td>\n",
       "      <td>PSD</td>\n",
       "      <td>PARTIDO SOCIAL DEMOCRÁTICO</td>\n",
       "      <td>-3</td>\n",
       "      <td>#NULO#</td>\n",
       "      <td>PRP / PSD</td>\n",
       "      <td>178073</td>\n",
       "    </tr>\n",
       "    <tr>\n",
       "      <th>1</th>\n",
       "      <td>30/4/2014</td>\n",
       "      <td>16:31:48</td>\n",
       "      <td>1945</td>\n",
       "      <td>1</td>\n",
       "      <td>ELEIÇÕES 1945</td>\n",
       "      <td>RJ</td>\n",
       "      <td>BR</td>\n",
       "      <td>1</td>\n",
       "      <td>-1</td>\n",
       "      <td>-3</td>\n",
       "      <td>...</td>\n",
       "      <td>DEFERIDO</td>\n",
       "      <td>4</td>\n",
       "      <td>NÃO ELEITO</td>\n",
       "      <td>-3</td>\n",
       "      <td>UDN</td>\n",
       "      <td>UNIÃO DEMOCRÁTICA NACIONAL</td>\n",
       "      <td>-3</td>\n",
       "      <td>#NULO#</td>\n",
       "      <td>UDN / PR / PL / PRP</td>\n",
       "      <td>99706</td>\n",
       "    </tr>\n",
       "    <tr>\n",
       "      <th>2</th>\n",
       "      <td>30/4/2014</td>\n",
       "      <td>16:31:48</td>\n",
       "      <td>1945</td>\n",
       "      <td>1</td>\n",
       "      <td>ELEIÇÕES 1945</td>\n",
       "      <td>RJ</td>\n",
       "      <td>BR</td>\n",
       "      <td>1</td>\n",
       "      <td>-1</td>\n",
       "      <td>-3</td>\n",
       "      <td>...</td>\n",
       "      <td>DEFERIDO</td>\n",
       "      <td>4</td>\n",
       "      <td>NÃO ELEITO</td>\n",
       "      <td>-3</td>\n",
       "      <td>PAN</td>\n",
       "      <td>PARTIDO AGRARIO NACIONAL</td>\n",
       "      <td>-3</td>\n",
       "      <td>#NULO#</td>\n",
       "      <td>PAN</td>\n",
       "      <td>410</td>\n",
       "    </tr>\n",
       "    <tr>\n",
       "      <th>3</th>\n",
       "      <td>30/4/2014</td>\n",
       "      <td>16:31:48</td>\n",
       "      <td>1945</td>\n",
       "      <td>1</td>\n",
       "      <td>ELEIÇÕES 1945</td>\n",
       "      <td>RJ</td>\n",
       "      <td>BR</td>\n",
       "      <td>1</td>\n",
       "      <td>-1</td>\n",
       "      <td>-3</td>\n",
       "      <td>...</td>\n",
       "      <td>DEFERIDO</td>\n",
       "      <td>4</td>\n",
       "      <td>NÃO ELEITO</td>\n",
       "      <td>-3</td>\n",
       "      <td>PCB</td>\n",
       "      <td>PARTIDO COMUNISTA DO BRASIL</td>\n",
       "      <td>-3</td>\n",
       "      <td>#NULO#</td>\n",
       "      <td>PCB</td>\n",
       "      <td>42538</td>\n",
       "    </tr>\n",
       "    <tr>\n",
       "      <th>4</th>\n",
       "      <td>30/4/2014</td>\n",
       "      <td>18:26:22</td>\n",
       "      <td>1945</td>\n",
       "      <td>1</td>\n",
       "      <td>ELEIÇÕES 1945</td>\n",
       "      <td>RJ</td>\n",
       "      <td>RJ</td>\n",
       "      <td>5</td>\n",
       "      <td>-1</td>\n",
       "      <td>-3</td>\n",
       "      <td>...</td>\n",
       "      <td>DEFERIDO</td>\n",
       "      <td>1</td>\n",
       "      <td>ELEITO</td>\n",
       "      <td>-3</td>\n",
       "      <td>PSD</td>\n",
       "      <td>PARTIDO SOCIAL DEMOCRÁTICO</td>\n",
       "      <td>-3</td>\n",
       "      <td>#NULO#</td>\n",
       "      <td>PSD</td>\n",
       "      <td>150154</td>\n",
       "    </tr>\n",
       "  </tbody>\n",
       "</table>\n",
       "<p>5 rows × 26 columns</p>\n",
       "</div>"
      ],
      "text/plain": [
       "  DATA_GERACAO HORA_GERACAO  ANO_ELEICAO  NUM_TURNO DESCRICAO_ELEICAO  \\\n",
       "0    30/4/2014     16:31:48         1945          1     ELEIÇÕES 1945   \n",
       "1    30/4/2014     16:31:48         1945          1     ELEIÇÕES 1945   \n",
       "2    30/4/2014     16:31:48         1945          1     ELEIÇÕES 1945   \n",
       "3    30/4/2014     16:31:48         1945          1     ELEIÇÕES 1945   \n",
       "4    30/4/2014     18:26:22         1945          1     ELEIÇÕES 1945   \n",
       "\n",
       "  SIGLA_UF SIGLA_UE  CODIGO_CARGO  NUMERO_CAND  SQ_CANDIDATO     ...       \\\n",
       "0       RJ       BR             1           -1            -3     ...        \n",
       "1       RJ       BR             1           -1            -3     ...        \n",
       "2       RJ       BR             1           -1            -3     ...        \n",
       "3       RJ       BR             1           -1            -3     ...        \n",
       "4       RJ       RJ             5           -1            -3     ...        \n",
       "\n",
       "  DESC_SIT_CANDIDATO CODIGO_SIT_CAND_TOT DESC_SIT_CAND_TOT  NUMERO_PARTIDO  \\\n",
       "0           DEFERIDO                   1            ELEITO              -3   \n",
       "1           DEFERIDO                   4        NÃO ELEITO              -3   \n",
       "2           DEFERIDO                   4        NÃO ELEITO              -3   \n",
       "3           DEFERIDO                   4        NÃO ELEITO              -3   \n",
       "4           DEFERIDO                   1            ELEITO              -3   \n",
       "\n",
       "  SIGLA_PARTIDO                 NOME_PARTIDO SEQUENCIAL_LEGENDA  \\\n",
       "0           PSD   PARTIDO SOCIAL DEMOCRÁTICO                 -3   \n",
       "1           UDN   UNIÃO DEMOCRÁTICA NACIONAL                 -3   \n",
       "2           PAN     PARTIDO AGRARIO NACIONAL                 -3   \n",
       "3           PCB  PARTIDO COMUNISTA DO BRASIL                 -3   \n",
       "4           PSD   PARTIDO SOCIAL DEMOCRÁTICO                 -3   \n",
       "\n",
       "   NOME_COLIGACAO   COMPOSICAO_LEGENDA  TOTAL_VOTOS  \n",
       "0          #NULO#            PRP / PSD       178073  \n",
       "1          #NULO#  UDN / PR / PL / PRP        99706  \n",
       "2          #NULO#                  PAN          410  \n",
       "3          #NULO#                  PCB        42538  \n",
       "4          #NULO#                  PSD       150154  \n",
       "\n",
       "[5 rows x 26 columns]"
      ]
     },
     "execution_count": 24,
     "metadata": {},
     "output_type": "execute_result"
    }
   ],
   "source": [
    "df = pd.read_csv(\n",
    "    '../data/votacao_candidato_uf_1945_UNZIP/VOTACAO_CANDIDATO_UF_1945/VOTACAO_CANDIDATO_UF_1945_RJ.txt',\n",
    "    encoding='latin1', sep=';', names=variaveis,\n",
    "    index_col=False\n",
    ")\n",
    "\n",
    "df.head()"
   ]
  },
  {
   "cell_type": "code",
   "execution_count": 25,
   "metadata": {
    "collapsed": false
   },
   "outputs": [
    {
     "data": {
      "text/plain": [
       "113"
      ]
     },
     "execution_count": 25,
     "metadata": {},
     "output_type": "execute_result"
    }
   ],
   "source": [
    "len(df)"
   ]
  },
  {
   "cell_type": "code",
   "execution_count": 26,
   "metadata": {
    "collapsed": false
   },
   "outputs": [
    {
     "data": {
      "text/plain": [
       "DATA_GERACAO                                30/4/2014\n",
       "HORA_GERACAO                                 16:31:48\n",
       "ANO_ELEICAO                                      1945\n",
       "NUM_TURNO                                           1\n",
       "DESCRICAO_ELEICAO                       ELEIÇÕES 1945\n",
       "SIGLA_UF                                           RJ\n",
       "SIGLA_UE                                           BR\n",
       "CODIGO_CARGO                                        1\n",
       "NUMERO_CAND                                        -1\n",
       "SQ_CANDIDATO                                       -3\n",
       "NOME_CANDIDATO                    EURICO GASPAR DUTRA\n",
       "NOME_URNA_CANDIDATO       GENERAL EURICO GASPAR DUTRA\n",
       "DESCRICAO_CARGO                            PRESIDENTE\n",
       "COD_SIT_CAND_SUPERIOR                              -1\n",
       "DESC_SIT_CAND_SUPERIOR                         #NULO#\n",
       "CODIGO_SIT_CANDIDATO                                2\n",
       "DESC_SIT_CANDIDATO                           DEFERIDO\n",
       "CODIGO_SIT_CAND_TOT                                 1\n",
       "DESC_SIT_CAND_TOT                              ELEITO\n",
       "NUMERO_PARTIDO                                     -3\n",
       "SIGLA_PARTIDO                                     PSD\n",
       "NOME_PARTIDO               PARTIDO SOCIAL DEMOCRÁTICO\n",
       "SEQUENCIAL_LEGENDA                                 -3\n",
       "NOME_COLIGACAO                                 #NULO#\n",
       "COMPOSICAO_LEGENDA                          PRP / PSD\n",
       "TOTAL_VOTOS                                    178073\n",
       "Name: 0, dtype: object"
      ]
     },
     "execution_count": 26,
     "metadata": {},
     "output_type": "execute_result"
    }
   ],
   "source": [
    "df.loc[0]"
   ]
  },
  {
   "cell_type": "markdown",
   "metadata": {},
   "source": [
    "## Quem ganhou as eleições pelo RJ?"
   ]
  },
  {
   "cell_type": "code",
   "execution_count": 42,
   "metadata": {
    "collapsed": false
   },
   "outputs": [],
   "source": [
    "f = df[df.NUM_TURNO == 1]\n",
    "f = f[f.DESCRICAO_CARGO == 'PRESIDENTE']\n",
    "g = f.groupby('NOME_URNA_CANDIDATO')"
   ]
  },
  {
   "cell_type": "code",
   "execution_count": 43,
   "metadata": {
    "collapsed": false
   },
   "outputs": [
    {
     "data": {
      "text/plain": [
       "NOME_URNA_CANDIDATO\n",
       "GENERAL EURICO GASPAR DUTRA       178073\n",
       "MAJOR BRIGADEIRO EDUARDO GOMES     99706\n",
       "YEDDO FIUZA                        42538\n",
       "ROLLIM TELLES                        410\n",
       "Name: TOTAL_VOTOS, dtype: int64"
      ]
     },
     "execution_count": 43,
     "metadata": {},
     "output_type": "execute_result"
    }
   ],
   "source": [
    "g.TOTAL_VOTOS.sum().sort_values(ascending=False)"
   ]
  },
  {
   "cell_type": "markdown",
   "metadata": {},
   "source": [
    "## Carregue todos os arquivos numa única DataFrame"
   ]
  },
  {
   "cell_type": "code",
   "execution_count": 46,
   "metadata": {
    "collapsed": true
   },
   "outputs": [],
   "source": [
    "import os\n",
    "import glob"
   ]
  },
  {
   "cell_type": "code",
   "execution_count": 49,
   "metadata": {
    "collapsed": false
   },
   "outputs": [],
   "source": [
    "path = r'../data/votacao_candidato_uf_1945_UNZIP/VOTACAO_CANDIDATO_UF_1945/'\n",
    "all_files = glob.glob(os.path.join(path, '*.txt'))"
   ]
  },
  {
   "cell_type": "code",
   "execution_count": 51,
   "metadata": {
    "collapsed": false
   },
   "outputs": [],
   "source": [
    "options = {\n",
    "    'encoding': 'latin1',\n",
    "    'sep': ';',\n",
    "    'names': variaveis,\n",
    "    'index_col': False\n",
    "}\n",
    "\n",
    "df_from_each_file = (pd.read_csv(f, **options) for f in all_files)\n",
    "concatenated_df = pd.concat(df_from_each_file, ignore_index=True)"
   ]
  },
  {
   "cell_type": "code",
   "execution_count": 52,
   "metadata": {
    "collapsed": false
   },
   "outputs": [
    {
     "data": {
      "text/html": [
       "<div>\n",
       "<table border=\"1\" class=\"dataframe\">\n",
       "  <thead>\n",
       "    <tr style=\"text-align: right;\">\n",
       "      <th></th>\n",
       "      <th>DATA_GERACAO</th>\n",
       "      <th>HORA_GERACAO</th>\n",
       "      <th>ANO_ELEICAO</th>\n",
       "      <th>NUM_TURNO</th>\n",
       "      <th>DESCRICAO_ELEICAO</th>\n",
       "      <th>SIGLA_UF</th>\n",
       "      <th>SIGLA_UE</th>\n",
       "      <th>CODIGO_CARGO</th>\n",
       "      <th>NUMERO_CAND</th>\n",
       "      <th>SQ_CANDIDATO</th>\n",
       "      <th>...</th>\n",
       "      <th>DESC_SIT_CANDIDATO</th>\n",
       "      <th>CODIGO_SIT_CAND_TOT</th>\n",
       "      <th>DESC_SIT_CAND_TOT</th>\n",
       "      <th>NUMERO_PARTIDO</th>\n",
       "      <th>SIGLA_PARTIDO</th>\n",
       "      <th>NOME_PARTIDO</th>\n",
       "      <th>SEQUENCIAL_LEGENDA</th>\n",
       "      <th>NOME_COLIGACAO</th>\n",
       "      <th>COMPOSICAO_LEGENDA</th>\n",
       "      <th>TOTAL_VOTOS</th>\n",
       "    </tr>\n",
       "  </thead>\n",
       "  <tbody>\n",
       "    <tr>\n",
       "      <th>0</th>\n",
       "      <td>30/4/2014</td>\n",
       "      <td>16:31:48</td>\n",
       "      <td>1945</td>\n",
       "      <td>1</td>\n",
       "      <td>ELEIÇÕES 1945</td>\n",
       "      <td>BA</td>\n",
       "      <td>BR</td>\n",
       "      <td>1</td>\n",
       "      <td>-1</td>\n",
       "      <td>-3</td>\n",
       "      <td>...</td>\n",
       "      <td>DEFERIDO</td>\n",
       "      <td>1</td>\n",
       "      <td>ELEITO</td>\n",
       "      <td>-3</td>\n",
       "      <td>PSD</td>\n",
       "      <td>PARTIDO SOCIAL DEMOCRÁTICO</td>\n",
       "      <td>-3</td>\n",
       "      <td>#NULO#</td>\n",
       "      <td>PRP / PSD</td>\n",
       "      <td>186247.0</td>\n",
       "    </tr>\n",
       "    <tr>\n",
       "      <th>1</th>\n",
       "      <td>30/4/2014</td>\n",
       "      <td>16:31:48</td>\n",
       "      <td>1945</td>\n",
       "      <td>1</td>\n",
       "      <td>ELEIÇÕES 1945</td>\n",
       "      <td>BA</td>\n",
       "      <td>BR</td>\n",
       "      <td>1</td>\n",
       "      <td>-1</td>\n",
       "      <td>-3</td>\n",
       "      <td>...</td>\n",
       "      <td>DEFERIDO</td>\n",
       "      <td>4</td>\n",
       "      <td>NÃO ELEITO</td>\n",
       "      <td>-3</td>\n",
       "      <td>UDN</td>\n",
       "      <td>UNIÃO DEMOCRÁTICA NACIONAL</td>\n",
       "      <td>-3</td>\n",
       "      <td>#NULO#</td>\n",
       "      <td>UDN / PR / PL / PRP</td>\n",
       "      <td>144564.0</td>\n",
       "    </tr>\n",
       "    <tr>\n",
       "      <th>2</th>\n",
       "      <td>30/4/2014</td>\n",
       "      <td>16:31:48</td>\n",
       "      <td>1945</td>\n",
       "      <td>1</td>\n",
       "      <td>ELEIÇÕES 1945</td>\n",
       "      <td>BA</td>\n",
       "      <td>BR</td>\n",
       "      <td>1</td>\n",
       "      <td>-1</td>\n",
       "      <td>-3</td>\n",
       "      <td>...</td>\n",
       "      <td>DEFERIDO</td>\n",
       "      <td>4</td>\n",
       "      <td>NÃO ELEITO</td>\n",
       "      <td>-3</td>\n",
       "      <td>PAN</td>\n",
       "      <td>PARTIDO AGRARIO NACIONAL</td>\n",
       "      <td>-3</td>\n",
       "      <td>#NULO#</td>\n",
       "      <td>PAN</td>\n",
       "      <td>63.0</td>\n",
       "    </tr>\n",
       "    <tr>\n",
       "      <th>3</th>\n",
       "      <td>30/4/2014</td>\n",
       "      <td>16:31:48</td>\n",
       "      <td>1945</td>\n",
       "      <td>1</td>\n",
       "      <td>ELEIÇÕES 1945</td>\n",
       "      <td>BA</td>\n",
       "      <td>BR</td>\n",
       "      <td>1</td>\n",
       "      <td>-1</td>\n",
       "      <td>-3</td>\n",
       "      <td>...</td>\n",
       "      <td>DEFERIDO</td>\n",
       "      <td>4</td>\n",
       "      <td>NÃO ELEITO</td>\n",
       "      <td>-3</td>\n",
       "      <td>PCB</td>\n",
       "      <td>PARTIDO COMUNISTA DO BRASIL</td>\n",
       "      <td>-3</td>\n",
       "      <td>#NULO#</td>\n",
       "      <td>PCB</td>\n",
       "      <td>22059.0</td>\n",
       "    </tr>\n",
       "    <tr>\n",
       "      <th>4</th>\n",
       "      <td>30/4/2014</td>\n",
       "      <td>18:26:22</td>\n",
       "      <td>1945</td>\n",
       "      <td>1</td>\n",
       "      <td>ELEIÇÕES 1945</td>\n",
       "      <td>BA</td>\n",
       "      <td>BA</td>\n",
       "      <td>5</td>\n",
       "      <td>-1</td>\n",
       "      <td>-3</td>\n",
       "      <td>...</td>\n",
       "      <td>DEFERIDO</td>\n",
       "      <td>1</td>\n",
       "      <td>ELEITO</td>\n",
       "      <td>-3</td>\n",
       "      <td>UDN</td>\n",
       "      <td>UNIÃO DEMOCRÁTICA NACIONAL</td>\n",
       "      <td>-3</td>\n",
       "      <td>#NULO#</td>\n",
       "      <td>UDN</td>\n",
       "      <td>148039.0</td>\n",
       "    </tr>\n",
       "  </tbody>\n",
       "</table>\n",
       "<p>5 rows × 26 columns</p>\n",
       "</div>"
      ],
      "text/plain": [
       "  DATA_GERACAO HORA_GERACAO  ANO_ELEICAO  NUM_TURNO DESCRICAO_ELEICAO  \\\n",
       "0    30/4/2014     16:31:48         1945          1     ELEIÇÕES 1945   \n",
       "1    30/4/2014     16:31:48         1945          1     ELEIÇÕES 1945   \n",
       "2    30/4/2014     16:31:48         1945          1     ELEIÇÕES 1945   \n",
       "3    30/4/2014     16:31:48         1945          1     ELEIÇÕES 1945   \n",
       "4    30/4/2014     18:26:22         1945          1     ELEIÇÕES 1945   \n",
       "\n",
       "  SIGLA_UF SIGLA_UE  CODIGO_CARGO  NUMERO_CAND  SQ_CANDIDATO     ...       \\\n",
       "0       BA       BR             1           -1            -3     ...        \n",
       "1       BA       BR             1           -1            -3     ...        \n",
       "2       BA       BR             1           -1            -3     ...        \n",
       "3       BA       BR             1           -1            -3     ...        \n",
       "4       BA       BA             5           -1            -3     ...        \n",
       "\n",
       "  DESC_SIT_CANDIDATO CODIGO_SIT_CAND_TOT DESC_SIT_CAND_TOT  NUMERO_PARTIDO  \\\n",
       "0           DEFERIDO                   1            ELEITO              -3   \n",
       "1           DEFERIDO                   4        NÃO ELEITO              -3   \n",
       "2           DEFERIDO                   4        NÃO ELEITO              -3   \n",
       "3           DEFERIDO                   4        NÃO ELEITO              -3   \n",
       "4           DEFERIDO                   1            ELEITO              -3   \n",
       "\n",
       "  SIGLA_PARTIDO                 NOME_PARTIDO SEQUENCIAL_LEGENDA  \\\n",
       "0           PSD   PARTIDO SOCIAL DEMOCRÁTICO                 -3   \n",
       "1           UDN   UNIÃO DEMOCRÁTICA NACIONAL                 -3   \n",
       "2           PAN     PARTIDO AGRARIO NACIONAL                 -3   \n",
       "3           PCB  PARTIDO COMUNISTA DO BRASIL                 -3   \n",
       "4           UDN   UNIÃO DEMOCRÁTICA NACIONAL                 -3   \n",
       "\n",
       "   NOME_COLIGACAO   COMPOSICAO_LEGENDA  TOTAL_VOTOS  \n",
       "0          #NULO#            PRP / PSD     186247.0  \n",
       "1          #NULO#  UDN / PR / PL / PRP     144564.0  \n",
       "2          #NULO#                  PAN         63.0  \n",
       "3          #NULO#                  PCB      22059.0  \n",
       "4          #NULO#                  UDN     148039.0  \n",
       "\n",
       "[5 rows x 26 columns]"
      ]
     },
     "execution_count": 52,
     "metadata": {},
     "output_type": "execute_result"
    }
   ],
   "source": [
    "concatenated_df.head()"
   ]
  },
  {
   "cell_type": "code",
   "execution_count": 53,
   "metadata": {
    "collapsed": false
   },
   "outputs": [
    {
     "data": {
      "text/plain": [
       "1671"
      ]
     },
     "execution_count": 53,
     "metadata": {},
     "output_type": "execute_result"
    }
   ],
   "source": [
    "len(concatenated_df)"
   ]
  },
  {
   "cell_type": "code",
   "execution_count": 54,
   "metadata": {
    "collapsed": false
   },
   "outputs": [
    {
     "data": {
      "text/html": [
       "<div>\n",
       "<table border=\"1\" class=\"dataframe\">\n",
       "  <thead>\n",
       "    <tr style=\"text-align: right;\">\n",
       "      <th></th>\n",
       "      <th>0</th>\n",
       "    </tr>\n",
       "  </thead>\n",
       "  <tbody>\n",
       "    <tr>\n",
       "      <th>DATA_GERACAO</th>\n",
       "      <td>30/4/2014</td>\n",
       "    </tr>\n",
       "    <tr>\n",
       "      <th>HORA_GERACAO</th>\n",
       "      <td>16:31:48</td>\n",
       "    </tr>\n",
       "    <tr>\n",
       "      <th>ANO_ELEICAO</th>\n",
       "      <td>1945</td>\n",
       "    </tr>\n",
       "    <tr>\n",
       "      <th>NUM_TURNO</th>\n",
       "      <td>1</td>\n",
       "    </tr>\n",
       "    <tr>\n",
       "      <th>DESCRICAO_ELEICAO</th>\n",
       "      <td>ELEIÇÕES 1945</td>\n",
       "    </tr>\n",
       "    <tr>\n",
       "      <th>SIGLA_UF</th>\n",
       "      <td>BA</td>\n",
       "    </tr>\n",
       "    <tr>\n",
       "      <th>SIGLA_UE</th>\n",
       "      <td>BR</td>\n",
       "    </tr>\n",
       "    <tr>\n",
       "      <th>CODIGO_CARGO</th>\n",
       "      <td>1</td>\n",
       "    </tr>\n",
       "    <tr>\n",
       "      <th>NUMERO_CAND</th>\n",
       "      <td>-1</td>\n",
       "    </tr>\n",
       "    <tr>\n",
       "      <th>SQ_CANDIDATO</th>\n",
       "      <td>-3</td>\n",
       "    </tr>\n",
       "    <tr>\n",
       "      <th>NOME_CANDIDATO</th>\n",
       "      <td>EURICO GASPAR DUTRA</td>\n",
       "    </tr>\n",
       "    <tr>\n",
       "      <th>NOME_URNA_CANDIDATO</th>\n",
       "      <td>GENERAL EURICO GASPAR DUTRA</td>\n",
       "    </tr>\n",
       "    <tr>\n",
       "      <th>DESCRICAO_CARGO</th>\n",
       "      <td>PRESIDENTE</td>\n",
       "    </tr>\n",
       "    <tr>\n",
       "      <th>COD_SIT_CAND_SUPERIOR</th>\n",
       "      <td>-1</td>\n",
       "    </tr>\n",
       "    <tr>\n",
       "      <th>DESC_SIT_CAND_SUPERIOR</th>\n",
       "      <td>#NULO#</td>\n",
       "    </tr>\n",
       "    <tr>\n",
       "      <th>CODIGO_SIT_CANDIDATO</th>\n",
       "      <td>2</td>\n",
       "    </tr>\n",
       "    <tr>\n",
       "      <th>DESC_SIT_CANDIDATO</th>\n",
       "      <td>DEFERIDO</td>\n",
       "    </tr>\n",
       "    <tr>\n",
       "      <th>CODIGO_SIT_CAND_TOT</th>\n",
       "      <td>1</td>\n",
       "    </tr>\n",
       "    <tr>\n",
       "      <th>DESC_SIT_CAND_TOT</th>\n",
       "      <td>ELEITO</td>\n",
       "    </tr>\n",
       "    <tr>\n",
       "      <th>NUMERO_PARTIDO</th>\n",
       "      <td>-3</td>\n",
       "    </tr>\n",
       "    <tr>\n",
       "      <th>SIGLA_PARTIDO</th>\n",
       "      <td>PSD</td>\n",
       "    </tr>\n",
       "    <tr>\n",
       "      <th>NOME_PARTIDO</th>\n",
       "      <td>PARTIDO SOCIAL DEMOCRÁTICO</td>\n",
       "    </tr>\n",
       "    <tr>\n",
       "      <th>SEQUENCIAL_LEGENDA</th>\n",
       "      <td>-3</td>\n",
       "    </tr>\n",
       "    <tr>\n",
       "      <th>NOME_COLIGACAO</th>\n",
       "      <td>#NULO#</td>\n",
       "    </tr>\n",
       "    <tr>\n",
       "      <th>COMPOSICAO_LEGENDA</th>\n",
       "      <td>PRP / PSD</td>\n",
       "    </tr>\n",
       "    <tr>\n",
       "      <th>TOTAL_VOTOS</th>\n",
       "      <td>186247</td>\n",
       "    </tr>\n",
       "  </tbody>\n",
       "</table>\n",
       "</div>"
      ],
      "text/plain": [
       "                                                  0\n",
       "DATA_GERACAO                              30/4/2014\n",
       "HORA_GERACAO                               16:31:48\n",
       "ANO_ELEICAO                                    1945\n",
       "NUM_TURNO                                         1\n",
       "DESCRICAO_ELEICAO                     ELEIÇÕES 1945\n",
       "SIGLA_UF                                         BA\n",
       "SIGLA_UE                                         BR\n",
       "CODIGO_CARGO                                      1\n",
       "NUMERO_CAND                                      -1\n",
       "SQ_CANDIDATO                                     -3\n",
       "NOME_CANDIDATO                  EURICO GASPAR DUTRA\n",
       "NOME_URNA_CANDIDATO     GENERAL EURICO GASPAR DUTRA\n",
       "DESCRICAO_CARGO                          PRESIDENTE\n",
       "COD_SIT_CAND_SUPERIOR                            -1\n",
       "DESC_SIT_CAND_SUPERIOR                       #NULO#\n",
       "CODIGO_SIT_CANDIDATO                              2\n",
       "DESC_SIT_CANDIDATO                         DEFERIDO\n",
       "CODIGO_SIT_CAND_TOT                               1\n",
       "DESC_SIT_CAND_TOT                            ELEITO\n",
       "NUMERO_PARTIDO                                   -3\n",
       "SIGLA_PARTIDO                                   PSD\n",
       "NOME_PARTIDO             PARTIDO SOCIAL DEMOCRÁTICO\n",
       "SEQUENCIAL_LEGENDA                               -3\n",
       "NOME_COLIGACAO                               #NULO#\n",
       "COMPOSICAO_LEGENDA                        PRP / PSD\n",
       "TOTAL_VOTOS                                  186247"
      ]
     },
     "execution_count": 54,
     "metadata": {},
     "output_type": "execute_result"
    }
   ],
   "source": [
    "concatenated_df.head(1).transpose()"
   ]
  },
  {
   "cell_type": "markdown",
   "metadata": {},
   "source": [
    "## Quem ganhou as eleições?"
   ]
  },
  {
   "cell_type": "code",
   "execution_count": 58,
   "metadata": {
    "collapsed": false
   },
   "outputs": [],
   "source": [
    "f = concatenated_df\n",
    "f = f[f.NUM_TURNO == 1]\n",
    "f = f[f.DESCRICAO_CARGO == 'PRESIDENTE']"
   ]
  },
  {
   "cell_type": "code",
   "execution_count": 59,
   "metadata": {
    "collapsed": true
   },
   "outputs": [],
   "source": [
    "g = f.groupby('NOME_URNA_CANDIDATO')"
   ]
  },
  {
   "cell_type": "code",
   "execution_count": 64,
   "metadata": {
    "collapsed": false
   },
   "outputs": [
    {
     "data": {
      "text/plain": [
       "NOME_URNA_CANDIDATO\n",
       "GENERAL EURICO GASPAR DUTRA       3251377.0\n",
       "MAJOR BRIGADEIRO EDUARDO GOMES    2039337.0\n",
       "YEDDO FIUZA                        569818.0\n",
       "ROLLIM TELLES                       10001.0\n",
       "Name: TOTAL_VOTOS, dtype: float64"
      ]
     },
     "execution_count": 64,
     "metadata": {},
     "output_type": "execute_result"
    }
   ],
   "source": [
    "s = g.TOTAL_VOTOS.sum()\n",
    "s = s.sort_values(ascending=False)\n",
    "s"
   ]
  },
  {
   "cell_type": "code",
   "execution_count": 65,
   "metadata": {
    "collapsed": false
   },
   "outputs": [
    {
     "data": {
      "text/plain": [
       "NOME_URNA_CANDIDATO\n",
       "GENERAL EURICO GASPAR DUTRA       55.384698\n",
       "MAJOR BRIGADEIRO EDUARDO GOMES    34.738532\n",
       "YEDDO FIUZA                        9.706410\n",
       "ROLLIM TELLES                      0.170359\n",
       "Name: TOTAL_VOTOS, dtype: float64"
      ]
     },
     "execution_count": 65,
     "metadata": {},
     "output_type": "execute_result"
    }
   ],
   "source": [
    "total = s.sum()\n",
    "s * 100 / total"
   ]
  },
  {
   "cell_type": "code",
   "execution_count": null,
   "metadata": {
    "collapsed": true
   },
   "outputs": [],
   "source": []
  },
  {
   "cell_type": "markdown",
   "metadata": {},
   "source": [
    "## Quem ganhou as eleições por estado?"
   ]
  },
  {
   "cell_type": "code",
   "execution_count": 66,
   "metadata": {
    "collapsed": true
   },
   "outputs": [],
   "source": [
    "g = f.groupby(['SIGLA_UF', 'NOME_URNA_CANDIDATO'])"
   ]
  },
  {
   "cell_type": "code",
   "execution_count": 70,
   "metadata": {
    "collapsed": false
   },
   "outputs": [],
   "source": [
    "by_state = g.TOTAL_VOTOS.sum()"
   ]
  },
  {
   "cell_type": "code",
   "execution_count": 71,
   "metadata": {
    "collapsed": true
   },
   "outputs": [],
   "source": [
    "u = by_state.unstack('SIGLA_UF')"
   ]
  },
  {
   "cell_type": "code",
   "execution_count": 72,
   "metadata": {
    "collapsed": false
   },
   "outputs": [
    {
     "data": {
      "text/plain": [
       "SIGLA_UF\n",
       "AC                        GENERAL EURICO GASPAR DUTRA\n",
       "AL                        GENERAL EURICO GASPAR DUTRA\n",
       "AM                        GENERAL EURICO GASPAR DUTRA\n",
       "AP                        GENERAL EURICO GASPAR DUTRA\n",
       "BA                        GENERAL EURICO GASPAR DUTRA\n",
       "CE                     MAJOR BRIGADEIRO EDUARDO GOMES\n",
       "DF                     MAJOR BRIGADEIRO EDUARDO GOMES\n",
       "ES                        GENERAL EURICO GASPAR DUTRA\n",
       "Fernando de Noronha       GENERAL EURICO GASPAR DUTRA\n",
       "GO                        GENERAL EURICO GASPAR DUTRA\n",
       "GP                        GENERAL EURICO GASPAR DUTRA\n",
       "Iguaçu                    GENERAL EURICO GASPAR DUTRA\n",
       "MA                        GENERAL EURICO GASPAR DUTRA\n",
       "MG                        GENERAL EURICO GASPAR DUTRA\n",
       "MT                     MAJOR BRIGADEIRO EDUARDO GOMES\n",
       "PA                        GENERAL EURICO GASPAR DUTRA\n",
       "PB                     MAJOR BRIGADEIRO EDUARDO GOMES\n",
       "PE                        GENERAL EURICO GASPAR DUTRA\n",
       "PI                     MAJOR BRIGADEIRO EDUARDO GOMES\n",
       "PR                        GENERAL EURICO GASPAR DUTRA\n",
       "Ponta Porã                GENERAL EURICO GASPAR DUTRA\n",
       "RB                                      ROLLIM TELLES\n",
       "RJ                        GENERAL EURICO GASPAR DUTRA\n",
       "RN                        GENERAL EURICO GASPAR DUTRA\n",
       "RS                        GENERAL EURICO GASPAR DUTRA\n",
       "SC                        GENERAL EURICO GASPAR DUTRA\n",
       "SE                        GENERAL EURICO GASPAR DUTRA\n",
       "SP                        GENERAL EURICO GASPAR DUTRA\n",
       "dtype: object"
      ]
     },
     "execution_count": 72,
     "metadata": {},
     "output_type": "execute_result"
    }
   ],
   "source": [
    "u.idxmax()"
   ]
  },
  {
   "cell_type": "code",
   "execution_count": null,
   "metadata": {
    "collapsed": true
   },
   "outputs": [],
   "source": []
  }
 ],
 "metadata": {
  "kernelspec": {
   "display_name": "election_history",
   "language": "python",
   "name": "election_data"
  },
  "language_info": {
   "codemirror_mode": {
    "name": "ipython",
    "version": 3
   },
   "file_extension": ".py",
   "mimetype": "text/x-python",
   "name": "python",
   "nbconvert_exporter": "python",
   "pygments_lexer": "ipython3",
   "version": "3.6.0"
  }
 },
 "nbformat": 4,
 "nbformat_minor": 1
}
