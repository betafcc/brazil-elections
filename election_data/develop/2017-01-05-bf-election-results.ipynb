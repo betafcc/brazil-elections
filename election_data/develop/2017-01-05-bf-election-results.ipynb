{
 "cells": [
  {
   "cell_type": "markdown",
   "metadata": {},
   "source": [
    "# Election Results"
   ]
  },
  {
   "cell_type": "markdown",
   "metadata": {},
   "source": [
    "# This notebook aims to:\n",
    "    - [X] Achar dados do resultado da última eleição\n",
    "    - [X] Baixa-los\n",
    "    - [X] Parsea-los como DataFrame\n",
    "    - [X] Aprender a traversar\n",
    "    - [X] Achar o resultado geral\n",
    "    - [X] Achar o resultado por UF\n",
    "    - [X] Achar o resultado por cidade\n",
    "    - [X] Achar o resultado por zona eleitoral"
   ]
  },
  {
   "cell_type": "code",
   "execution_count": 1,
   "metadata": {
    "collapsed": false
   },
   "outputs": [],
   "source": [
    "from IPython.display import IFrame"
   ]
  },
  {
   "cell_type": "markdown",
   "metadata": {},
   "source": [
    "## Mostre o site com os links para os dados"
   ]
  },
  {
   "cell_type": "code",
   "execution_count": 2,
   "metadata": {
    "collapsed": false
   },
   "outputs": [
    {
     "data": {
      "text/html": [
       "\n",
       "        <iframe\n",
       "            width=\"800\"\n",
       "            height=\"400\"\n",
       "            src=\"http://www.tse.jus.br/hotSites/pesquisas-eleitorais/resultados_anos/votacao/votacao_secao_eleitoral_2014.html\"\n",
       "            frameborder=\"0\"\n",
       "            allowfullscreen\n",
       "        ></iframe>\n",
       "        "
      ],
      "text/plain": [
       "<IPython.lib.display.IFrame at 0x7fc5f5623080>"
      ]
     },
     "execution_count": 2,
     "metadata": {},
     "output_type": "execute_result"
    }
   ],
   "source": [
    "IFrame(\n",
    "    'http://www.tse.jus.br/hotSites/pesquisas-eleitorais/resultados_anos/votacao/votacao_secao_eleitoral_2014.html',\n",
    "    800, 400\n",
    ")"
   ]
  },
  {
   "cell_type": "markdown",
   "metadata": {},
   "source": [
    "## Faça download dos dados"
   ]
  },
  {
   "cell_type": "code",
   "execution_count": 3,
   "metadata": {
    "collapsed": false
   },
   "outputs": [],
   "source": [
    "from os import mkdir, listdir"
   ]
  },
  {
   "cell_type": "code",
   "execution_count": 4,
   "metadata": {
    "collapsed": true
   },
   "outputs": [],
   "source": [
    "# import wget"
   ]
  },
  {
   "cell_type": "code",
   "execution_count": 5,
   "metadata": {
    "collapsed": true
   },
   "outputs": [],
   "source": [
    "zip_folder   = '../data/votacao_secao_eleitoral_2014_ZIP'\n",
    "unzip_folder = '../data/votacao_secao_eleitoral_2014_UNZIP'"
   ]
  },
  {
   "cell_type": "code",
   "execution_count": 6,
   "metadata": {
    "collapsed": false
   },
   "outputs": [],
   "source": [
    "# mkdir(zip_folder)\n",
    "# wget.download(\n",
    "#     'http://agencia.tse.jus.br/estatistica/sead/odsele/votacao_secao/votacao_secao_2014_BR.zip',\n",
    "#     out=zip_folder\n",
    "# )"
   ]
  },
  {
   "cell_type": "code",
   "execution_count": 7,
   "metadata": {
    "collapsed": false
   },
   "outputs": [
    {
     "data": {
      "text/plain": [
       "['votacao_secao_2014_BR.zip']"
      ]
     },
     "execution_count": 7,
     "metadata": {},
     "output_type": "execute_result"
    }
   ],
   "source": [
    "listdir(zip_folder)"
   ]
  },
  {
   "cell_type": "markdown",
   "metadata": {},
   "source": [
    "## Unzipe"
   ]
  },
  {
   "cell_type": "code",
   "execution_count": 8,
   "metadata": {
    "collapsed": true
   },
   "outputs": [],
   "source": [
    "# from zipfile import ZipFile"
   ]
  },
  {
   "cell_type": "code",
   "execution_count": 9,
   "metadata": {
    "collapsed": false
   },
   "outputs": [],
   "source": [
    "# for file in listdir(zip_folder):\n",
    "#     with ZipFile(f'{zip_folder}/{file}', 'r') as zip_file:\n",
    "#         zip_file.extractall(unzip_folder)"
   ]
  },
  {
   "cell_type": "code",
   "execution_count": 10,
   "metadata": {
    "collapsed": false
   },
   "outputs": [
    {
     "data": {
      "text/plain": [
       "['votacao_secao_2014_BR.txt', 'votacao_secao_2014_VT.txt', 'LEIAME.pdf']"
      ]
     },
     "execution_count": 10,
     "metadata": {},
     "output_type": "execute_result"
    }
   ],
   "source": [
    "listdir(unzip_folder)"
   ]
  },
  {
   "cell_type": "markdown",
   "metadata": {},
   "source": [
    "## Mostre o PDF com as instruções para o uso"
   ]
  },
  {
   "cell_type": "code",
   "execution_count": 11,
   "metadata": {
    "collapsed": false
   },
   "outputs": [
    {
     "data": {
      "text/html": [
       "\n",
       "        <iframe\n",
       "            width=\"800\"\n",
       "            height=\"400\"\n",
       "            src=\"../data/votacao_secao_eleitoral_2014_UNZIP/LEIAME.pdf#14\"\n",
       "            frameborder=\"0\"\n",
       "            allowfullscreen\n",
       "        ></iframe>\n",
       "        "
      ],
      "text/plain": [
       "<IPython.lib.display.IFrame at 0x7fc5f5623588>"
      ]
     },
     "execution_count": 11,
     "metadata": {},
     "output_type": "execute_result"
    }
   ],
   "source": [
    "IFrame(\n",
    "    '../data/votacao_secao_eleitoral_2014_UNZIP/LEIAME.pdf#14',\n",
    "    800, 400\n",
    ")"
   ]
  },
  {
   "cell_type": "markdown",
   "metadata": {},
   "source": [
    "## Copie o indice"
   ]
  },
  {
   "cell_type": "code",
   "execution_count": 12,
   "metadata": {
    "collapsed": true
   },
   "outputs": [],
   "source": [
    "variaveis = [\n",
    "    'DATA_GERACAO', 'HORA_GERACAO', 'ANO_ELEICAO',\n",
    "    'NUM_TURNO', 'DESCRICAO_ELEICAO', 'SIGLA_UF',\n",
    "    'SIGLA_UE', 'CODIGO_MUNICIPIO', 'NOME_MUNICIPIO',\n",
    "    'NUM_ZONA', 'NUM_SECAO', 'CODIGO_CARGO',\n",
    "    'DESCRICAO_CARGO', 'NUM_VOTAVEL', 'QTDE_VOTOS'\n",
    "]"
   ]
  },
  {
   "cell_type": "markdown",
   "metadata": {},
   "source": [
    "## Carregue a DataFrame dos dados"
   ]
  },
  {
   "cell_type": "code",
   "execution_count": 13,
   "metadata": {
    "collapsed": true
   },
   "outputs": [],
   "source": [
    "import pandas as pd"
   ]
  },
  {
   "cell_type": "code",
   "execution_count": 14,
   "metadata": {
    "collapsed": false
   },
   "outputs": [
    {
     "data": {
      "text/html": [
       "<div>\n",
       "<table border=\"1\" class=\"dataframe\">\n",
       "  <thead>\n",
       "    <tr style=\"text-align: right;\">\n",
       "      <th></th>\n",
       "      <th>DATA_GERACAO</th>\n",
       "      <th>HORA_GERACAO</th>\n",
       "      <th>ANO_ELEICAO</th>\n",
       "      <th>NUM_TURNO</th>\n",
       "      <th>DESCRICAO_ELEICAO</th>\n",
       "      <th>SIGLA_UF</th>\n",
       "      <th>SIGLA_UE</th>\n",
       "      <th>CODIGO_MUNICIPIO</th>\n",
       "      <th>NOME_MUNICIPIO</th>\n",
       "      <th>NUM_ZONA</th>\n",
       "      <th>NUM_SECAO</th>\n",
       "      <th>CODIGO_CARGO</th>\n",
       "      <th>DESCRICAO_CARGO</th>\n",
       "      <th>NUM_VOTAVEL</th>\n",
       "      <th>QTDE_VOTOS</th>\n",
       "    </tr>\n",
       "  </thead>\n",
       "  <tbody>\n",
       "    <tr>\n",
       "      <th>0</th>\n",
       "      <td>27/10/2014</td>\n",
       "      <td>17:38:00</td>\n",
       "      <td>2014</td>\n",
       "      <td>1</td>\n",
       "      <td>ELEIÇÕES GERAIS 2014</td>\n",
       "      <td>SP</td>\n",
       "      <td>SP</td>\n",
       "      <td>71072</td>\n",
       "      <td>SÃO PAULO</td>\n",
       "      <td>256</td>\n",
       "      <td>77</td>\n",
       "      <td>1</td>\n",
       "      <td>PRESIDENTE</td>\n",
       "      <td>13</td>\n",
       "      <td>58</td>\n",
       "    </tr>\n",
       "    <tr>\n",
       "      <th>1</th>\n",
       "      <td>27/10/2014</td>\n",
       "      <td>17:38:00</td>\n",
       "      <td>2014</td>\n",
       "      <td>1</td>\n",
       "      <td>ELEIÇÕES GERAIS 2014</td>\n",
       "      <td>SP</td>\n",
       "      <td>SP</td>\n",
       "      <td>71072</td>\n",
       "      <td>SÃO PAULO</td>\n",
       "      <td>256</td>\n",
       "      <td>77</td>\n",
       "      <td>1</td>\n",
       "      <td>PRESIDENTE</td>\n",
       "      <td>20</td>\n",
       "      <td>1</td>\n",
       "    </tr>\n",
       "    <tr>\n",
       "      <th>2</th>\n",
       "      <td>27/10/2014</td>\n",
       "      <td>17:38:00</td>\n",
       "      <td>2014</td>\n",
       "      <td>1</td>\n",
       "      <td>ELEIÇÕES GERAIS 2014</td>\n",
       "      <td>SP</td>\n",
       "      <td>SP</td>\n",
       "      <td>71072</td>\n",
       "      <td>SÃO PAULO</td>\n",
       "      <td>256</td>\n",
       "      <td>77</td>\n",
       "      <td>1</td>\n",
       "      <td>PRESIDENTE</td>\n",
       "      <td>21</td>\n",
       "      <td>1</td>\n",
       "    </tr>\n",
       "    <tr>\n",
       "      <th>3</th>\n",
       "      <td>27/10/2014</td>\n",
       "      <td>17:38:00</td>\n",
       "      <td>2014</td>\n",
       "      <td>1</td>\n",
       "      <td>ELEIÇÕES GERAIS 2014</td>\n",
       "      <td>SP</td>\n",
       "      <td>SP</td>\n",
       "      <td>71072</td>\n",
       "      <td>SÃO PAULO</td>\n",
       "      <td>256</td>\n",
       "      <td>77</td>\n",
       "      <td>1</td>\n",
       "      <td>PRESIDENTE</td>\n",
       "      <td>28</td>\n",
       "      <td>2</td>\n",
       "    </tr>\n",
       "    <tr>\n",
       "      <th>4</th>\n",
       "      <td>27/10/2014</td>\n",
       "      <td>17:38:00</td>\n",
       "      <td>2014</td>\n",
       "      <td>1</td>\n",
       "      <td>ELEIÇÕES GERAIS 2014</td>\n",
       "      <td>SP</td>\n",
       "      <td>SP</td>\n",
       "      <td>71072</td>\n",
       "      <td>SÃO PAULO</td>\n",
       "      <td>256</td>\n",
       "      <td>77</td>\n",
       "      <td>1</td>\n",
       "      <td>PRESIDENTE</td>\n",
       "      <td>40</td>\n",
       "      <td>64</td>\n",
       "    </tr>\n",
       "  </tbody>\n",
       "</table>\n",
       "</div>"
      ],
      "text/plain": [
       "  DATA_GERACAO HORA_GERACAO  ANO_ELEICAO  NUM_TURNO     DESCRICAO_ELEICAO  \\\n",
       "0   27/10/2014     17:38:00         2014          1  ELEIÇÕES GERAIS 2014   \n",
       "1   27/10/2014     17:38:00         2014          1  ELEIÇÕES GERAIS 2014   \n",
       "2   27/10/2014     17:38:00         2014          1  ELEIÇÕES GERAIS 2014   \n",
       "3   27/10/2014     17:38:00         2014          1  ELEIÇÕES GERAIS 2014   \n",
       "4   27/10/2014     17:38:00         2014          1  ELEIÇÕES GERAIS 2014   \n",
       "\n",
       "  SIGLA_UF SIGLA_UE  CODIGO_MUNICIPIO NOME_MUNICIPIO  NUM_ZONA  NUM_SECAO  \\\n",
       "0       SP       SP             71072      SÃO PAULO       256         77   \n",
       "1       SP       SP             71072      SÃO PAULO       256         77   \n",
       "2       SP       SP             71072      SÃO PAULO       256         77   \n",
       "3       SP       SP             71072      SÃO PAULO       256         77   \n",
       "4       SP       SP             71072      SÃO PAULO       256         77   \n",
       "\n",
       "   CODIGO_CARGO DESCRICAO_CARGO  NUM_VOTAVEL  QTDE_VOTOS  \n",
       "0             1      PRESIDENTE           13          58  \n",
       "1             1      PRESIDENTE           20           1  \n",
       "2             1      PRESIDENTE           21           1  \n",
       "3             1      PRESIDENTE           28           2  \n",
       "4             1      PRESIDENTE           40          64  "
      ]
     },
     "execution_count": 14,
     "metadata": {},
     "output_type": "execute_result"
    }
   ],
   "source": [
    "df = pd.read_csv(\n",
    "    '../data/votacao_secao_eleitoral_2014_UNZIP/votacao_secao_2014_BR.txt',\n",
    "    encoding='latin1', sep=';', names=variaveis,\n",
    "    index_col=False\n",
    ")\n",
    "\n",
    "df.head()"
   ]
  },
  {
   "cell_type": "code",
   "execution_count": 15,
   "metadata": {
    "collapsed": false
   },
   "outputs": [
    {
     "data": {
      "text/plain": [
       "5071959"
      ]
     },
     "execution_count": 15,
     "metadata": {},
     "output_type": "execute_result"
    }
   ],
   "source": [
    "len(df)"
   ]
  },
  {
   "cell_type": "code",
   "execution_count": 16,
   "metadata": {
    "collapsed": false
   },
   "outputs": [
    {
     "data": {
      "text/plain": [
       "DATA_GERACAO                   27/10/2014\n",
       "HORA_GERACAO                     17:38:00\n",
       "ANO_ELEICAO                          2014\n",
       "NUM_TURNO                               1\n",
       "DESCRICAO_ELEICAO    ELEIÇÕES GERAIS 2014\n",
       "SIGLA_UF                               SP\n",
       "SIGLA_UE                               SP\n",
       "CODIGO_MUNICIPIO                    71072\n",
       "NOME_MUNICIPIO                  SÃO PAULO\n",
       "NUM_ZONA                              256\n",
       "NUM_SECAO                              77\n",
       "CODIGO_CARGO                            1\n",
       "DESCRICAO_CARGO                PRESIDENTE\n",
       "NUM_VOTAVEL                            13\n",
       "QTDE_VOTOS                             58\n",
       "Name: 0, dtype: object"
      ]
     },
     "execution_count": 16,
     "metadata": {},
     "output_type": "execute_result"
    }
   ],
   "source": [
    "df.loc[0]"
   ]
  },
  {
   "cell_type": "markdown",
   "metadata": {},
   "source": [
    "## Quem ganhou as eleições?"
   ]
  },
  {
   "cell_type": "code",
   "execution_count": 17,
   "metadata": {
    "collapsed": true
   },
   "outputs": [],
   "source": [
    "f = df[df.NUM_TURNO == 2]"
   ]
  },
  {
   "cell_type": "code",
   "execution_count": 25,
   "metadata": {
    "collapsed": true
   },
   "outputs": [],
   "source": [
    "g = f.groupby('NUM_VOTAVEL')"
   ]
  },
  {
   "cell_type": "code",
   "execution_count": 26,
   "metadata": {
    "collapsed": false
   },
   "outputs": [],
   "source": [
    "results = g.QTDE_VOTOS.sum()"
   ]
  },
  {
   "cell_type": "code",
   "execution_count": 27,
   "metadata": {
    "collapsed": false
   },
   "outputs": [
    {
     "data": {
      "text/plain": [
       "NUM_VOTAVEL\n",
       "13    54501118\n",
       "45    51041155\n",
       "96     5219787\n",
       "95     1921819\n",
       "Name: QTDE_VOTOS, dtype: int64"
      ]
     },
     "execution_count": 27,
     "metadata": {},
     "output_type": "execute_result"
    }
   ],
   "source": [
    "results.sort_values(ascending=False)"
   ]
  },
  {
   "cell_type": "markdown",
   "metadata": {},
   "source": [
    "## Quem ganhou as eleições pelo estado do RJ?"
   ]
  },
  {
   "cell_type": "code",
   "execution_count": 28,
   "metadata": {
    "collapsed": true
   },
   "outputs": [],
   "source": [
    "by_state = f.groupby(['SIGLA_UF', 'NUM_VOTAVEL']).QTDE_VOTOS.sum()"
   ]
  },
  {
   "cell_type": "code",
   "execution_count": 29,
   "metadata": {
    "collapsed": false
   },
   "outputs": [
    {
     "data": {
      "text/plain": [
       "NUM_VOTAVEL\n",
       "13    4489860\n",
       "45    3685122\n",
       "96     990434\n",
       "95     261629\n",
       "Name: QTDE_VOTOS, dtype: int64"
      ]
     },
     "execution_count": 29,
     "metadata": {},
     "output_type": "execute_result"
    }
   ],
   "source": [
    "by_state.RJ.sort_values(ascending=False)"
   ]
  },
  {
   "cell_type": "markdown",
   "metadata": {},
   "source": [
    "## Quem ganhou as eleições por estado?"
   ]
  },
  {
   "cell_type": "code",
   "execution_count": 30,
   "metadata": {
    "collapsed": false
   },
   "outputs": [],
   "source": [
    "u = by_state.unstack('SIGLA_UF')"
   ]
  },
  {
   "cell_type": "code",
   "execution_count": 31,
   "metadata": {
    "collapsed": false
   },
   "outputs": [
    {
     "data": {
      "text/plain": [
       "SIGLA_UF\n",
       "AC    45\n",
       "AL    13\n",
       "AM    13\n",
       "AP    13\n",
       "BA    13\n",
       "CE    13\n",
       "DF    45\n",
       "ES    45\n",
       "GO    45\n",
       "MA    13\n",
       "MG    13\n",
       "MS    45\n",
       "MT    45\n",
       "PA    13\n",
       "PB    13\n",
       "PE    13\n",
       "PI    13\n",
       "PR    45\n",
       "RJ    13\n",
       "RN    13\n",
       "RO    45\n",
       "RR    45\n",
       "RS    45\n",
       "SC    45\n",
       "SE    13\n",
       "SP    45\n",
       "TO    13\n",
       "ZZ    45\n",
       "dtype: int64"
      ]
     },
     "execution_count": 31,
     "metadata": {},
     "output_type": "execute_result"
    }
   ],
   "source": [
    "u.idxmax()"
   ]
  },
  {
   "cell_type": "code",
   "execution_count": null,
   "metadata": {
    "collapsed": true
   },
   "outputs": [],
   "source": []
  }
 ],
 "metadata": {
  "kernelspec": {
   "display_name": "election_history",
   "language": "python",
   "name": "election_data"
  },
  "language_info": {
   "codemirror_mode": {
    "name": "ipython",
    "version": 3
   },
   "file_extension": ".py",
   "mimetype": "text/x-python",
   "name": "python",
   "nbconvert_exporter": "python",
   "pygments_lexer": "ipython3",
   "version": "3.6.0"
  }
 },
 "nbformat": 4,
 "nbformat_minor": 1
}
