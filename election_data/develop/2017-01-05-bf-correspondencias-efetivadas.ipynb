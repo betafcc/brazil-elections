{
 "cells": [
  {
   "cell_type": "markdown",
   "metadata": {},
   "source": [
    "# Correspondências Efetivadas"
   ]
  },
  {
   "cell_type": "markdown",
   "metadata": {},
   "source": [
    "## This notebook aims to:\n",
    "    - [X] Achar links dos arquivos de correspondências efetivadas\n",
    "    - [X] Baixar automatizadamente todos\n",
    "    - [X] Explorar"
   ]
  },
  {
   "cell_type": "code",
   "execution_count": 1,
   "metadata": {
    "collapsed": true
   },
   "outputs": [],
   "source": [
    "from IPython.display import IFrame"
   ]
  },
  {
   "cell_type": "markdown",
   "metadata": {},
   "source": [
    "## Ache a página com os resultados da última eleição para presidente"
   ]
  },
  {
   "cell_type": "code",
   "execution_count": 39,
   "metadata": {
    "collapsed": false
   },
   "outputs": [
    {
     "data": {
      "text/html": [
       "\n",
       "        <iframe\n",
       "            width=\"600\"\n",
       "            height=\"400\"\n",
       "            src=\"http://www.tse.jus.br/hotSites/pesquisas-eleitorais/resultados_anos/2014.html\"\n",
       "            frameborder=\"0\"\n",
       "            allowfullscreen\n",
       "        ></iframe>\n",
       "        "
      ],
      "text/plain": [
       "<IPython.lib.display.IFrame at 0x7fa02c596da0>"
      ]
     },
     "execution_count": 39,
     "metadata": {},
     "output_type": "execute_result"
    }
   ],
   "source": [
    "IFrame(\n",
    "    'http://www.tse.jus.br/hotSites/pesquisas-eleitorais/resultados_anos/2014.html',\n",
    "    600, 400\n",
    ")"
   ]
  },
  {
   "cell_type": "markdown",
   "metadata": {},
   "source": [
    "## Faça download dos dados nacionais das correspondências efetivas de segundo turno"
   ]
  },
  {
   "cell_type": "markdown",
   "metadata": {},
   "source": [
    "    - [X] Mostre a página\n",
    "    - [X] Carrege a página com os links via requests\n",
    "    - [X] Scrape a página com BeautifulSoup pra pegar os links\n",
    "    - [X] Faça download de todos"
   ]
  },
  {
   "cell_type": "code",
   "execution_count": 43,
   "metadata": {
    "collapsed": false
   },
   "outputs": [
    {
     "data": {
      "text/html": [
       "\n",
       "        <iframe\n",
       "            width=\"600\"\n",
       "            height=\"400\"\n",
       "            src=\"http://www.tse.jus.br/hotSites/pesquisas-eleitorais/resultados_anos/tabela_correspondencia/2014/correspondencias_efetivadas_2_turno.html\"\n",
       "            frameborder=\"0\"\n",
       "            allowfullscreen\n",
       "        ></iframe>\n",
       "        "
      ],
      "text/plain": [
       "<IPython.lib.display.IFrame at 0x7fa036156e48>"
      ]
     },
     "execution_count": 43,
     "metadata": {},
     "output_type": "execute_result"
    }
   ],
   "source": [
    "IFrame(\n",
    "    'http://www.tse.jus.br/hotSites/pesquisas-eleitorais/resultados_anos/tabela_correspondencia/2014/correspondencias_efetivadas_2_turno.html',\n",
    "    600, 400\n",
    ")"
   ]
  },
  {
   "cell_type": "code",
   "execution_count": 42,
   "metadata": {
    "collapsed": true
   },
   "outputs": [],
   "source": [
    "import requests"
   ]
  },
  {
   "cell_type": "code",
   "execution_count": 47,
   "metadata": {
    "collapsed": false
   },
   "outputs": [
    {
     "data": {
      "text/plain": [
       "200"
      ]
     },
     "execution_count": 47,
     "metadata": {},
     "output_type": "execute_result"
    }
   ],
   "source": [
    "url = 'http://www.tse.jus.br/hotSites/pesquisas-eleitorais/resultados_anos/tabela_correspondencia/2014/correspondencias_efetivadas_2_turno.html'\n",
    "r = requests.get(url)\n",
    "r.status_code"
   ]
  },
  {
   "cell_type": "code",
   "execution_count": 51,
   "metadata": {
    "collapsed": false
   },
   "outputs": [],
   "source": [
    "from bs4 import BeautifulSoup as BS"
   ]
  },
  {
   "cell_type": "code",
   "execution_count": 113,
   "metadata": {
    "collapsed": false,
    "scrolled": false
   },
   "outputs": [],
   "source": [
    "# Pegue os 'li' que contém tanto a UF quanto o link pro arquivo\n",
    "soup = BS(r.content, 'html.parser')\n",
    "links = soup.select_one('#tabela_correspondencia')\n",
    "links = links.select('li')"
   ]
  },
  {
   "cell_type": "code",
   "execution_count": 114,
   "metadata": {
    "collapsed": false
   },
   "outputs": [
    {
     "data": {
      "text/plain": [
       "[{'UF': 'Acre',\n",
       "  'href': 'http://agencia.tse.jus.br/estatistica/sead/eleicoes/eleicoes2014/correspefet/ceft_2t_AC_27102014134242.zip'},\n",
       " {'UF': 'Alagoas',\n",
       "  'href': 'http://agencia.tse.jus.br/estatistica/sead/eleicoes/eleicoes2014/correspefet/ceft_2t_AL_27102014134242.zip'},\n",
       " {'UF': 'Amapa',\n",
       "  'href': 'http://agencia.tse.jus.br/estatistica/sead/eleicoes/eleicoes2014/correspefet/ceft_2t_AP_27102014134243.zip'},\n",
       " {'UF': 'Amazonas',\n",
       "  'href': 'http://agencia.tse.jus.br/estatistica/sead/eleicoes/eleicoes2014/correspefet/ceft_2t_AM_27102014134243.zip'},\n",
       " {'UF': 'Bahia',\n",
       "  'href': 'http://agencia.tse.jus.br/estatistica/sead/eleicoes/eleicoes2014/correspefet/ceft_2t_BA_27102014134243.zip'}]"
      ]
     },
     "execution_count": 114,
     "metadata": {},
     "output_type": "execute_result"
    }
   ],
   "source": [
    "# formate para lista de {UF, href}\n",
    "UFS = [next(link.stripped_strings) for link in links]\n",
    "hrefs = [link.select('a')[0].attrs['href'] for link in links]\n",
    "links = [{'UF': UF, 'href': href} for (UF, href) in zip(UFS, hrefs)]\n",
    "links[0:5]"
   ]
  },
  {
   "cell_type": "code",
   "execution_count": 127,
   "metadata": {
    "collapsed": false
   },
   "outputs": [],
   "source": [
    "import wget\n",
    "from os import mkdir, listdir"
   ]
  },
  {
   "cell_type": "code",
   "execution_count": 143,
   "metadata": {
    "collapsed": true
   },
   "outputs": [],
   "source": [
    "zip_folder   = '../data/ceft_2t_TODOS_2014_ZIP'\n",
    "unzip_folder = '../data/ceft_2t_TODOS_2014_UNZIP'"
   ]
  },
  {
   "cell_type": "code",
   "execution_count": 124,
   "metadata": {
    "collapsed": true
   },
   "outputs": [
    {
     "name": "stdout",
     "output_type": "stream",
     "text": [
      "Acre done\n",
      "Alagoas done\n",
      "Amapa done\n",
      "Amazonas done\n",
      "Bahia done\n",
      "Ceará done\n",
      "Distrito Federal done\n",
      "Espírito Santo done\n",
      "Goiás done\n",
      "Maranhão done\n",
      "Mato Grosso done\n",
      "Mato Grosso do Sul done\n",
      "Minas Gerais done\n",
      "Pará done\n",
      "Paraíba done\n",
      "Paraná done\n",
      "Pernambuco done\n",
      "Piauí done\n",
      "Rio de Janeiro done\n",
      "Rio Grande do Norte done\n",
      "Rio Grande do Sul done\n",
      "Rondônia done\n",
      "Roraima done\n",
      "Santa Catarina done\n",
      "São Paulo done\n",
      "Sergipe done\n",
      "Tocantins done\n",
      "Exterior done\n"
     ]
    }
   ],
   "source": [
    "# mkdir(zip_folder)\n",
    "# for link in links:\n",
    "#     wget.download(link['href'], out=zip_folder)\n",
    "#     print(f'{link[\"UF\"]} done')"
   ]
  },
  {
   "cell_type": "code",
   "execution_count": 140,
   "metadata": {
    "collapsed": false,
    "scrolled": true
   },
   "outputs": [
    {
     "data": {
      "text/plain": [
       "['ceft_2t_RR_27102014134255.zip',\n",
       " 'ceft_2t_AP_27102014134243.zip',\n",
       " 'ceft_2t_PI_27102014134252.zip',\n",
       " 'ceft_2t_MT_27102014134250.zip',\n",
       " 'ceft_2t_BA_27102014134243.zip',\n",
       " 'ceft_2t_SP_27102014134258.zip',\n",
       " 'ceft_2t_PE_27102014134251.zip',\n",
       " 'ceft_2t_PB_27102014134251.zip',\n",
       " 'ceft_2t_RO_27102014134255.zip',\n",
       " 'ceft_2t_PA_27102014134250.zip',\n",
       " 'ceft_2t_SC_27102014134257.zip',\n",
       " 'ceft_2t_MG_27102014134248.zip',\n",
       " 'ceft_2t_MA_27102014134247.zip',\n",
       " 'ceft_2t_TO_27102014134302.zip',\n",
       " 'ceft_2t_AL_27102014134242.zip',\n",
       " 'ceft_2t_DF_27102014134245.zip',\n",
       " 'ceft_2t_RJ_27102014134253.zip',\n",
       " 'ceft_2t_SE_27102014134257.zip',\n",
       " 'ceft_2t_CE_27102014134245.zip',\n",
       " 'ceft_2t_ES_27102014134246.zip',\n",
       " 'ceft_2t_AC_27102014134242.zip',\n",
       " 'ceft_2t_GO_27102014134246.zip',\n",
       " 'ceft_2t_MS_27102014134249.zip',\n",
       " 'ceft_2t_ZZ_27102014134302.zip',\n",
       " 'ceft_2t_PR_27102014134252.zip',\n",
       " 'ceft_2t_AM_27102014134243.zip',\n",
       " 'ceft_2t_RS_27102014134256.zip',\n",
       " 'ceft_2t_RN_27102014134255.zip']"
      ]
     },
     "execution_count": 140,
     "metadata": {},
     "output_type": "execute_result"
    }
   ],
   "source": [
    "zip_names = listdir(zip_folder)\n",
    "zip_names"
   ]
  },
  {
   "cell_type": "code",
   "execution_count": 141,
   "metadata": {
    "collapsed": false
   },
   "outputs": [],
   "source": [
    "zip_paths = [f'{folder}/{file}' for file in zip_names]"
   ]
  },
  {
   "cell_type": "code",
   "execution_count": 142,
   "metadata": {
    "collapsed": true
   },
   "outputs": [],
   "source": [
    "from zipfile import ZipFile"
   ]
  },
  {
   "cell_type": "code",
   "execution_count": 148,
   "metadata": {
    "collapsed": false
   },
   "outputs": [],
   "source": [
    "for path in zip_paths:\n",
    "    with ZipFile(path, 'r') as file:\n",
    "        file.extractall(unzip_folder)"
   ]
  },
  {
   "cell_type": "code",
   "execution_count": 149,
   "metadata": {
    "collapsed": false
   },
   "outputs": [
    {
     "data": {
      "text/plain": [
       "['ceft_2t_ES_27102014134246.txt',\n",
       " 'ceft_2t_SC_27102014134257.txt',\n",
       " 'ceft_2t_AL_27102014134242.txt',\n",
       " 'ceft_2t_MT_27102014134250.txt',\n",
       " 'ceft_2t_AC_27102014134242.txt',\n",
       " 'ceft_2t_PI_27102014134252.txt',\n",
       " 'ceft_2t_PR_27102014134252.txt',\n",
       " 'ceft_2t_TO_27102014134302.txt',\n",
       " 'ceft_2t_SE_27102014134257.txt',\n",
       " 'ceft_2t_RO_27102014134255.txt',\n",
       " 'ceft_2t_BA_27102014134243.txt',\n",
       " 'ceft_2t_AP_27102014134243.txt',\n",
       " 'ceft_2t_RN_27102014134255.txt',\n",
       " 'ceft_2t_RS_27102014134256.txt',\n",
       " 'ceft_2t_MG_27102014134248.txt',\n",
       " 'ceft_2t_AM_27102014134243.txt',\n",
       " 'ceft_2t_DF_27102014134245.txt',\n",
       " 'ceft_2t_ZZ_27102014134302.txt',\n",
       " 'ceft_2t_MS_27102014134249.txt',\n",
       " 'ceft_2t_SP_27102014134258.txt',\n",
       " 'ceft_2t_MA_27102014134247.txt',\n",
       " 'ceft_2t_PA_27102014134250.txt',\n",
       " 'LEIAME_CORRESP_EFETIVADA_2T.pdf',\n",
       " 'ceft_2t_PB_27102014134251.txt',\n",
       " 'ceft_2t_PE_27102014134251.txt',\n",
       " 'ceft_2t_CE_27102014134245.txt',\n",
       " 'ceft_2t_RJ_27102014134253.txt',\n",
       " 'ceft_2t_RR_27102014134255.txt',\n",
       " 'ceft_2t_GO_27102014134246.txt']"
      ]
     },
     "execution_count": 149,
     "metadata": {},
     "output_type": "execute_result"
    }
   ],
   "source": [
    "listdir(unzip_folder)"
   ]
  },
  {
   "cell_type": "markdown",
   "metadata": {},
   "source": [
    "## Mostre o PDF com as instruções de como usar os dados"
   ]
  },
  {
   "cell_type": "code",
   "execution_count": 151,
   "metadata": {
    "collapsed": false
   },
   "outputs": [
    {
     "data": {
      "text/html": [
       "\n",
       "        <iframe\n",
       "            width=\"800\"\n",
       "            height=\"400\"\n",
       "            src=\"../data/ceft_2t_TODOS_2014_UNZIP/LEIAME_CORRESP_EFETIVADA_2T.pdf\"\n",
       "            frameborder=\"0\"\n",
       "            allowfullscreen\n",
       "        ></iframe>\n",
       "        "
      ],
      "text/plain": [
       "<IPython.lib.display.IFrame at 0x7fa0240572b0>"
      ]
     },
     "execution_count": 151,
     "metadata": {},
     "output_type": "execute_result"
    }
   ],
   "source": [
    "IFrame('../data/ceft_2t_TODOS_2014_UNZIP/LEIAME_CORRESP_EFETIVADA_2T.pdf', 800, 400)"
   ]
  },
  {
   "cell_type": "markdown",
   "metadata": {},
   "source": [
    "## Copie os indices"
   ]
  },
  {
   "cell_type": "code",
   "execution_count": 165,
   "metadata": {
    "collapsed": false
   },
   "outputs": [
    {
     "data": {
      "text/plain": [
       "['DATA_DA_GERACAO',\n",
       " 'HORA_DA_GERACAO',\n",
       " 'CODIGO_DO_PLEITO',\n",
       " 'CODIGO_DA_ELEICAO',\n",
       " 'SIGLA_DA_UF']"
      ]
     },
     "execution_count": 165,
     "metadata": {},
     "output_type": "execute_result"
    }
   ],
   "source": [
    "campos = [\n",
    "    'DATA DA GERAÇÃO', 'HORA DA GERAÇÃO', 'CÓDIGO DO PLEITO',\n",
    "    'CÓDIGO DA ELEIÇÃO', 'SIGLA DA UF', 'CÓDIGO DO MUNICÍPIO',\n",
    "    'NOME DO MUNICÍPIO', 'NÚMERO DA ZONA ELEITORAL', 'NÚMERO DA SEÇÃO ELEITORAL',\n",
    "    'SEQUENCIAL DE CORRESPONDÊNCIA ESPERADA', 'NÚMERO DA URNA ESPERADA', 'CÓDIGO DA CARGA ESPERADA',\n",
    "    'CÓDIGO DE CARGA 1 ESPERADA', 'CÓDIGO DE CARGA 2 ESPERADA', 'CÓDIGO DO FLASHCARD DE URNA ESPERADA',\n",
    "    'DATA DA CARGA DA URNA ESPERADA', 'DATA DE RECEBIMENTO DA CORRESPONDÊNCIA ESPERADA', 'SEQUENCIAL DE CORRESPONDÊNCIA EFETIVADA',\n",
    "    'NÚMERO DA URNA EFETIVADA', 'CÓDIGO DA CARGA EFETIVADA', 'CÓDIGO DE CARGA 1 EFETIVADA',\n",
    "    'CÓDIGO DE CARGA 2 EFETIVADA', 'CÓDIGO DO FLASHCARD DE URNA EFETIVADA', 'DATA DA CARGA DA URNA EFETIVADA',\n",
    "    'DATA DE RECEBIMENTO DA CORRESPONDÊNCIA EFETIVADA', 'ORIGEM DOS VOTOS', 'DIVERGÊNCIA'\n",
    "]\n",
    "\n",
    "# por conveniência, no autocomplete,\n",
    "# os nomes serão padronizados\n",
    "from slugify import slugify\n",
    "\n",
    "campos = [slugify(campo, separator='_') for campo in campos]\n",
    "campos[0:5]"
   ]
  },
  {
   "cell_type": "markdown",
   "metadata": {},
   "source": [
    "## Monte a dataframe desses dados"
   ]
  },
  {
   "cell_type": "code",
   "execution_count": 169,
   "metadata": {
    "collapsed": true
   },
   "outputs": [],
   "source": [
    "import pandas as pd"
   ]
  },
  {
   "cell_type": "markdown",
   "metadata": {},
   "source": [
    "    - [ ] Monte a dataframe de RJ\n",
    "    - [ ] Monte uma dataframe composta de todos os arquivos"
   ]
  },
  {
   "cell_type": "code",
   "execution_count": 174,
   "metadata": {
    "collapsed": false
   },
   "outputs": [
    {
     "data": {
      "text/html": [
       "<div>\n",
       "<table border=\"1\" class=\"dataframe\">\n",
       "  <thead>\n",
       "    <tr style=\"text-align: right;\">\n",
       "      <th></th>\n",
       "      <th>DATA_DA_GERACAO</th>\n",
       "      <th>HORA_DA_GERACAO</th>\n",
       "      <th>CODIGO_DO_PLEITO</th>\n",
       "      <th>CODIGO_DA_ELEICAO</th>\n",
       "      <th>SIGLA_DA_UF</th>\n",
       "      <th>CODIGO_DO_MUNICIPIO</th>\n",
       "      <th>NOME_DO_MUNICIPIO</th>\n",
       "      <th>NUMERO_DA_ZONA_ELEITORAL</th>\n",
       "      <th>NUMERO_DA_SECAO_ELEITORAL</th>\n",
       "      <th>SEQUENCIAL_DE_CORRESPONDENCIA_ESPERADA</th>\n",
       "      <th>...</th>\n",
       "      <th>SEQUENCIAL_DE_CORRESPONDENCIA_EFETIVADA</th>\n",
       "      <th>NUMERO_DA_URNA_EFETIVADA</th>\n",
       "      <th>CODIGO_DA_CARGA_EFETIVADA</th>\n",
       "      <th>CODIGO_DE_CARGA_1_EFETIVADA</th>\n",
       "      <th>CODIGO_DE_CARGA_2_EFETIVADA</th>\n",
       "      <th>CODIGO_DO_FLASHCARD_DE_URNA_EFETIVADA</th>\n",
       "      <th>DATA_DA_CARGA_DA_URNA_EFETIVADA</th>\n",
       "      <th>DATA_DE_RECEBIMENTO_DA_CORRESPONDENCIA_EFETIVADA</th>\n",
       "      <th>ORIGEM_DOS_VOTOS</th>\n",
       "      <th>DIVERGENCIA</th>\n",
       "    </tr>\n",
       "  </thead>\n",
       "  <tbody>\n",
       "    <tr>\n",
       "      <th>0</th>\n",
       "      <td>27/10/2014</td>\n",
       "      <td>13:42:53</td>\n",
       "      <td>158</td>\n",
       "      <td>144</td>\n",
       "      <td>RJ</td>\n",
       "      <td>58009</td>\n",
       "      <td>QUISSAMÃ</td>\n",
       "      <td>255</td>\n",
       "      <td>149</td>\n",
       "      <td>28007</td>\n",
       "      <td>...</td>\n",
       "      <td>28007</td>\n",
       "      <td>1235915</td>\n",
       "      <td>667474028619416469507583</td>\n",
       "      <td>667.474.028.619.416.469.</td>\n",
       "      <td>507.583</td>\n",
       "      <td>CB8B7161</td>\n",
       "      <td>25/09/2014</td>\n",
       "      <td>26/09/2014</td>\n",
       "      <td>U</td>\n",
       "      <td>NaN</td>\n",
       "    </tr>\n",
       "    <tr>\n",
       "      <th>1</th>\n",
       "      <td>27/10/2014</td>\n",
       "      <td>13:42:53</td>\n",
       "      <td>158</td>\n",
       "      <td>144</td>\n",
       "      <td>RJ</td>\n",
       "      <td>58009</td>\n",
       "      <td>QUISSAMÃ</td>\n",
       "      <td>255</td>\n",
       "      <td>161</td>\n",
       "      <td>28008</td>\n",
       "      <td>...</td>\n",
       "      <td>28008</td>\n",
       "      <td>1233540</td>\n",
       "      <td>485656101001586279454580</td>\n",
       "      <td>485.656.101.001.586.279.</td>\n",
       "      <td>454.580</td>\n",
       "      <td>CB8B7161</td>\n",
       "      <td>25/09/2014</td>\n",
       "      <td>26/09/2014</td>\n",
       "      <td>U</td>\n",
       "      <td>NaN</td>\n",
       "    </tr>\n",
       "    <tr>\n",
       "      <th>2</th>\n",
       "      <td>27/10/2014</td>\n",
       "      <td>13:42:53</td>\n",
       "      <td>158</td>\n",
       "      <td>144</td>\n",
       "      <td>RJ</td>\n",
       "      <td>58009</td>\n",
       "      <td>QUISSAMÃ</td>\n",
       "      <td>255</td>\n",
       "      <td>162</td>\n",
       "      <td>28009</td>\n",
       "      <td>...</td>\n",
       "      <td>28009</td>\n",
       "      <td>1234477</td>\n",
       "      <td>667474392619672448201096</td>\n",
       "      <td>667.474.392.619.672.448.</td>\n",
       "      <td>201.096</td>\n",
       "      <td>CB8B7161</td>\n",
       "      <td>25/09/2014</td>\n",
       "      <td>26/09/2014</td>\n",
       "      <td>U</td>\n",
       "      <td>NaN</td>\n",
       "    </tr>\n",
       "    <tr>\n",
       "      <th>3</th>\n",
       "      <td>27/10/2014</td>\n",
       "      <td>13:42:53</td>\n",
       "      <td>158</td>\n",
       "      <td>144</td>\n",
       "      <td>RJ</td>\n",
       "      <td>58009</td>\n",
       "      <td>QUISSAMÃ</td>\n",
       "      <td>255</td>\n",
       "      <td>163</td>\n",
       "      <td>28010</td>\n",
       "      <td>...</td>\n",
       "      <td>28010</td>\n",
       "      <td>1232603</td>\n",
       "      <td>515959359404336017439506</td>\n",
       "      <td>515.959.359.404.336.017.</td>\n",
       "      <td>439.506</td>\n",
       "      <td>CB8B7161</td>\n",
       "      <td>25/09/2014</td>\n",
       "      <td>26/09/2014</td>\n",
       "      <td>U</td>\n",
       "      <td>NaN</td>\n",
       "    </tr>\n",
       "    <tr>\n",
       "      <th>4</th>\n",
       "      <td>27/10/2014</td>\n",
       "      <td>13:42:53</td>\n",
       "      <td>158</td>\n",
       "      <td>144</td>\n",
       "      <td>RJ</td>\n",
       "      <td>58009</td>\n",
       "      <td>QUISSAMÃ</td>\n",
       "      <td>255</td>\n",
       "      <td>169</td>\n",
       "      <td>28011</td>\n",
       "      <td>...</td>\n",
       "      <td>28011</td>\n",
       "      <td>1234739</td>\n",
       "      <td>687676182321316862783864</td>\n",
       "      <td>687.676.182.321.316.862.</td>\n",
       "      <td>783.864</td>\n",
       "      <td>CB8B7161</td>\n",
       "      <td>25/09/2014</td>\n",
       "      <td>26/09/2014</td>\n",
       "      <td>U</td>\n",
       "      <td>NaN</td>\n",
       "    </tr>\n",
       "  </tbody>\n",
       "</table>\n",
       "<p>5 rows × 27 columns</p>\n",
       "</div>"
      ],
      "text/plain": [
       "  DATA_DA_GERACAO HORA_DA_GERACAO  CODIGO_DO_PLEITO  CODIGO_DA_ELEICAO  \\\n",
       "0      27/10/2014        13:42:53               158                144   \n",
       "1      27/10/2014        13:42:53               158                144   \n",
       "2      27/10/2014        13:42:53               158                144   \n",
       "3      27/10/2014        13:42:53               158                144   \n",
       "4      27/10/2014        13:42:53               158                144   \n",
       "\n",
       "  SIGLA_DA_UF  CODIGO_DO_MUNICIPIO NOME_DO_MUNICIPIO  \\\n",
       "0          RJ                58009          QUISSAMÃ   \n",
       "1          RJ                58009          QUISSAMÃ   \n",
       "2          RJ                58009          QUISSAMÃ   \n",
       "3          RJ                58009          QUISSAMÃ   \n",
       "4          RJ                58009          QUISSAMÃ   \n",
       "\n",
       "   NUMERO_DA_ZONA_ELEITORAL  NUMERO_DA_SECAO_ELEITORAL  \\\n",
       "0                       255                        149   \n",
       "1                       255                        161   \n",
       "2                       255                        162   \n",
       "3                       255                        163   \n",
       "4                       255                        169   \n",
       "\n",
       "   SEQUENCIAL_DE_CORRESPONDENCIA_ESPERADA     ...      \\\n",
       "0                                   28007     ...       \n",
       "1                                   28008     ...       \n",
       "2                                   28009     ...       \n",
       "3                                   28010     ...       \n",
       "4                                   28011     ...       \n",
       "\n",
       "   SEQUENCIAL_DE_CORRESPONDENCIA_EFETIVADA NUMERO_DA_URNA_EFETIVADA  \\\n",
       "0                                    28007                  1235915   \n",
       "1                                    28008                  1233540   \n",
       "2                                    28009                  1234477   \n",
       "3                                    28010                  1232603   \n",
       "4                                    28011                  1234739   \n",
       "\n",
       "  CODIGO_DA_CARGA_EFETIVADA  CODIGO_DE_CARGA_1_EFETIVADA  \\\n",
       "0  667474028619416469507583     667.474.028.619.416.469.   \n",
       "1  485656101001586279454580     485.656.101.001.586.279.   \n",
       "2  667474392619672448201096     667.474.392.619.672.448.   \n",
       "3  515959359404336017439506     515.959.359.404.336.017.   \n",
       "4  687676182321316862783864     687.676.182.321.316.862.   \n",
       "\n",
       "  CODIGO_DE_CARGA_2_EFETIVADA CODIGO_DO_FLASHCARD_DE_URNA_EFETIVADA  \\\n",
       "0                     507.583                              CB8B7161   \n",
       "1                     454.580                              CB8B7161   \n",
       "2                     201.096                              CB8B7161   \n",
       "3                     439.506                              CB8B7161   \n",
       "4                     783.864                              CB8B7161   \n",
       "\n",
       "  DATA_DA_CARGA_DA_URNA_EFETIVADA  \\\n",
       "0                      25/09/2014   \n",
       "1                      25/09/2014   \n",
       "2                      25/09/2014   \n",
       "3                      25/09/2014   \n",
       "4                      25/09/2014   \n",
       "\n",
       "   DATA_DE_RECEBIMENTO_DA_CORRESPONDENCIA_EFETIVADA  ORIGEM_DOS_VOTOS  \\\n",
       "0                                        26/09/2014                 U   \n",
       "1                                        26/09/2014                 U   \n",
       "2                                        26/09/2014                 U   \n",
       "3                                        26/09/2014                 U   \n",
       "4                                        26/09/2014                 U   \n",
       "\n",
       "  DIVERGENCIA  \n",
       "0         NaN  \n",
       "1         NaN  \n",
       "2         NaN  \n",
       "3         NaN  \n",
       "4         NaN  \n",
       "\n",
       "[5 rows x 27 columns]"
      ]
     },
     "execution_count": 174,
     "metadata": {},
     "output_type": "execute_result"
    }
   ],
   "source": [
    "rj = pd.read_csv(\n",
    "    '../data/ceft_2t_TODOS_2014_UNZIP/ceft_2t_RJ_27102014134253.txt',\n",
    "    encoding='latin1',\n",
    "    sep=';', names=campos,\n",
    "    index_col=False,\n",
    ")\n",
    "rj.head()"
   ]
  },
  {
   "cell_type": "code",
   "execution_count": 177,
   "metadata": {
    "collapsed": false
   },
   "outputs": [
    {
     "data": {
      "text/plain": [
       "32692"
      ]
     },
     "execution_count": 177,
     "metadata": {},
     "output_type": "execute_result"
    }
   ],
   "source": [
    "len(rj)"
   ]
  },
  {
   "cell_type": "code",
   "execution_count": 182,
   "metadata": {
    "collapsed": false
   },
   "outputs": [
    {
     "data": {
      "text/plain": [
       "DATA_DA_GERACAO                                                   27/10/2014\n",
       "HORA_DA_GERACAO                                                     13:42:53\n",
       "CODIGO_DO_PLEITO                                                         158\n",
       "CODIGO_DA_ELEICAO                                                        144\n",
       "SIGLA_DA_UF                                                               RJ\n",
       "CODIGO_DO_MUNICIPIO                                                    58009\n",
       "NOME_DO_MUNICIPIO                                                   QUISSAMÃ\n",
       "NUMERO_DA_ZONA_ELEITORAL                                                 255\n",
       "NUMERO_DA_SECAO_ELEITORAL                                                149\n",
       "SEQUENCIAL_DE_CORRESPONDENCIA_ESPERADA                                 28007\n",
       "NUMERO_DA_URNA_ESPERADA                                              1235915\n",
       "CODIGO_DA_CARGA_ESPERADA                            667474028619416469507583\n",
       "CODIGO_DE_CARGA_1_ESPERADA                          667.474.028.619.416.469.\n",
       "CODIGO_DE_CARGA_2_ESPERADA                                           507.583\n",
       "CODIGO_DO_FLASHCARD_DE_URNA_ESPERADA                                CB8B7161\n",
       "DATA_DA_CARGA_DA_URNA_ESPERADA                                    25/09/2014\n",
       "DATA_DE_RECEBIMENTO_DA_CORRESPONDENCIA_ESPERADA                   26/09/2014\n",
       "SEQUENCIAL_DE_CORRESPONDENCIA_EFETIVADA                                28007\n",
       "NUMERO_DA_URNA_EFETIVADA                                             1235915\n",
       "CODIGO_DA_CARGA_EFETIVADA                           667474028619416469507583\n",
       "CODIGO_DE_CARGA_1_EFETIVADA                         667.474.028.619.416.469.\n",
       "CODIGO_DE_CARGA_2_EFETIVADA                                          507.583\n",
       "CODIGO_DO_FLASHCARD_DE_URNA_EFETIVADA                               CB8B7161\n",
       "DATA_DA_CARGA_DA_URNA_EFETIVADA                                   25/09/2014\n",
       "DATA_DE_RECEBIMENTO_DA_CORRESPONDENCIA_EFETIVADA                  26/09/2014\n",
       "ORIGEM_DOS_VOTOS                                                           U\n",
       "DIVERGENCIA                                                              NaN\n",
       "Name: 0, dtype: object"
      ]
     },
     "execution_count": 182,
     "metadata": {},
     "output_type": "execute_result"
    }
   ],
   "source": [
    "rj.loc[0]"
   ]
  },
  {
   "cell_type": "code",
   "execution_count": null,
   "metadata": {
    "collapsed": true
   },
   "outputs": [],
   "source": []
  }
 ],
 "metadata": {
  "kernelspec": {
   "display_name": "election_history",
   "language": "python",
   "name": "election_data"
  },
  "language_info": {
   "codemirror_mode": {
    "name": "ipython",
    "version": 3
   },
   "file_extension": ".py",
   "mimetype": "text/x-python",
   "name": "python",
   "nbconvert_exporter": "python",
   "pygments_lexer": "ipython3",
   "version": "3.6.0"
  }
 },
 "nbformat": 4,
 "nbformat_minor": 1
}
