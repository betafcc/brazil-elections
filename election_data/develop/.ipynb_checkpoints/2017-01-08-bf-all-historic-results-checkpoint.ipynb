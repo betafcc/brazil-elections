{
 "cells": [
  {
   "cell_type": "markdown",
   "metadata": {},
   "source": [
    "# All Presidential election results from 1945 to 2014"
   ]
  },
  {
   "cell_type": "markdown",
   "metadata": {},
   "source": [
    "## This notebook aims to:\n",
    "    - [X] Find all the years that had presidential elections\n",
    "    - [X] Find the data of all of them\n",
    "    - [X] develop a script to download them all"
   ]
  },
  {
   "cell_type": "markdown",
   "metadata": {},
   "source": [
    "## Notas:\n",
    "    - Os únicos dados providos pelo tse, são referentes às \n",
    "    eleições diretas no período 1945-Atual, excluindo então\n",
    "    o período de ditadura e a primeira da nova república"
   ]
  },
  {
   "cell_type": "code",
   "execution_count": 2,
   "metadata": {
    "collapsed": true
   },
   "outputs": [],
   "source": [
    "from IPython.display import IFrame"
   ]
  },
  {
   "cell_type": "markdown",
   "metadata": {},
   "source": [
    "# Ache todos os anos que tiveram eleições presidenciais"
   ]
  },
  {
   "cell_type": "code",
   "execution_count": 3,
   "metadata": {
    "collapsed": false
   },
   "outputs": [
    {
     "data": {
      "text/html": [
       "\n",
       "        <iframe\n",
       "            width=\"800\"\n",
       "            height=\"600\"\n",
       "            src=\"https://pt.wikipedia.org/wiki/Lista_de_elei%C3%A7%C3%B5es_presidenciais_no_Brasil#toc\"\n",
       "            frameborder=\"0\"\n",
       "            allowfullscreen\n",
       "        ></iframe>\n",
       "        "
      ],
      "text/plain": [
       "<IPython.lib.display.IFrame at 0x7f3d5cebec50>"
      ]
     },
     "execution_count": 3,
     "metadata": {},
     "output_type": "execute_result"
    }
   ],
   "source": [
    "IFrame(\n",
    "    'https://pt.wikipedia.org/wiki/Lista_de_elei%C3%A7%C3%B5es_presidenciais_no_Brasil#toc',\n",
    "    800, 600\n",
    ")"
   ]
  },
  {
   "cell_type": "markdown",
   "metadata": {},
   "source": [
    "## Copie os que o TSE possui dados"
   ]
  },
  {
   "cell_type": "code",
   "execution_count": 4,
   "metadata": {
    "collapsed": false
   },
   "outputs": [
    {
     "name": "stdout",
     "output_type": "stream",
     "text": [
      "[1945, 1950, 1955, 1960, 1964, 1966, 1969, 1974, 1978, 1985, 1989, 1994, 1998, 2002, 2006, 2010, 2014]\n",
      "[1945, 1950, 1955, 1960, 1989, 1994, 1998, 2002, 2006, 2010, 2014]\n"
     ]
    }
   ],
   "source": [
    "republica_nova = [1945, 1950, 1955, 1960]\n",
    "regime_militar = [1964, 1966, 1969, 1974, 1978]\n",
    "nova_republica = [1985, 1989, 1994, 1998, 2002, 2006, 2010, 2014]\n",
    "\n",
    "YEARS = republica_nova + regime_militar + nova_republica\n",
    "# 1985 foi indireta por decisão judicial \n",
    "DIRETAS = republica_nova + nova_republica[1:]\n",
    "print(YEARS)\n",
    "print(DIRETAS)"
   ]
  },
  {
   "cell_type": "markdown",
   "metadata": {},
   "source": [
    "## Ache os dados de todos"
   ]
  },
  {
   "cell_type": "code",
   "execution_count": 5,
   "metadata": {
    "collapsed": false
   },
   "outputs": [
    {
     "data": {
      "text/html": [
       "\n",
       "        <iframe\n",
       "            width=\"800\"\n",
       "            height=\"400\"\n",
       "            src=\"http://www.tse.jus.br/hotSites/pesquisas-eleitorais/resultados_anos/1945.html\"\n",
       "            frameborder=\"0\"\n",
       "            allowfullscreen\n",
       "        ></iframe>\n",
       "        "
      ],
      "text/plain": [
       "<IPython.lib.display.IFrame at 0x7f3d5cebe4a8>"
      ]
     },
     "execution_count": 5,
     "metadata": {},
     "output_type": "execute_result"
    }
   ],
   "source": [
    "IFrame(\n",
    "    'http://www.tse.jus.br/hotSites/pesquisas-eleitorais/resultados_anos/1945.html',\n",
    "    800, 400\n",
    ")"
   ]
  },
  {
   "cell_type": "markdown",
   "metadata": {},
   "source": [
    "A regra é 'http://www.tse.jus.br/hotSites/pesquisas-eleitorais/resultados_anos/' + < ano > + '.html'"
   ]
  },
  {
   "cell_type": "code",
   "execution_count": 6,
   "metadata": {
    "collapsed": true
   },
   "outputs": [],
   "source": [
    "def check_year(year):\n",
    "    if year not in DIRETAS:\n",
    "        raise ValueError(f'year {year} had no presidential election')\n",
    "    else:\n",
    "        return True"
   ]
  },
  {
   "cell_type": "code",
   "execution_count": 7,
   "metadata": {
    "collapsed": true
   },
   "outputs": [],
   "source": [
    "def election_page(year):\n",
    "    check_year(year)\n",
    "    return f'http://www.tse.jus.br/hotSites/pesquisas-eleitorais/resultados_anos/{year}.html'"
   ]
  },
  {
   "cell_type": "code",
   "execution_count": 8,
   "metadata": {
    "collapsed": false
   },
   "outputs": [
    {
     "data": {
      "text/html": [
       "\n",
       "        <iframe\n",
       "            width=\"800\"\n",
       "            height=\"400\"\n",
       "            src=\"http://www.tse.jus.br/hotSites/pesquisas-eleitorais/resultados_anos/2010.html\"\n",
       "            frameborder=\"0\"\n",
       "            allowfullscreen\n",
       "        ></iframe>\n",
       "        "
      ],
      "text/plain": [
       "<IPython.lib.display.IFrame at 0x7f3d5c677908>"
      ]
     },
     "execution_count": 8,
     "metadata": {},
     "output_type": "execute_result"
    }
   ],
   "source": [
    "# exemplo:\n",
    "IFrame(\n",
    "    election_page(DIRETAS[-2]), # penultima eleições\n",
    "    800, 400\n",
    ")"
   ]
  },
  {
   "cell_type": "markdown",
   "metadata": {},
   "source": [
    "## Ache o link direto para o arquivo zip de cada"
   ]
  },
  {
   "cell_type": "code",
   "execution_count": 9,
   "metadata": {
    "collapsed": true
   },
   "outputs": [],
   "source": [
    "def election_data(year):\n",
    "    check_year(year)\n",
    "    if year < 1994:\n",
    "        return f'http://agencia.tse.jus.br/estatistica/sead/odsele/votacao_candidato_uf/votacao_candidato_uf_{year}.zip'\n",
    "    else:\n",
    "        return f'http://agencia.tse.jus.br/estatistica/sead/odsele/votacao_secao/votacao_secao_{year}_BR.zip'"
   ]
  },
  {
   "cell_type": "markdown",
   "metadata": {},
   "source": [
    "### Check the response of the links"
   ]
  },
  {
   "cell_type": "code",
   "execution_count": 10,
   "metadata": {
    "collapsed": true
   },
   "outputs": [],
   "source": [
    "import requests"
   ]
  },
  {
   "cell_type": "code",
   "execution_count": 11,
   "metadata": {
    "collapsed": false
   },
   "outputs": [
    {
     "name": "stdout",
     "output_type": "stream",
     "text": [
      "http://agencia.tse.jus.br/estatistica/sead/odsele/votacao_candidato_uf/votacao_candidato_uf_1945.zip\n",
      "<Response [200]>\n",
      "http://agencia.tse.jus.br/estatistica/sead/odsele/votacao_candidato_uf/votacao_candidato_uf_1950.zip\n",
      "<Response [200]>\n",
      "http://agencia.tse.jus.br/estatistica/sead/odsele/votacao_candidato_uf/votacao_candidato_uf_1955.zip\n",
      "<Response [200]>\n",
      "http://agencia.tse.jus.br/estatistica/sead/odsele/votacao_candidato_uf/votacao_candidato_uf_1960.zip\n",
      "<Response [200]>\n",
      "http://agencia.tse.jus.br/estatistica/sead/odsele/votacao_candidato_uf/votacao_candidato_uf_1989.zip\n",
      "<Response [200]>\n",
      "http://agencia.tse.jus.br/estatistica/sead/odsele/votacao_secao/votacao_secao_1994_BR.zip\n",
      "<Response [200]>\n",
      "http://agencia.tse.jus.br/estatistica/sead/odsele/votacao_secao/votacao_secao_1998_BR.zip\n",
      "<Response [200]>\n",
      "http://agencia.tse.jus.br/estatistica/sead/odsele/votacao_secao/votacao_secao_2002_BR.zip\n",
      "<Response [200]>\n",
      "http://agencia.tse.jus.br/estatistica/sead/odsele/votacao_secao/votacao_secao_2006_BR.zip\n",
      "<Response [200]>\n",
      "http://agencia.tse.jus.br/estatistica/sead/odsele/votacao_secao/votacao_secao_2010_BR.zip\n",
      "<Response [200]>\n",
      "http://agencia.tse.jus.br/estatistica/sead/odsele/votacao_secao/votacao_secao_2014_BR.zip\n",
      "<Response [200]>\n"
     ]
    }
   ],
   "source": [
    "for year in DIRETAS:\n",
    "    link = election_data(year)\n",
    "    req = requests.get(link)\n",
    "    print(link)\n",
    "    print(req)"
   ]
  },
  {
   "cell_type": "markdown",
   "metadata": {},
   "source": [
    "## Faça o download de todos"
   ]
  },
  {
   "cell_type": "code",
   "execution_count": 12,
   "metadata": {
    "collapsed": true
   },
   "outputs": [],
   "source": [
    "import os"
   ]
  },
  {
   "cell_type": "code",
   "execution_count": 13,
   "metadata": {
    "collapsed": true
   },
   "outputs": [],
   "source": [
    "base_path = '../data/results_ALL'\n",
    "# os.mkdir(base_path)"
   ]
  },
  {
   "cell_type": "code",
   "execution_count": 14,
   "metadata": {
    "collapsed": false
   },
   "outputs": [],
   "source": [
    "path_zipped  = f'{base_path}/zipped'\n",
    "path_unzipped = f'{base_path}/unzipped'\n",
    "\n",
    "# os.mkdir(path_zipped)\n",
    "# os.mkdir(path_unzipped)"
   ]
  },
  {
   "cell_type": "code",
   "execution_count": 15,
   "metadata": {
    "collapsed": false
   },
   "outputs": [
    {
     "name": "stdout",
     "output_type": "stream",
     "text": [
      "../data/results_ALL/zipped/votacao_candidato_uf_1945.zip\n",
      "../data/results_ALL/zipped/votacao_candidato_uf_1950.zip\n",
      "../data/results_ALL/zipped/votacao_candidato_uf_1955.zip\n",
      "../data/results_ALL/zipped/votacao_candidato_uf_1960.zip\n",
      "../data/results_ALL/zipped/votacao_candidato_uf_1989.zip\n",
      "../data/results_ALL/zipped/votacao_secao_1994_BR.zip\n",
      "../data/results_ALL/zipped/votacao_secao_1998_BR.zip\n",
      "../data/results_ALL/zipped/votacao_secao_2002_BR.zip\n",
      "../data/results_ALL/zipped/votacao_secao_2006_BR.zip\n",
      "../data/results_ALL/zipped/votacao_secao_2010_BR.zip\n",
      "../data/results_ALL/zipped/votacao_secao_2014_BR.zip\n"
     ]
    }
   ],
   "source": [
    "# import wget\n",
    "\n",
    "# for year in DIRETAS:\n",
    "#     result = wget.download(election_data(year), path_zipped)\n",
    "#     print(result)"
   ]
  },
  {
   "cell_type": "code",
   "execution_count": 16,
   "metadata": {
    "collapsed": false
   },
   "outputs": [
    {
     "data": {
      "text/plain": [
       "['votacao_secao_2006_BR.zip',\n",
       " 'votacao_secao_2014_BR.zip',\n",
       " 'votacao_candidato_uf_1945.zip',\n",
       " 'votacao_secao_2010_BR.zip',\n",
       " 'votacao_candidato_uf_1950.zip',\n",
       " 'votacao_candidato_uf_1960.zip',\n",
       " 'votacao_secao_2002_BR.zip',\n",
       " 'votacao_candidato_uf_1989.zip',\n",
       " 'votacao_candidato_uf_1955.zip',\n",
       " 'votacao_secao_1994_BR.zip',\n",
       " 'votacao_secao_1998_BR.zip']"
      ]
     },
     "execution_count": 16,
     "metadata": {},
     "output_type": "execute_result"
    }
   ],
   "source": [
    "os.listdir(path_zipped)"
   ]
  },
  {
   "cell_type": "markdown",
   "metadata": {},
   "source": [
    "## Unzipe todos"
   ]
  },
  {
   "cell_type": "code",
   "execution_count": 27,
   "metadata": {
    "collapsed": true
   },
   "outputs": [],
   "source": [
    "from zipfile import ZipFile"
   ]
  },
  {
   "cell_type": "code",
   "execution_count": 28,
   "metadata": {
    "collapsed": true
   },
   "outputs": [],
   "source": [
    "paths = [f'{path_zipped}/{file}' for file in os.listdir(path_zipped)]"
   ]
  },
  {
   "cell_type": "code",
   "execution_count": 29,
   "metadata": {
    "collapsed": true
   },
   "outputs": [],
   "source": [
    "import re"
   ]
  },
  {
   "cell_type": "code",
   "execution_count": 32,
   "metadata": {
    "collapsed": false
   },
   "outputs": [],
   "source": [
    "os.mkdir(path_unzipped)\n",
    "for zip_file_path in paths:\n",
    "    with ZipFile(zip_file_path, 'r') as file:\n",
    "        year = re.findall(r\"\\d+\", zip_file_path)[0]\n",
    "        folder = f'{path_unzipped}/{year}'\n",
    "        os.mkdir(folder)\n",
    "        file.extractall(folder)"
   ]
  },
  {
   "cell_type": "code",
   "execution_count": 33,
   "metadata": {
    "collapsed": false
   },
   "outputs": [
    {
     "data": {
      "text/plain": [
       "['2014',\n",
       " '1955',\n",
       " '1950',\n",
       " '1994',\n",
       " '2010',\n",
       " '1945',\n",
       " '2002',\n",
       " '1989',\n",
       " '2006',\n",
       " '1998',\n",
       " '1960']"
      ]
     },
     "execution_count": 33,
     "metadata": {},
     "output_type": "execute_result"
    }
   ],
   "source": [
    "os.listdir(path_unzipped)"
   ]
  },
  {
   "cell_type": "markdown",
   "metadata": {},
   "source": [
    "### Existe uma pequena inconsistencia dos arquivos antes de 1994, eles estão nested num folder, as seguintes linhas padroniza isso:"
   ]
  },
  {
   "cell_type": "code",
   "execution_count": 34,
   "metadata": {
    "collapsed": true
   },
   "outputs": [],
   "source": [
    "import glob"
   ]
  },
  {
   "cell_type": "code",
   "execution_count": 35,
   "metadata": {
    "collapsed": false
   },
   "outputs": [
    {
     "name": "stdout",
     "output_type": "stream",
     "text": [
      "1955\n",
      "1950\n",
      "1945\n",
      "1989\n",
      "1960\n"
     ]
    }
   ],
   "source": [
    "import shutil\n",
    "\n",
    "for year_folder in os.listdir(path_unzipped):\n",
    "    if int(year_folder) < 1994:\n",
    "        print(year_folder)\n",
    "        nested_folder = glob.glob(f'{path_unzipped}/{year_folder}/*')[0] \n",
    "        for file in glob.glob(f'{nested_folder}/*'):\n",
    "            shutil.move(file, f'{path_unzipped}/{year_folder}/')\n",
    "        os.rmdir(nested_folder)"
   ]
  },
  {
   "cell_type": "code",
   "execution_count": 36,
   "metadata": {
    "collapsed": false
   },
   "outputs": [
    {
     "data": {
      "text/plain": [
       "74"
      ]
     },
     "execution_count": 36,
     "metadata": {},
     "output_type": "execute_result"
    }
   ],
   "source": [
    "len(glob.glob(f'{path_unzipped}/**/*'))"
   ]
  },
  {
   "cell_type": "markdown",
   "metadata": {},
   "source": [
    "## Script criado em ../src/download-historic-election-data.py"
   ]
  },
  {
   "cell_type": "code",
   "execution_count": null,
   "metadata": {
    "collapsed": true
   },
   "outputs": [],
   "source": []
  }
 ],
 "metadata": {
  "kernelspec": {
   "display_name": "election_history",
   "language": "python",
   "name": "election_data"
  },
  "language_info": {
   "codemirror_mode": {
    "name": "ipython",
    "version": 3
   },
   "file_extension": ".py",
   "mimetype": "text/x-python",
   "name": "python",
   "nbconvert_exporter": "python",
   "pygments_lexer": "ipython3",
   "version": "3.6.0"
  }
 },
 "nbformat": 4,
 "nbformat_minor": 1
}
