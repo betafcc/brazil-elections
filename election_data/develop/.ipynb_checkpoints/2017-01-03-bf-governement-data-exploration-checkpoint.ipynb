{
 "cells": [
  {
   "cell_type": "markdown",
   "metadata": {},
   "source": [
    "# This notebook aims to:\n",
    "    - [X] Achar dados do governo sobre resultado das eleições\n",
    "    - [X] Formatar esses dados em uma dataframe\n",
    "    - [X] Aprender a transversar esses dados"
   ]
  },
  {
   "cell_type": "code",
   "execution_count": 1,
   "metadata": {
    "collapsed": true
   },
   "outputs": [],
   "source": [
    "from IPython.display import IFrame"
   ]
  },
  {
   "cell_type": "code",
   "execution_count": 2,
   "metadata": {
    "collapsed": false
   },
   "outputs": [],
   "source": [
    "import pandas as pd"
   ]
  },
  {
   "cell_type": "markdown",
   "metadata": {},
   "source": [
    "# Ache e mostre o site com os dados de candidatos da última eleição"
   ]
  },
  {
   "cell_type": "code",
   "execution_count": 3,
   "metadata": {
    "collapsed": false,
    "scrolled": true
   },
   "outputs": [
    {
     "data": {
      "text/html": [
       "\n",
       "        <iframe\n",
       "            width=\"800\"\n",
       "            height=\"400\"\n",
       "            src=\"http://www.tse.jus.br/hotSites/pesquisas-eleitorais/candidatos_anos/2016.html\"\n",
       "            frameborder=\"0\"\n",
       "            allowfullscreen\n",
       "        ></iframe>\n",
       "        "
      ],
      "text/plain": [
       "<IPython.lib.display.IFrame at 0x7fe4ec191d68>"
      ]
     },
     "execution_count": 3,
     "metadata": {},
     "output_type": "execute_result"
    }
   ],
   "source": [
    "IFrame('http://www.tse.jus.br/hotSites/pesquisas-eleitorais/candidatos_anos/2016.html', 800, 400)"
   ]
  },
  {
   "cell_type": "code",
   "execution_count": null,
   "metadata": {
    "collapsed": true
   },
   "outputs": [],
   "source": []
  },
  {
   "cell_type": "markdown",
   "metadata": {},
   "source": [
    "# Faça download dos dados de candidatos da última eleição"
   ]
  },
  {
   "cell_type": "code",
   "execution_count": 5,
   "metadata": {
    "collapsed": false
   },
   "outputs": [],
   "source": [
    "# %%bash\n",
    "# wget -q -O ../data/consulta_cand_2016.zip http://agencia.tse.jus.br/estatistica/sead/odsele/consulta_cand/consulta_cand_2016.zip"
   ]
  },
  {
   "cell_type": "code",
   "execution_count": 6,
   "metadata": {
    "collapsed": false
   },
   "outputs": [],
   "source": [
    "# %%bash\n",
    "# unzip ../data/consulta_cand_2016.zip -d ../data/consulta_cand_2016 1>/dev/null"
   ]
  },
  {
   "cell_type": "code",
   "execution_count": 7,
   "metadata": {
    "collapsed": false,
    "scrolled": true
   },
   "outputs": [
    {
     "name": "stdout",
     "output_type": "stream",
     "text": [
      "consulta_cand_2016_AC.txt\n",
      "consulta_cand_2016_AL.txt\n",
      "consulta_cand_2016_AM.txt\n",
      "consulta_cand_2016_AP.txt\n",
      "consulta_cand_2016_BA.txt\n",
      "consulta_cand_2016_BR.txt\n",
      "consulta_cand_2016_CE.txt\n",
      "consulta_cand_2016_DF.txt\n",
      "consulta_cand_2016_ES.txt\n",
      "consulta_cand_2016_GO.txt\n",
      "consulta_cand_2016_MA.txt\n",
      "consulta_cand_2016_MG.txt\n",
      "consulta_cand_2016_MS.txt\n",
      "consulta_cand_2016_MT.txt\n",
      "consulta_cand_2016_PA.txt\n",
      "consulta_cand_2016_PB.txt\n",
      "consulta_cand_2016_PE.txt\n",
      "consulta_cand_2016_PI.txt\n",
      "consulta_cand_2016_PR.txt\n",
      "consulta_cand_2016_RJ.txt\n",
      "consulta_cand_2016_RN.txt\n",
      "consulta_cand_2016_RO.txt\n",
      "consulta_cand_2016_RR.txt\n",
      "consulta_cand_2016_RS.txt\n",
      "consulta_cand_2016_SC.txt\n",
      "consulta_cand_2016_SE.txt\n",
      "consulta_cand_2016_SP.txt\n",
      "consulta_cand_2016_TO.txt\n",
      "LEIAME.pdf\n"
     ]
    }
   ],
   "source": [
    "%%bash\n",
    "ls ../data/consulta_cand_2016/"
   ]
  },
  {
   "cell_type": "markdown",
   "metadata": {},
   "source": [
    "# Mostre o PDF com a lista de indices à amostra"
   ]
  },
  {
   "cell_type": "code",
   "execution_count": 8,
   "metadata": {
    "collapsed": false
   },
   "outputs": [
    {
     "data": {
      "text/html": [
       "\n",
       "        <iframe\n",
       "            width=\"800\"\n",
       "            height=\"400\"\n",
       "            src=\"../data/consulta_cand_2016/LEIAME.pdf#7\"\n",
       "            frameborder=\"0\"\n",
       "            allowfullscreen\n",
       "        ></iframe>\n",
       "        "
      ],
      "text/plain": [
       "<IPython.lib.display.IFrame at 0x7fe4c314e710>"
      ]
     },
     "execution_count": 8,
     "metadata": {},
     "output_type": "execute_result"
    }
   ],
   "source": [
    "IFrame('../data/consulta_cand_2016/LEIAME.pdf#7', 800, 400)"
   ]
  },
  {
   "cell_type": "markdown",
   "metadata": {},
   "source": [
    "# Monte a lista de indices"
   ]
  },
  {
   "cell_type": "code",
   "execution_count": 9,
   "metadata": {
    "collapsed": true
   },
   "outputs": [],
   "source": [
    "variaveis = [\n",
    "    'DATA_GERACAO', 'HORA_GERACAO', 'ANO_ELEICAO',\n",
    "    'NUM_TURNO', 'DESCRICAO_ELEICAO', 'SIGLA_UF',\n",
    "    'SIGLA_UE', 'DESCRICAO_UE', 'CODIGO_CARGO',\n",
    "    'DESCRICAO_CARGO', 'NOME_CANDIDATO', 'SEQUENCIAL_CANDIDATO',\n",
    "    'NUMERO_CANDIDATO', 'CPF_CANDIDATO', 'NOME_URNA_CANDIDATO',\n",
    "    'COD_SITUACAO_CANDIDATURA', 'DES_SITUACAO_CANDIDATURA', 'NUMERO_PARTIDO',\n",
    "    'SIGLA_PARTIDO', 'NOME_PARTIDO', 'CODIGO_LEGENDA',\n",
    "    'SIGLA_LEGENDA', 'COMPOSICAO_LEGENDA', 'NOME_LEGENDA',\n",
    "    'CODIGO_OCUPACAO', 'DESCRICAO_OCUPACAO', 'DATA_NASCIMENTO',\n",
    "    'NUM_TITULO_ELEITORAL_CANDIDATO', 'IDADE_DATA_ELEICAO', 'CODIGO_SEXO',\n",
    "    'DESCRICAO_SEXO', 'COD_GRAU_INSTRUCAO', 'DESCRICAO_GRAU_INSTRUCAO',\n",
    "    'CODIGO_ESTADO_CIVIL', 'DESCRICAO_ESTADO_CIVIL', 'CODIGO_COR_RACA',\n",
    "    'DESCRICAO_COR_RACA', 'CODIGO_NACIONALIDADE', 'DESCRICAO_NACIONALIDADE',\n",
    "    'SIGLA_UF_NASCIMENTO', 'CODIGO_MINICIPIO_NASCIMENTO', 'NOME_MUNICIPIO_NASCIMENTO',\n",
    "    'DESPESA_MAX_CAMPANHA', 'COD_SIT_TOT_TURNO', 'DESC_SIT_TOT_TURNO',\n",
    "    'NM_EMAIL'\n",
    "]"
   ]
  },
  {
   "cell_type": "code",
   "execution_count": 10,
   "metadata": {
    "collapsed": false
   },
   "outputs": [
    {
     "data": {
      "text/plain": [
       "46"
      ]
     },
     "execution_count": 10,
     "metadata": {},
     "output_type": "execute_result"
    }
   ],
   "source": [
    "# CARAAAALHO\n",
    "len(variaveis)"
   ]
  },
  {
   "cell_type": "markdown",
   "metadata": {},
   "source": [
    "# Carrege o arquivo csv como dataframe, com os indices indicados"
   ]
  },
  {
   "cell_type": "code",
   "execution_count": 11,
   "metadata": {
    "collapsed": false,
    "scrolled": true
   },
   "outputs": [],
   "source": [
    "df = pd.read_csv(\n",
    "    '../data/consulta_cand_2016/consulta_cand_2016_RS.txt',\n",
    "    sep=';', encoding='latin1',\n",
    "    index_col=False,\n",
    "    names=variaveis\n",
    ")"
   ]
  },
  {
   "cell_type": "code",
   "execution_count": 12,
   "metadata": {
    "collapsed": false
   },
   "outputs": [
    {
     "data": {
      "text/html": [
       "<div>\n",
       "<table border=\"1\" class=\"dataframe\">\n",
       "  <thead>\n",
       "    <tr style=\"text-align: right;\">\n",
       "      <th></th>\n",
       "      <th>DATA_GERACAO</th>\n",
       "      <th>HORA_GERACAO</th>\n",
       "      <th>ANO_ELEICAO</th>\n",
       "      <th>NUM_TURNO</th>\n",
       "      <th>DESCRICAO_ELEICAO</th>\n",
       "      <th>SIGLA_UF</th>\n",
       "      <th>SIGLA_UE</th>\n",
       "      <th>DESCRICAO_UE</th>\n",
       "      <th>CODIGO_CARGO</th>\n",
       "      <th>DESCRICAO_CARGO</th>\n",
       "      <th>...</th>\n",
       "      <th>DESCRICAO_COR_RACA</th>\n",
       "      <th>CODIGO_NACIONALIDADE</th>\n",
       "      <th>DESCRICAO_NACIONALIDADE</th>\n",
       "      <th>SIGLA_UF_NASCIMENTO</th>\n",
       "      <th>CODIGO_MINICIPIO_NASCIMENTO</th>\n",
       "      <th>NOME_MUNICIPIO_NASCIMENTO</th>\n",
       "      <th>DESPESA_MAX_CAMPANHA</th>\n",
       "      <th>COD_SIT_TOT_TURNO</th>\n",
       "      <th>DESC_SIT_TOT_TURNO</th>\n",
       "      <th>NM_EMAIL</th>\n",
       "    </tr>\n",
       "  </thead>\n",
       "  <tbody>\n",
       "    <tr>\n",
       "      <th>0</th>\n",
       "      <td>03/01/2017</td>\n",
       "      <td>19:17:53</td>\n",
       "      <td>2016</td>\n",
       "      <td>1</td>\n",
       "      <td>Eleições Municipais 2016</td>\n",
       "      <td>RS</td>\n",
       "      <td>86240</td>\n",
       "      <td>ELDORADO DO SUL</td>\n",
       "      <td>12</td>\n",
       "      <td>VICE-PREFEITO</td>\n",
       "      <td>...</td>\n",
       "      <td>BRANCA</td>\n",
       "      <td>1</td>\n",
       "      <td>BRASILEIRA NATA</td>\n",
       "      <td>RS</td>\n",
       "      <td>-3</td>\n",
       "      <td>OSORIO</td>\n",
       "      <td>-1</td>\n",
       "      <td>4</td>\n",
       "      <td>NÃO ELEITO</td>\n",
       "      <td>LURDES.F.LOPES@HOTMAIL.COM</td>\n",
       "    </tr>\n",
       "    <tr>\n",
       "      <th>1</th>\n",
       "      <td>03/01/2017</td>\n",
       "      <td>19:17:53</td>\n",
       "      <td>2016</td>\n",
       "      <td>1</td>\n",
       "      <td>Eleições Municipais 2016</td>\n",
       "      <td>RS</td>\n",
       "      <td>88927</td>\n",
       "      <td>BALNEÁRIO PINHAL</td>\n",
       "      <td>13</td>\n",
       "      <td>VEREADOR</td>\n",
       "      <td>...</td>\n",
       "      <td>BRANCA</td>\n",
       "      <td>1</td>\n",
       "      <td>BRASILEIRA NATA</td>\n",
       "      <td>RS</td>\n",
       "      <td>-3</td>\n",
       "      <td>PORTO ALEGRE</td>\n",
       "      <td>0</td>\n",
       "      <td>2</td>\n",
       "      <td>ELEITO POR QP</td>\n",
       "      <td>BITSCK@TERRA.COM.BR</td>\n",
       "    </tr>\n",
       "    <tr>\n",
       "      <th>2</th>\n",
       "      <td>03/01/2017</td>\n",
       "      <td>19:17:53</td>\n",
       "      <td>2016</td>\n",
       "      <td>1</td>\n",
       "      <td>Eleições Municipais 2016</td>\n",
       "      <td>RS</td>\n",
       "      <td>86851</td>\n",
       "      <td>GUAÍBA</td>\n",
       "      <td>13</td>\n",
       "      <td>VEREADOR</td>\n",
       "      <td>...</td>\n",
       "      <td>BRANCA</td>\n",
       "      <td>1</td>\n",
       "      <td>BRASILEIRA NATA</td>\n",
       "      <td>RS</td>\n",
       "      <td>-3</td>\n",
       "      <td>CAMAQUÃ</td>\n",
       "      <td>-1</td>\n",
       "      <td>2</td>\n",
       "      <td>ELEITO POR QP</td>\n",
       "      <td>PTBGUAIBARS@YAHOO.COM.BR</td>\n",
       "    </tr>\n",
       "    <tr>\n",
       "      <th>3</th>\n",
       "      <td>03/01/2017</td>\n",
       "      <td>19:17:53</td>\n",
       "      <td>2016</td>\n",
       "      <td>1</td>\n",
       "      <td>Eleições Municipais 2016</td>\n",
       "      <td>RS</td>\n",
       "      <td>86851</td>\n",
       "      <td>GUAÍBA</td>\n",
       "      <td>13</td>\n",
       "      <td>VEREADOR</td>\n",
       "      <td>...</td>\n",
       "      <td>BRANCA</td>\n",
       "      <td>1</td>\n",
       "      <td>BRASILEIRA NATA</td>\n",
       "      <td>RS</td>\n",
       "      <td>-3</td>\n",
       "      <td>RESTINGA SECA</td>\n",
       "      <td>-1</td>\n",
       "      <td>5</td>\n",
       "      <td>SUPLENTE</td>\n",
       "      <td>PTBGUAIBARS@YAHOO.COM.BR</td>\n",
       "    </tr>\n",
       "    <tr>\n",
       "      <th>4</th>\n",
       "      <td>03/01/2017</td>\n",
       "      <td>19:17:53</td>\n",
       "      <td>2016</td>\n",
       "      <td>1</td>\n",
       "      <td>Eleições Municipais 2016</td>\n",
       "      <td>RS</td>\n",
       "      <td>87157</td>\n",
       "      <td>ITATIBA DO SUL</td>\n",
       "      <td>13</td>\n",
       "      <td>VEREADOR</td>\n",
       "      <td>...</td>\n",
       "      <td>BRANCA</td>\n",
       "      <td>1</td>\n",
       "      <td>BRASILEIRA NATA</td>\n",
       "      <td>RS</td>\n",
       "      <td>-3</td>\n",
       "      <td>ARATIBA</td>\n",
       "      <td>-1</td>\n",
       "      <td>5</td>\n",
       "      <td>SUPLENTE</td>\n",
       "      <td>CELIOFIABANI@BOL.COM.BR</td>\n",
       "    </tr>\n",
       "  </tbody>\n",
       "</table>\n",
       "<p>5 rows × 46 columns</p>\n",
       "</div>"
      ],
      "text/plain": [
       "  DATA_GERACAO HORA_GERACAO  ANO_ELEICAO  NUM_TURNO         DESCRICAO_ELEICAO  \\\n",
       "0   03/01/2017     19:17:53         2016          1  Eleições Municipais 2016   \n",
       "1   03/01/2017     19:17:53         2016          1  Eleições Municipais 2016   \n",
       "2   03/01/2017     19:17:53         2016          1  Eleições Municipais 2016   \n",
       "3   03/01/2017     19:17:53         2016          1  Eleições Municipais 2016   \n",
       "4   03/01/2017     19:17:53         2016          1  Eleições Municipais 2016   \n",
       "\n",
       "  SIGLA_UF  SIGLA_UE      DESCRICAO_UE  CODIGO_CARGO DESCRICAO_CARGO  \\\n",
       "0       RS     86240   ELDORADO DO SUL            12   VICE-PREFEITO   \n",
       "1       RS     88927  BALNEÁRIO PINHAL            13        VEREADOR   \n",
       "2       RS     86851            GUAÍBA            13        VEREADOR   \n",
       "3       RS     86851            GUAÍBA            13        VEREADOR   \n",
       "4       RS     87157    ITATIBA DO SUL            13        VEREADOR   \n",
       "\n",
       "              ...             DESCRICAO_COR_RACA  CODIGO_NACIONALIDADE  \\\n",
       "0             ...                         BRANCA                     1   \n",
       "1             ...                         BRANCA                     1   \n",
       "2             ...                         BRANCA                     1   \n",
       "3             ...                         BRANCA                     1   \n",
       "4             ...                         BRANCA                     1   \n",
       "\n",
       "   DESCRICAO_NACIONALIDADE  SIGLA_UF_NASCIMENTO CODIGO_MINICIPIO_NASCIMENTO  \\\n",
       "0          BRASILEIRA NATA                   RS                          -3   \n",
       "1          BRASILEIRA NATA                   RS                          -3   \n",
       "2          BRASILEIRA NATA                   RS                          -3   \n",
       "3          BRASILEIRA NATA                   RS                          -3   \n",
       "4          BRASILEIRA NATA                   RS                          -3   \n",
       "\n",
       "   NOME_MUNICIPIO_NASCIMENTO DESPESA_MAX_CAMPANHA  COD_SIT_TOT_TURNO  \\\n",
       "0                     OSORIO                   -1                  4   \n",
       "1               PORTO ALEGRE                    0                  2   \n",
       "2                    CAMAQUÃ                   -1                  2   \n",
       "3              RESTINGA SECA                   -1                  5   \n",
       "4                    ARATIBA                   -1                  5   \n",
       "\n",
       "  DESC_SIT_TOT_TURNO                    NM_EMAIL  \n",
       "0         NÃO ELEITO  LURDES.F.LOPES@HOTMAIL.COM  \n",
       "1      ELEITO POR QP         BITSCK@TERRA.COM.BR  \n",
       "2      ELEITO POR QP    PTBGUAIBARS@YAHOO.COM.BR  \n",
       "3           SUPLENTE    PTBGUAIBARS@YAHOO.COM.BR  \n",
       "4           SUPLENTE     CELIOFIABANI@BOL.COM.BR  \n",
       "\n",
       "[5 rows x 46 columns]"
      ]
     },
     "execution_count": 12,
     "metadata": {},
     "output_type": "execute_result"
    }
   ],
   "source": [
    "df.head()"
   ]
  },
  {
   "cell_type": "code",
   "execution_count": 13,
   "metadata": {
    "collapsed": false,
    "scrolled": true
   },
   "outputs": [
    {
     "data": {
      "text/html": [
       "<div>\n",
       "<table border=\"1\" class=\"dataframe\">\n",
       "  <thead>\n",
       "    <tr style=\"text-align: right;\">\n",
       "      <th></th>\n",
       "      <th>18392</th>\n",
       "    </tr>\n",
       "  </thead>\n",
       "  <tbody>\n",
       "    <tr>\n",
       "      <th>DATA_GERACAO</th>\n",
       "      <td>03/01/2017</td>\n",
       "    </tr>\n",
       "    <tr>\n",
       "      <th>HORA_GERACAO</th>\n",
       "      <td>19:17:53</td>\n",
       "    </tr>\n",
       "    <tr>\n",
       "      <th>ANO_ELEICAO</th>\n",
       "      <td>2016</td>\n",
       "    </tr>\n",
       "    <tr>\n",
       "      <th>NUM_TURNO</th>\n",
       "      <td>1</td>\n",
       "    </tr>\n",
       "    <tr>\n",
       "      <th>DESCRICAO_ELEICAO</th>\n",
       "      <td>Eleições Municipais 2016</td>\n",
       "    </tr>\n",
       "    <tr>\n",
       "      <th>SIGLA_UF</th>\n",
       "      <td>RS</td>\n",
       "    </tr>\n",
       "    <tr>\n",
       "      <th>SIGLA_UE</th>\n",
       "      <td>88013</td>\n",
       "    </tr>\n",
       "    <tr>\n",
       "      <th>DESCRICAO_UE</th>\n",
       "      <td>PORTO ALEGRE</td>\n",
       "    </tr>\n",
       "    <tr>\n",
       "      <th>CODIGO_CARGO</th>\n",
       "      <td>13</td>\n",
       "    </tr>\n",
       "    <tr>\n",
       "      <th>DESCRICAO_CARGO</th>\n",
       "      <td>VEREADOR</td>\n",
       "    </tr>\n",
       "    <tr>\n",
       "      <th>NOME_CANDIDATO</th>\n",
       "      <td>PRISCILA VOIGT SEVERIANO</td>\n",
       "    </tr>\n",
       "    <tr>\n",
       "      <th>SEQUENCIAL_CANDIDATO</th>\n",
       "      <td>210000006967</td>\n",
       "    </tr>\n",
       "    <tr>\n",
       "      <th>NUMERO_CANDIDATO</th>\n",
       "      <td>50800</td>\n",
       "    </tr>\n",
       "    <tr>\n",
       "      <th>CPF_CANDIDATO</th>\n",
       "      <td>6523915913</td>\n",
       "    </tr>\n",
       "    <tr>\n",
       "      <th>NOME_URNA_CANDIDATO</th>\n",
       "      <td>PRISCILA VOIGT</td>\n",
       "    </tr>\n",
       "    <tr>\n",
       "      <th>COD_SITUACAO_CANDIDATURA</th>\n",
       "      <td>2</td>\n",
       "    </tr>\n",
       "    <tr>\n",
       "      <th>DES_SITUACAO_CANDIDATURA</th>\n",
       "      <td>DEFERIDO</td>\n",
       "    </tr>\n",
       "    <tr>\n",
       "      <th>NUMERO_PARTIDO</th>\n",
       "      <td>50</td>\n",
       "    </tr>\n",
       "    <tr>\n",
       "      <th>SIGLA_PARTIDO</th>\n",
       "      <td>PSOL</td>\n",
       "    </tr>\n",
       "    <tr>\n",
       "      <th>NOME_PARTIDO</th>\n",
       "      <td>PARTIDO SOCIALISMO E LIBERDADE</td>\n",
       "    </tr>\n",
       "    <tr>\n",
       "      <th>CODIGO_LEGENDA</th>\n",
       "      <td>210000000495</td>\n",
       "    </tr>\n",
       "    <tr>\n",
       "      <th>SIGLA_LEGENDA</th>\n",
       "      <td>#NULO#</td>\n",
       "    </tr>\n",
       "    <tr>\n",
       "      <th>COMPOSICAO_LEGENDA</th>\n",
       "      <td>PCB / PPL / PSOL</td>\n",
       "    </tr>\n",
       "    <tr>\n",
       "      <th>NOME_LEGENDA</th>\n",
       "      <td>É A VEZ DA MUDANÇA</td>\n",
       "    </tr>\n",
       "    <tr>\n",
       "      <th>CODIGO_OCUPACAO</th>\n",
       "      <td>999</td>\n",
       "    </tr>\n",
       "    <tr>\n",
       "      <th>DESCRICAO_OCUPACAO</th>\n",
       "      <td>OUTROS</td>\n",
       "    </tr>\n",
       "    <tr>\n",
       "      <th>DATA_NASCIMENTO</th>\n",
       "      <td>19/06/1991</td>\n",
       "    </tr>\n",
       "    <tr>\n",
       "      <th>NUM_TITULO_ELEITORAL_CANDIDATO</th>\n",
       "      <td>52086620930</td>\n",
       "    </tr>\n",
       "    <tr>\n",
       "      <th>IDADE_DATA_ELEICAO</th>\n",
       "      <td>25</td>\n",
       "    </tr>\n",
       "    <tr>\n",
       "      <th>CODIGO_SEXO</th>\n",
       "      <td>4</td>\n",
       "    </tr>\n",
       "    <tr>\n",
       "      <th>DESCRICAO_SEXO</th>\n",
       "      <td>FEMININO</td>\n",
       "    </tr>\n",
       "    <tr>\n",
       "      <th>COD_GRAU_INSTRUCAO</th>\n",
       "      <td>8</td>\n",
       "    </tr>\n",
       "    <tr>\n",
       "      <th>DESCRICAO_GRAU_INSTRUCAO</th>\n",
       "      <td>SUPERIOR COMPLETO</td>\n",
       "    </tr>\n",
       "    <tr>\n",
       "      <th>CODIGO_ESTADO_CIVIL</th>\n",
       "      <td>1</td>\n",
       "    </tr>\n",
       "    <tr>\n",
       "      <th>DESCRICAO_ESTADO_CIVIL</th>\n",
       "      <td>SOLTEIRO(A)</td>\n",
       "    </tr>\n",
       "    <tr>\n",
       "      <th>CODIGO_COR_RACA</th>\n",
       "      <td>1</td>\n",
       "    </tr>\n",
       "    <tr>\n",
       "      <th>DESCRICAO_COR_RACA</th>\n",
       "      <td>BRANCA</td>\n",
       "    </tr>\n",
       "    <tr>\n",
       "      <th>CODIGO_NACIONALIDADE</th>\n",
       "      <td>1</td>\n",
       "    </tr>\n",
       "    <tr>\n",
       "      <th>DESCRICAO_NACIONALIDADE</th>\n",
       "      <td>BRASILEIRA NATA</td>\n",
       "    </tr>\n",
       "    <tr>\n",
       "      <th>SIGLA_UF_NASCIMENTO</th>\n",
       "      <td>SC</td>\n",
       "    </tr>\n",
       "    <tr>\n",
       "      <th>CODIGO_MINICIPIO_NASCIMENTO</th>\n",
       "      <td>-3</td>\n",
       "    </tr>\n",
       "    <tr>\n",
       "      <th>NOME_MUNICIPIO_NASCIMENTO</th>\n",
       "      <td>TIJUCAS</td>\n",
       "    </tr>\n",
       "    <tr>\n",
       "      <th>DESPESA_MAX_CAMPANHA</th>\n",
       "      <td>0</td>\n",
       "    </tr>\n",
       "    <tr>\n",
       "      <th>COD_SIT_TOT_TURNO</th>\n",
       "      <td>5</td>\n",
       "    </tr>\n",
       "    <tr>\n",
       "      <th>DESC_SIT_TOT_TURNO</th>\n",
       "      <td>SUPLENTE</td>\n",
       "    </tr>\n",
       "    <tr>\n",
       "      <th>NM_EMAIL</th>\n",
       "      <td>PRIVOIGT@GMAIL.COM</td>\n",
       "    </tr>\n",
       "  </tbody>\n",
       "</table>\n",
       "</div>"
      ],
      "text/plain": [
       "                                                         18392\n",
       "DATA_GERACAO                                        03/01/2017\n",
       "HORA_GERACAO                                          19:17:53\n",
       "ANO_ELEICAO                                               2016\n",
       "NUM_TURNO                                                    1\n",
       "DESCRICAO_ELEICAO                     Eleições Municipais 2016\n",
       "SIGLA_UF                                                    RS\n",
       "SIGLA_UE                                                 88013\n",
       "DESCRICAO_UE                                      PORTO ALEGRE\n",
       "CODIGO_CARGO                                                13\n",
       "DESCRICAO_CARGO                                       VEREADOR\n",
       "NOME_CANDIDATO                        PRISCILA VOIGT SEVERIANO\n",
       "SEQUENCIAL_CANDIDATO                              210000006967\n",
       "NUMERO_CANDIDATO                                         50800\n",
       "CPF_CANDIDATO                                       6523915913\n",
       "NOME_URNA_CANDIDATO                             PRISCILA VOIGT\n",
       "COD_SITUACAO_CANDIDATURA                                     2\n",
       "DES_SITUACAO_CANDIDATURA                              DEFERIDO\n",
       "NUMERO_PARTIDO                                              50\n",
       "SIGLA_PARTIDO                                             PSOL\n",
       "NOME_PARTIDO                    PARTIDO SOCIALISMO E LIBERDADE\n",
       "CODIGO_LEGENDA                                    210000000495\n",
       "SIGLA_LEGENDA                                           #NULO#\n",
       "COMPOSICAO_LEGENDA                            PCB / PPL / PSOL\n",
       "NOME_LEGENDA                                É A VEZ DA MUDANÇA\n",
       "CODIGO_OCUPACAO                                            999\n",
       "DESCRICAO_OCUPACAO                                      OUTROS\n",
       "DATA_NASCIMENTO                                     19/06/1991\n",
       "NUM_TITULO_ELEITORAL_CANDIDATO                     52086620930\n",
       "IDADE_DATA_ELEICAO                                          25\n",
       "CODIGO_SEXO                                                  4\n",
       "DESCRICAO_SEXO                                        FEMININO\n",
       "COD_GRAU_INSTRUCAO                                           8\n",
       "DESCRICAO_GRAU_INSTRUCAO                     SUPERIOR COMPLETO\n",
       "CODIGO_ESTADO_CIVIL                                          1\n",
       "DESCRICAO_ESTADO_CIVIL                             SOLTEIRO(A)\n",
       "CODIGO_COR_RACA                                              1\n",
       "DESCRICAO_COR_RACA                                      BRANCA\n",
       "CODIGO_NACIONALIDADE                                         1\n",
       "DESCRICAO_NACIONALIDADE                        BRASILEIRA NATA\n",
       "SIGLA_UF_NASCIMENTO                                         SC\n",
       "CODIGO_MINICIPIO_NASCIMENTO                                 -3\n",
       "NOME_MUNICIPIO_NASCIMENTO                              TIJUCAS\n",
       "DESPESA_MAX_CAMPANHA                                         0\n",
       "COD_SIT_TOT_TURNO                                            5\n",
       "DESC_SIT_TOT_TURNO                                    SUPLENTE\n",
       "NM_EMAIL                                    PRIVOIGT@GMAIL.COM"
      ]
     },
     "execution_count": 13,
     "metadata": {},
     "output_type": "execute_result"
    }
   ],
   "source": [
    "df[df.NOME_CANDIDATO.str.contains('PRISCILA VOIGT')].transpose()"
   ]
  },
  {
   "cell_type": "markdown",
   "metadata": {},
   "source": [
    "# Quem ganhou as eleições de prefeito na cidade do Rio de Janeiro? "
   ]
  },
  {
   "cell_type": "code",
   "execution_count": 14,
   "metadata": {
    "collapsed": true
   },
   "outputs": [],
   "source": [
    "rj = pd.read_csv(\n",
    "    '../data/consulta_cand_2016/consulta_cand_2016_RJ.txt',\n",
    "    sep=';', encoding='latin1',\n",
    "    index_col=False,\n",
    "    names=variaveis\n",
    ")"
   ]
  },
  {
   "cell_type": "code",
   "execution_count": 23,
   "metadata": {
    "collapsed": false
   },
   "outputs": [
    {
     "data": {
      "text/plain": [
       "22159    CRIVELLA\n",
       "Name: NOME_URNA_CANDIDATO, dtype: object"
      ]
     },
     "execution_count": 23,
     "metadata": {},
     "output_type": "execute_result"
    }
   ],
   "source": [
    "p = rj\n",
    "p = p[p.DESCRICAO_CARGO == 'PREFEITO']\n",
    "p = p[p.DESC_SIT_TOT_TURNO == 'ELEITO']\n",
    "p = p[p.DESCRICAO_UE == 'RIO DE JANEIRO']\n",
    "p.NOME_URNA_CANDIDATO"
   ]
  },
  {
   "cell_type": "markdown",
   "metadata": {
    "collapsed": true
   },
   "source": [
    "# Quantos vereadores foram eleitos pela cidade do Rio de Janeiro?"
   ]
  },
  {
   "cell_type": "code",
   "execution_count": 33,
   "metadata": {
    "collapsed": false
   },
   "outputs": [
    {
     "data": {
      "text/plain": [
       "DESC_SIT_TOT_TURNO\n",
       "#NULO#                21\n",
       "ELEITO POR MÉDIA      13\n",
       "ELEITO POR QP         38\n",
       "NÃO ELEITO           426\n",
       "SUPLENTE            1130\n",
       "dtype: int64"
      ]
     },
     "execution_count": 33,
     "metadata": {},
     "output_type": "execute_result"
    }
   ],
   "source": [
    "v = rj\n",
    "v = v[v.DESCRICAO_CARGO == 'VEREADOR']\n",
    "v = v[v.DESCRICAO_UE == 'RIO DE JANEIRO']\n",
    "g = v.groupby('DESC_SIT_TOT_TURNO')\n",
    "g.size()"
   ]
  },
  {
   "cell_type": "markdown",
   "metadata": {},
   "source": [
    "# Quais os nomes dos vereadores eleitos no Rio de Janeiro?"
   ]
  },
  {
   "cell_type": "code",
   "execution_count": 40,
   "metadata": {
    "collapsed": false
   },
   "outputs": [
    {
     "data": {
      "text/plain": [
       "471             ALEXANDRE ISQUIERDO\n",
       "2776             BISPO INALDO SILVA\n",
       "21386                  CARLO CAIADO\n",
       "22061              CARLOS BOLSONARO\n",
       "16204                    CESAR MAIA\n",
       "20857              CHIQUINHO BRAZÃO\n",
       "10963                CLÁUDIO CASTRO\n",
       "15029                 DAVID MIRANDA\n",
       "8188                    DR GILBERTO\n",
       "4719             DR. CARLOS EDUARDO\n",
       "2566               DR. JOÃO RICARDO\n",
       "20639              DRº JORGE MANAIA\n",
       "3831                 ELISEU KESSLER\n",
       "9507                  FELIPE MICHEL\n",
       "5820               FERNANDO WILLIAM\n",
       "21053                    ITALO CIBA\n",
       "4303           JAIR DA MENDES GOMES\n",
       "13852                      JAIRINHO\n",
       "10870                   JONES MOURA\n",
       "9723                  JORGE FELIPPE\n",
       "1368           JOÃO MENDES DE JESUS\n",
       "5596              JUNIOR DA LUCINHA\n",
       "19976                  LEANDRO LYRA\n",
       "15192           LEONEL BRIZOLA NETO\n",
       "13889                LUCIANA NOVAES\n",
       "20209       LUIZ CARLOS RAMOS FILHO\n",
       "14148           MARCELINO D'ALMEIDA\n",
       "17625            MARCELLO SICILIANO\n",
       "1139                   MARCELO ARAR\n",
       "11030               MARIELLE FRANCO\n",
       "16621             OTONI DE PAULA JR\n",
       "13387                 PAULO MESSINA\n",
       "21246                PAULO PINHEIRO\n",
       "10018             PROFESSOR ADALMIR\n",
       "2318     PROFESSOR CELIO LUPPARELLI\n",
       "16607        RAFAEL ALOISIO FREITAS\n",
       "16559                       REIMONT\n",
       "11494                  RENATO CINCO\n",
       "10741                  RENATO MOURA\n",
       "4562                  ROGERIO ROCAL\n",
       "18031                ROSA FERNANDES\n",
       "9738                 TARCÍSIO MOTTA\n",
       "2801                 TERESA BERGHER\n",
       "22259             THIAGO K. RIBEIRO\n",
       "1220                  TÂNIA BASTOS'\n",
       "19451                           VAL\n",
       "21277                     VERA LINS\n",
       "19473                VERÔNICA COSTA\n",
       "18788                WILLIAN COELHO\n",
       "2918                           ZICO\n",
       "7388                    ZICO BACANA\n",
       "Name: NOME_URNA_CANDIDATO, dtype: object"
      ]
     },
     "execution_count": 40,
     "metadata": {},
     "output_type": "execute_result"
    }
   ],
   "source": [
    "v = rj\n",
    "v = v[v.DESCRICAO_CARGO == 'VEREADOR']\n",
    "v = v[v.DESCRICAO_UE == 'RIO DE JANEIRO']\n",
    "v = v[v.DESC_SIT_TOT_TURNO.str.startswith('ELEITO')]\n",
    "v.NOME_URNA_CANDIDATO.sort_values()"
   ]
  },
  {
   "cell_type": "markdown",
   "metadata": {},
   "source": [
    "# Qual a ratio de homem/mulher nos vereadores eleitos no Rio de Janeiro?"
   ]
  },
  {
   "cell_type": "code",
   "execution_count": 42,
   "metadata": {
    "collapsed": false
   },
   "outputs": [
    {
     "data": {
      "text/plain": [
       "DESCRICAO_SEXO\n",
       "FEMININO      7\n",
       "MASCULINO    44\n",
       "dtype: int64"
      ]
     },
     "execution_count": 42,
     "metadata": {},
     "output_type": "execute_result"
    }
   ],
   "source": [
    "v = rj\n",
    "v = v[v.DESCRICAO_CARGO == 'VEREADOR']\n",
    "v = v[v.DESCRICAO_UE == 'RIO DE JANEIRO']\n",
    "v = v[v.DESC_SIT_TOT_TURNO.str.startswith('ELEITO')]\n",
    "g = v.groupby('DESCRICAO_SEXO')\n",
    "g.size()"
   ]
  },
  {
   "cell_type": "code",
   "execution_count": 65,
   "metadata": {
    "collapsed": false
   },
   "outputs": [
    {
     "data": {
      "text/plain": [
       "DESCRICAO_SEXO\n",
       "FEMININO     13.72549\n",
       "MASCULINO    86.27451\n",
       "dtype: float64"
      ]
     },
     "execution_count": 65,
     "metadata": {},
     "output_type": "execute_result"
    }
   ],
   "source": [
    "# Porcentagem\n",
    "s = g.size()\n",
    "(s / (s.FEMININO + s.MASCULINO)) * 100"
   ]
  },
  {
   "cell_type": "markdown",
   "metadata": {},
   "source": [
    "# Liste todos os prefeitos eleitos no estado do RJ"
   ]
  },
  {
   "cell_type": "code",
   "execution_count": 69,
   "metadata": {
    "collapsed": false
   },
   "outputs": [
    {
     "data": {
      "text/plain": [
       "71             ANTONIO GONÇALVES\n",
       "328              JORGE SERFIOTIS\n",
       "414                   FRANCIMARA\n",
       "713                        BRUNO\n",
       "793               JOSIAS QUINTAL\n",
       "1142                      FÁTIMA\n",
       "1158            DR. LUIZ ANTONIO\n",
       "1542               FABIANO HORTA\n",
       "2247            RENATINHO VIANNA\n",
       "2272                  AGNALDINHO\n",
       "2354            CLAUDIO LINHARES\n",
       "2388                   CHARLINHO\n",
       "2509        PROFESSOR JOSÉ OSMAR\n",
       "2573        AMARILDO DO HOSPITAL\n",
       "2622                     DEZOITO\n",
       "2783                 DR. ALUÍZIO\n",
       "2825               MARIO ESTEVES\n",
       "2865              BRUNO BOARETTO\n",
       "3028         DR. JOSÉ LUIZ NANCI\n",
       "3195                 JAULDO NETO\n",
       "3254           JUNINHO BERNARDES\n",
       "3322            GILBERTO ESTEVES\n",
       "3870                RENATO BRAVO\n",
       "4249                 PAULO DAMES\n",
       "4372         JOSÉ LUIZ MANDIOCÃO\n",
       "5106             CLOVINHO TOSTES\n",
       "5215              RAFAEL TUBARÃO\n",
       "5373                DR. VINÍCIUS\n",
       "5990                SAMUCA SILVA\n",
       "6057           FLÁVIO DO AÇOUGUE\n",
       "                  ...           \n",
       "13364             CARLOS AUGUSTO\n",
       "13673    DR DIOGO BALIEIRO DINIZ\n",
       "13749              RODRIGO VIANA\n",
       "13949              GUGA DE PAULA\n",
       "14226                    PÉ LISO\n",
       "14497              SEVERINO DIAS\n",
       "14533              RODRIGO NEVES\n",
       "15252              JORGE MIRANDA\n",
       "15472                   DR ANDRE\n",
       "15926          TAVINHO RODRIGUES\n",
       "16691             FABRICIO BAIÃO\n",
       "16799              DR ALESSANDRO\n",
       "16852               RAFAEL DINIZ\n",
       "17165            ANDRÉ PORTUGUÊS\n",
       "17510                      AARÃO\n",
       "17619             ROGÉRIO RIENTE\n",
       "17696                FARID ABRÃO\n",
       "18665                MARCIONILIO\n",
       "18816                       CASÉ\n",
       "18905                   DR. JOÃO\n",
       "19841         ANDERSON ALEXANDRE\n",
       "19865            EDNARDO BARBOSA\n",
       "20387            SEVERIANO NENEM\n",
       "20475            BETO VERBICÁRIO\n",
       "20615                     VILELA\n",
       "20921         LÍVIA DE CHIQUINHO\n",
       "20988      GILSON NUNES SIQUEIRA\n",
       "21749              MANOELA PERES\n",
       "22101                LUIZ CARLOS\n",
       "22159                   CRIVELLA\n",
       "Name: NOME_URNA_CANDIDATO, dtype: object"
      ]
     },
     "execution_count": 69,
     "metadata": {},
     "output_type": "execute_result"
    }
   ],
   "source": [
    "p = rj\n",
    "p = p[p.DESCRICAO_CARGO == 'PREFEITO']\n",
    "p = p[p.DESC_SIT_TOT_TURNO == 'ELEITO']\n",
    "p.NOME_URNA_CANDIDATO"
   ]
  },
  {
   "cell_type": "code",
   "execution_count": null,
   "metadata": {
    "collapsed": true
   },
   "outputs": [],
   "source": []
  },
  {
   "cell_type": "markdown",
   "metadata": {},
   "source": [
    "# Liste quantos vereadores foram eleitos, organizados por cidade, no estado do RJ"
   ]
  },
  {
   "cell_type": "code",
   "execution_count": 84,
   "metadata": {
    "collapsed": false,
    "scrolled": true
   },
   "outputs": [
    {
     "data": {
      "text/plain": [
       "DESCRICAO_UE\n",
       "RIO DE JANEIRO                   51\n",
       "DUQUE DE CAXIAS                  29\n",
       "SÃO GONÇALO                      27\n",
       "BELFORD ROXO                     25\n",
       "CAMPOS DOS GOYTACAZES            25\n",
       "VOLTA REDONDA                    21\n",
       "NOVA FRIBURGO                    21\n",
       "NITERÓI                          21\n",
       "SÃO JOÃO DE MERITI               21\n",
       "BARRA MANSA                      19\n",
       "QUEIMADOS                        17\n",
       "NOVA IGUAÇU                      17\n",
       "MARICÁ                           17\n",
       "MAGÉ                             17\n",
       "RESENDE                          17\n",
       "MACAÉ                            17\n",
       "ITAGUAÍ                          17\n",
       "CABO FRIO                        17\n",
       "ARARUAMA                         17\n",
       "TRÊS RIOS                        15\n",
       "BARRA DO PIRAÍ                   15\n",
       "PETRÓPOLIS                       15\n",
       "ITABORAÍ                         15\n",
       "ANGRA DOS REIS                   14\n",
       "ITAPERUNA                        13\n",
       "VASSOURAS                        13\n",
       "SANTO ANTÔNIO DE PÁDUA           13\n",
       "BOM JESUS DO ITABAPOANA          13\n",
       "TANGUÁ                           13\n",
       "CACHOEIRAS DE MACACU             13\n",
       "                                 ..\n",
       "QUATIS                            9\n",
       "SUMIDOURO                         9\n",
       "QUISSAMÃ                          9\n",
       "LAJE DO MURIAÉ                    9\n",
       "CARAPEBUS                         9\n",
       "TRAJANO DE MORAIS                 9\n",
       "RIO DAS FLORES                    9\n",
       "ARRAIAL DO CABO                   9\n",
       "ARMAÇÃO DOS BÚZIOS                9\n",
       "AREAL                             9\n",
       "VARRE-SAI                         9\n",
       "APERIBÉ                           9\n",
       "SÃO FIDÉLIS                       9\n",
       "CARDOSO MOREIRA                   9\n",
       "PORCIÚNCULA                       9\n",
       "CASIMIRO DE ABREU                 9\n",
       "COMENDADOR LEVY GASPARIAN         9\n",
       "MENDES                            9\n",
       "PINHEIRAL                         9\n",
       "DUAS BARRAS                       9\n",
       "ENGENHEIRO PAULO DE FRONTIN       9\n",
       "GUAPIMIRIM                        9\n",
       "MACUCO                            9\n",
       "SÃO JOÃO DA BARRA                 9\n",
       "SÃO JOSÉ DO VALE DO RIO PRETO     9\n",
       "ITALVA                            9\n",
       "SÃO JOSÉ DE UBÁ                   9\n",
       "PARATY                            9\n",
       "PARACAMBI                         9\n",
       "SANTA MARIA MADALENA              9\n",
       "dtype: int64"
      ]
     },
     "execution_count": 84,
     "metadata": {},
     "output_type": "execute_result"
    }
   ],
   "source": [
    "v = rj\n",
    "v = v[v.DESCRICAO_CARGO == 'VEREADOR']\n",
    "v = v[v.DESC_SIT_TOT_TURNO.str.startswith('ELEITO')]\n",
    "v = v.groupby('DESCRICAO_UE')\n",
    "v.size().sort_values(ascending=False)"
   ]
  },
  {
   "cell_type": "markdown",
   "metadata": {},
   "source": [
    "# Plote a ratio de homem/mulher vereador eleito por cidade no Rio de Janeiro"
   ]
  },
  {
   "cell_type": "code",
   "execution_count": 153,
   "metadata": {
    "collapsed": false,
    "scrolled": true
   },
   "outputs": [
    {
     "data": {
      "text/plain": [
       "DESCRICAO_UE                   DESCRICAO_SEXO\n",
       "ANGRA DOS REIS                 FEMININO           3\n",
       "                               MASCULINO         11\n",
       "APERIBÉ                        MASCULINO          9\n",
       "ARARUAMA                       FEMININO           2\n",
       "                               MASCULINO         15\n",
       "AREAL                          FEMININO           1\n",
       "                               MASCULINO          8\n",
       "ARMAÇÃO DOS BÚZIOS             FEMININO           2\n",
       "                               MASCULINO          7\n",
       "ARRAIAL DO CABO                MASCULINO          9\n",
       "BARRA DO PIRAÍ                 MASCULINO         15\n",
       "BARRA MANSA                    FEMININO           1\n",
       "                               MASCULINO         18\n",
       "BELFORD ROXO                   FEMININO           5\n",
       "                               MASCULINO         20\n",
       "BOM JARDIM                     FEMININO           2\n",
       "                               MASCULINO          9\n",
       "BOM JESUS DO ITABAPOANA        MASCULINO         13\n",
       "CABO FRIO                      FEMININO           2\n",
       "                               MASCULINO         15\n",
       "CACHOEIRAS DE MACACU           MASCULINO         13\n",
       "CAMBUCI                        FEMININO           1\n",
       "                               MASCULINO          8\n",
       "CAMPOS DOS GOYTACAZES          FEMININO           2\n",
       "                               MASCULINO         23\n",
       "CANTAGALO                      FEMININO           1\n",
       "                               MASCULINO         10\n",
       "CARAPEBUS                      FEMININO           1\n",
       "                               MASCULINO          8\n",
       "CARDOSO MOREIRA                FEMININO           2\n",
       "                                                 ..\n",
       "SÃO FIDÉLIS                    MASCULINO          9\n",
       "SÃO FRANCISCO DE ITABAPOANA    FEMININO           1\n",
       "                               MASCULINO         12\n",
       "SÃO GONÇALO                    FEMININO           1\n",
       "                               MASCULINO         26\n",
       "SÃO JOSÉ DE UBÁ                FEMININO           3\n",
       "                               MASCULINO          6\n",
       "SÃO JOSÉ DO VALE DO RIO PRETO  FEMININO           2\n",
       "                               MASCULINO          7\n",
       "SÃO JOÃO DA BARRA              FEMININO           1\n",
       "                               MASCULINO          8\n",
       "SÃO JOÃO DE MERITI             MASCULINO         21\n",
       "SÃO PEDRO DA ALDEIA            FEMININO           4\n",
       "                               MASCULINO          6\n",
       "SÃO SEBASTIÃO DO ALTO          FEMININO           1\n",
       "                               MASCULINO          8\n",
       "TANGUÁ                         FEMININO           1\n",
       "                               MASCULINO         12\n",
       "TERESÓPOLIS                    FEMININO           1\n",
       "                               MASCULINO         11\n",
       "TRAJANO DE MORAIS              FEMININO           2\n",
       "                               MASCULINO          7\n",
       "TRÊS RIOS                      MASCULINO         15\n",
       "VALENÇA                        FEMININO           2\n",
       "                               MASCULINO         10\n",
       "VARRE-SAI                      MASCULINO          9\n",
       "VASSOURAS                      FEMININO           1\n",
       "                               MASCULINO         12\n",
       "VOLTA REDONDA                  FEMININO           1\n",
       "                               MASCULINO         20\n",
       "dtype: int64"
      ]
     },
     "execution_count": 153,
     "metadata": {},
     "output_type": "execute_result"
    }
   ],
   "source": [
    "v = rj\n",
    "v = v[v.DESC_SIT_TOT_TURNO.str.startswith('ELEITO')]\n",
    "v = v[v.DESCRICAO_CARGO == 'VEREADOR']\n",
    "g = v.groupby([\n",
    "    'DESCRICAO_UE',\n",
    "    'DESCRICAO_SEXO'\n",
    "])\n",
    "s = g.size()\n",
    "s"
   ]
  },
  {
   "cell_type": "code",
   "execution_count": 154,
   "metadata": {
    "collapsed": false,
    "scrolled": true
   },
   "outputs": [
    {
     "data": {
      "text/plain": [
       "DESCRICAO_UE\n",
       "SÃO PEDRO DA ALDEIA              40.000000\n",
       "ENGENHEIRO PAULO DE FRONTIN      33.333333\n",
       "COMENDADOR LEVY GASPARIAN        33.333333\n",
       "SÃO JOSÉ DE UBÁ                  33.333333\n",
       "CORDEIRO                         27.272727\n",
       "CARMO                            27.272727\n",
       "SAQUAREMA                        23.076923\n",
       "CARDOSO MOREIRA                  22.222222\n",
       "SÃO JOSÉ DO VALE DO RIO PRETO    22.222222\n",
       "TRAJANO DE MORAIS                22.222222\n",
       "ARMAÇÃO DOS BÚZIOS               22.222222\n",
       "SILVA JARDIM                     22.222222\n",
       "ANGRA DOS REIS                   21.428571\n",
       "BELFORD ROXO                     20.000000\n",
       "BOM JARDIM                       18.181818\n",
       "SAPUCAIA                         18.181818\n",
       "PORTO REAL                       18.181818\n",
       "VALENÇA                          16.666667\n",
       "DUQUE DE CAXIAS                  13.793103\n",
       "RIO DE JANEIRO                   13.725490\n",
       "ARARUAMA                         11.764706\n",
       "CABO FRIO                        11.764706\n",
       "SUMIDOURO                        11.111111\n",
       "GUAPIMIRIM                       11.111111\n",
       "QUATIS                           11.111111\n",
       "QUISSAMÃ                         11.111111\n",
       "AREAL                            11.111111\n",
       "MENDES                           11.111111\n",
       "PORCIÚNCULA                      11.111111\n",
       "PINHEIRAL                        11.111111\n",
       "                                   ...    \n",
       "SÃO GONÇALO                       3.703704\n",
       "BOM JESUS DO ITABAPOANA           0.000000\n",
       "SÃO JOÃO DE MERITI                0.000000\n",
       "CACHOEIRAS DE MACACU              0.000000\n",
       "BARRA DO PIRAÍ                    0.000000\n",
       "ARRAIAL DO CABO                   0.000000\n",
       "TRÊS RIOS                         0.000000\n",
       "VARRE-SAI                         0.000000\n",
       "APERIBÉ                           0.000000\n",
       "SÃO FIDÉLIS                       0.000000\n",
       "SEROPÉDICA                        0.000000\n",
       "NILÓPOLIS                         0.000000\n",
       "SANTA MARIA MADALENA              0.000000\n",
       "CASIMIRO DE ABREU                 0.000000\n",
       "PARACAMBI                         0.000000\n",
       "PARATY                            0.000000\n",
       "MARICÁ                            0.000000\n",
       "MAGÉ                              0.000000\n",
       "MACUCO                            0.000000\n",
       "LAJE DO MURIAÉ                    0.000000\n",
       "PARAÍBA DO SUL                    0.000000\n",
       "PATY DO ALFERES                   0.000000\n",
       "ITALVA                            0.000000\n",
       "ITAGUAÍ                           0.000000\n",
       "IGUABA GRANDE                     0.000000\n",
       "PIRAÍ                             0.000000\n",
       "RIO CLARO                         0.000000\n",
       "RIO DAS FLORES                    0.000000\n",
       "RIO DAS OSTRAS                    0.000000\n",
       "DUAS BARRAS                       0.000000\n",
       "dtype: float64"
      ]
     },
     "execution_count": 154,
     "metadata": {},
     "output_type": "execute_result"
    }
   ],
   "source": [
    "u = s.unstack(1).fillna(0)\n",
    "r = u.FEMININO*100 / (u.FEMININO + u.MASCULINO)\n",
    "r.sort_values(ascending=False)"
   ]
  },
  {
   "cell_type": "code",
   "execution_count": null,
   "metadata": {
    "collapsed": true
   },
   "outputs": [],
   "source": []
  },
  {
   "cell_type": "code",
   "execution_count": null,
   "metadata": {
    "collapsed": true
   },
   "outputs": [],
   "source": []
  },
  {
   "cell_type": "code",
   "execution_count": null,
   "metadata": {
    "collapsed": true
   },
   "outputs": [],
   "source": []
  }
 ],
 "metadata": {
  "kernelspec": {
   "display_name": "election_history",
   "language": "python",
   "name": "election_data"
  },
  "language_info": {
   "codemirror_mode": {
    "name": "ipython",
    "version": 3
   },
   "file_extension": ".py",
   "mimetype": "text/x-python",
   "name": "python",
   "nbconvert_exporter": "python",
   "pygments_lexer": "ipython3",
   "version": "3.6.0"
  }
 },
 "nbformat": 4,
 "nbformat_minor": 1
}
