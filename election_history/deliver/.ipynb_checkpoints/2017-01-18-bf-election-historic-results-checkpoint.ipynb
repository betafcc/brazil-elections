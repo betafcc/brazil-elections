{
 "cells": [
  {
   "cell_type": "code",
   "execution_count": 1,
   "metadata": {
    "collapsed": true
   },
   "outputs": [],
   "source": [
    "import os\n",
    "import shutil\n",
    "import wget\n",
    "import pandas as pd\n",
    "from glob import glob\n",
    "from zipfile import ZipFile"
   ]
  },
  {
   "cell_type": "code",
   "execution_count": 2,
   "metadata": {
    "collapsed": false
   },
   "outputs": [],
   "source": [
    "from sys import path\n",
    "path.append('..')"
   ]
  },
  {
   "cell_type": "code",
   "execution_count": 3,
   "metadata": {
    "collapsed": false
   },
   "outputs": [],
   "source": [
    "# os.mkdir('../data/working')\n",
    "# os.mkdir('../data/clean')"
   ]
  },
  {
   "cell_type": "markdown",
   "metadata": {},
   "source": [
    "## 1945-2014"
   ]
  },
  {
   "cell_type": "code",
   "execution_count": 4,
   "metadata": {
    "collapsed": false,
    "scrolled": true
   },
   "outputs": [
    {
     "name": "stdout",
     "output_type": "stream",
     "text": [
      "1945, [1]\n",
      "1950, [1]\n",
      "1955, [1]\n",
      "1960, [1]\n",
      "1989, [1, 2]\n",
      "1994, [1]\n",
      "2002, [1, 2]\n",
      "Loading...\n",
      "../data/working/2002/resultados/votacao_candidato_munzona_2002_BR.txt\n",
      "../data/working/2002/resultados/votacao_candidato_munzona_2002_ZZ.txt\n",
      "2006, [1, 2]\n",
      "Loading...\n",
      "../data/working/2006/resultados/votacao_candidato_munzona_2006_ZZ.txt\n",
      "../data/working/2006/resultados/votacao_candidato_munzona_2006_BR.txt\n",
      "2010, [1, 2]\n",
      "Loading...\n",
      "../data/working/2010/resultados/votacao_candidato_munzona_2010_VT.txt\n",
      "../data/working/2010/resultados/votacao_candidato_munzona_2010_BR.txt\n",
      "../data/working/2010/resultados/votacao_candidato_munzona_2010_ZZ.txt\n",
      "2014, [1, 2]\n",
      "Loading...\n",
      "../data/working/2014/resultados/votacao_candidato_munzona_2014_BR.txt\n",
      "FINALLY\n"
     ]
    }
   ],
   "source": [
    "from src.results_all import to_json\n",
    "r = to_json('../data/clean/elections.json')"
   ]
  },
  {
   "cell_type": "code",
   "execution_count": 5,
   "metadata": {
    "collapsed": false
   },
   "outputs": [
    {
     "name": "stdout",
     "output_type": "stream",
     "text": [
      "1945 28\n",
      "1950 25\n",
      "1955 25\n",
      "1960 26\n",
      "1989 28\n",
      "1989 28\n",
      "1994 27\n",
      "1998 27\n",
      "2002 28\n",
      "2002 27\n",
      "2006 28\n",
      "2006 28\n",
      "2010 29\n",
      "2010 29\n",
      "2014 28\n",
      "2014 28\n"
     ]
    }
   ],
   "source": [
    "for e in r:\n",
    "    print(e['ano'], len(e['estados']))"
   ]
  },
  {
   "cell_type": "code",
   "execution_count": null,
   "metadata": {
    "collapsed": true
   },
   "outputs": [],
   "source": []
  },
  {
   "cell_type": "code",
   "execution_count": null,
   "metadata": {
    "collapsed": true
   },
   "outputs": [],
   "source": []
  },
  {
   "cell_type": "code",
   "execution_count": null,
   "metadata": {
    "collapsed": true
   },
   "outputs": [],
   "source": []
  },
  {
   "cell_type": "code",
   "execution_count": null,
   "metadata": {
    "collapsed": true
   },
   "outputs": [],
   "source": []
  },
  {
   "cell_type": "code",
   "execution_count": null,
   "metadata": {
    "collapsed": true
   },
   "outputs": [],
   "source": []
  },
  {
   "cell_type": "code",
   "execution_count": null,
   "metadata": {
    "collapsed": true
   },
   "outputs": [],
   "source": []
  },
  {
   "cell_type": "code",
   "execution_count": null,
   "metadata": {
    "collapsed": true
   },
   "outputs": [],
   "source": []
  },
  {
   "cell_type": "code",
   "execution_count": null,
   "metadata": {
    "collapsed": true
   },
   "outputs": [],
   "source": []
  },
  {
   "cell_type": "code",
   "execution_count": null,
   "metadata": {
    "collapsed": true
   },
   "outputs": [],
   "source": []
  },
  {
   "cell_type": "code",
   "execution_count": null,
   "metadata": {
    "collapsed": true
   },
   "outputs": [],
   "source": []
  },
  {
   "cell_type": "code",
   "execution_count": null,
   "metadata": {
    "collapsed": true
   },
   "outputs": [],
   "source": []
  },
  {
   "cell_type": "code",
   "execution_count": null,
   "metadata": {
    "collapsed": true
   },
   "outputs": [],
   "source": []
  },
  {
   "cell_type": "code",
   "execution_count": null,
   "metadata": {
    "collapsed": true
   },
   "outputs": [],
   "source": []
  },
  {
   "cell_type": "code",
   "execution_count": null,
   "metadata": {
    "collapsed": true
   },
   "outputs": [],
   "source": []
  }
 ],
 "metadata": {
  "kernelspec": {
   "display_name": "election_history",
   "language": "python",
   "name": "election_history"
  },
  "language_info": {
   "codemirror_mode": {
    "name": "ipython",
    "version": 3
   },
   "file_extension": ".py",
   "mimetype": "text/x-python",
   "name": "python",
   "nbconvert_exporter": "python",
   "pygments_lexer": "ipython3",
   "version": "3.6.0"
  }
 },
 "nbformat": 4,
 "nbformat_minor": 1
}
