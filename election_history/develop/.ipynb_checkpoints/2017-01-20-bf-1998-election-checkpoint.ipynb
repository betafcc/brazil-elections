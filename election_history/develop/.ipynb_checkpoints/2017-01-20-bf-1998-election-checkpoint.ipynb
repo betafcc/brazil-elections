{
 "cells": [
  {
   "cell_type": "code",
   "execution_count": 249,
   "metadata": {
    "collapsed": true
   },
   "outputs": [],
   "source": [
    "import requests\n",
    "from bs4 import BeautifulSoup as BS\n",
    "\n",
    "import sys\n",
    "sys.path.append('..')\n",
    "\n",
    "from src.utils import postals, find_index, estruturar"
   ]
  },
  {
   "cell_type": "code",
   "execution_count": 250,
   "metadata": {
    "collapsed": true
   },
   "outputs": [],
   "source": [
    "def preparar(ano=None):\n",
    "    url_parent = 'https://pt.wikipedia.org/wiki/Elei%C3%A7%C3%A3o_presidencial_no_Brasil_em_1998'\n",
    "\n",
    "    r = requests.get(url_parent)\n",
    "    soup = BS(r.text, 'html.parser')\n",
    "\n",
    "    return soup"
   ]
  },
  {
   "cell_type": "code",
   "execution_count": 251,
   "metadata": {
    "collapsed": false
   },
   "outputs": [],
   "source": [
    "def candidatos(soup):\n",
    "    s = soup.select('#Resultado')[0]\n",
    "    table = s.find_all_next('table')[0]\n",
    "\n",
    "\n",
    "    s = pd.read_html(str(table))[0]\n",
    "\n",
    "    s.columns = s.iloc[0]\n",
    "    s = s.drop(0)\n",
    "    s = s.drop(['Imagem', 'Vice', 'Coligação', '%'], axis=1)\n",
    "\n",
    "    s.Votos = s.Votos.str.replace('.', '')\n",
    "    s.Votos = pd.to_numeric(s.Votos)\n",
    "\n",
    "    s['SIGLA_PARTIDO'] = s.Candidato.str.extract(r'\\((\\w+)\\)', expand=False)\n",
    "    s['NOME_CANDIDATO'] = s.Candidato.str.extract(r'(.+) \\(', expand=False)\n",
    "    s['TOTAL_VOTOS'] = s.Votos\n",
    "\n",
    "\n",
    "    df = s.drop(['Candidato', 'Votos'], axis=1)\n",
    "    s = df.groupby(['NOME_CANDIDATO', 'SIGLA_PARTIDO']).TOTAL_VOTOS.sum()\n",
    "    s = s.sort_values(ascending=False)\n",
    "\n",
    "    candidatos = []\n",
    "    for k, v in s.to_dict().items():\n",
    "            candidatos.append({'nome': k[0], 'partido': k[1], 'votos': int(v)})\n",
    "    candidatos.sort(key=lambda el: el['votos'], reverse=True)\n",
    "    return candidatos"
   ]
  },
  {
   "cell_type": "code",
   "execution_count": 252,
   "metadata": {
    "collapsed": false
   },
   "outputs": [],
   "source": [
    "# estados\n",
    "def estados(soup, candidatos):\n",
    "    s = soup.select('#Resultados_por_estados')[0]\n",
    "    table = s.find_all_next('table')[1]\n",
    "\n",
    "    s = pd.read_html(str(table), header=[0, 1])[0]\n",
    "\n",
    "    mlti = pd.MultiIndex(levels=[[\n",
    "                'State',\n",
    "                'Fernando Henrique Cardoso',\n",
    "                'Luiz Inácio Lula da Silva',\n",
    "                'Ciro Gomes',\n",
    "                'Outros vários',\n",
    "                'Margem',\n",
    "                'Total',\n",
    "    ], ['#', '%', 'Nome']], labels=[[0, 1, 1, 2, 2, 3, 3, 4, 4, 5, 5, 6],\n",
    "                            [2, 0, 1, 0, 1, 0, 1, 0, 1, 0, 1, 0]])\n",
    "\n",
    "    s.columns = mlti\n",
    "    s = s.drop([column for column in s.columns if column[1] == '%'], axis=1)\n",
    "    s.columns = s.columns.levels[0]\n",
    "    s.State = s.State.map(lambda uf: postals[uf])\n",
    "    s = s.drop(['Outros vários', 'Margem', 'Total'], axis=1)\n",
    "    t = s.transpose()\n",
    "    t.columns = t.iloc[0]\n",
    "    t = t.drop(['State'], axis=0)\n",
    "\n",
    "\n",
    "    estados = t.to_dict()\n",
    "    for k in estados:\n",
    "        estados[k] = list(estados[k].items())\n",
    "        estados[k] = [{\n",
    "                    'candidato': find_index(\n",
    "                        candidatos,\n",
    "                        lambda el: el['nome'] == val[0]\n",
    "                    ),\n",
    "                    'votos': int(val[1].replace('.', ''))\n",
    "                  } for val in estados[k]]\n",
    "\n",
    "    # ordena por mais votado em cada estado \n",
    "    for estado in estados.values():\n",
    "        estado.sort(key=lambda el: el['votos'], reverse=True)\n",
    "\n",
    "    return estados"
   ]
  },
  {
   "cell_type": "code",
   "execution_count": 253,
   "metadata": {
    "collapsed": true
   },
   "outputs": [],
   "source": [
    "def resultados_turnos(ano, turnos):\n",
    "    soup = preparar()\n",
    "    \n",
    "    resultados = []\n",
    "    for turno in turnos:\n",
    "        cand = candidatos(soup)\n",
    "        estd = estados(soup, cand)\n",
    "        \n",
    "        resultados.append(estruturar(ano, turno, cand, estd))\n",
    "    \n",
    "    return resultados"
   ]
  },
  {
   "cell_type": "code",
   "execution_count": 255,
   "metadata": {
    "collapsed": false,
    "scrolled": true
   },
   "outputs": [
    {
     "data": {
      "text/plain": [
       "[{'ano': 1998,\n",
       "  'candidatos': [{'nome': 'Fernando Henrique Cardoso',\n",
       "    'partido': 'PSDB',\n",
       "    'votos': 35936540},\n",
       "   {'nome': 'Luiz Inácio Lula da Silva', 'partido': 'PT', 'votos': 21475218},\n",
       "   {'nome': 'Ciro Gomes', 'partido': 'PPS', 'votos': 7426190},\n",
       "   {'nome': 'Enéas Carneiro', 'partido': 'PRONA', 'votos': 1447090},\n",
       "   {'nome': 'Ivan Moacyr da Frota', 'partido': 'PMN', 'votos': 251337},\n",
       "   {'nome': 'Alfredo Sirkis', 'partido': 'PV', 'votos': 212984},\n",
       "   {'nome': 'José Maria de Almeida', 'partido': 'PSTU', 'votos': 202659},\n",
       "   {'nome': 'João de Deus Barbosa de Jesus',\n",
       "    'partido': 'PTdoB',\n",
       "    'votos': 198916},\n",
       "   {'nome': 'José Maria Eymael', 'partido': 'PSDC', 'votos': 171831},\n",
       "   {'nome': 'Thereza Tinajero Ruiz', 'partido': 'PTN', 'votos': 166138},\n",
       "   {'nome': 'Sergio Bueno', 'partido': 'PSC', 'votos': 124659},\n",
       "   {'nome': 'Vasco Azevedo Neto', 'partido': 'PSN', 'votos': 109003}],\n",
       "  'estados': {'AC': [{'candidato': 0, 'votos': 90363},\n",
       "    {'candidato': 1, 'votos': 59690},\n",
       "    {'candidato': 2, 'votos': 26909}],\n",
       "   'AL': [{'candidato': 0, 'votos': 394873},\n",
       "    {'candidato': 1, 'votos': 161584},\n",
       "    {'candidato': 2, 'votos': 146729}],\n",
       "   'AM': [{'candidato': 0, 'votos': 452076},\n",
       "    {'candidato': 1, 'votos': 211507},\n",
       "    {'candidato': 2, 'votos': 128811}],\n",
       "   'AP': [{'candidato': 0, 'votos': 68277},\n",
       "    {'candidato': 1, 'votos': 62394},\n",
       "    {'candidato': 2, 'votos': 25349}],\n",
       "   'BA': [{'candidato': 0, 'votos': 1977643},\n",
       "    {'candidato': 1, 'votos': 1372790},\n",
       "    {'candidato': 2, 'votos': 327920}],\n",
       "   'CE': [{'candidato': 2, 'votos': 909402},\n",
       "    {'candidato': 1, 'votos': 872290},\n",
       "    {'candidato': 0, 'votos': 804969}],\n",
       "   'DF': [{'candidato': 0, 'votos': 391201},\n",
       "    {'candidato': 1, 'votos': 287579},\n",
       "    {'candidato': 2, 'votos': 265838}],\n",
       "   'ES': [{'candidato': 0, 'votos': 814535},\n",
       "    {'candidato': 1, 'votos': 263636},\n",
       "    {'candidato': 2, 'votos': 134675}],\n",
       "   'GO': [{'candidato': 0, 'votos': 1247510},\n",
       "    {'candidato': 1, 'votos': 371175},\n",
       "    {'candidato': 2, 'votos': 195851}],\n",
       "   'MA': [{'candidato': 0, 'votos': 736042},\n",
       "    {'candidato': 1, 'votos': 444912},\n",
       "    {'candidato': 2, 'votos': 246268}],\n",
       "   'MG': [{'candidato': 0, 'votos': 4225240},\n",
       "    {'candidato': 1, 'votos': 2129100},\n",
       "    {'candidato': 2, 'votos': 883377}],\n",
       "   'MS': [{'candidato': 0, 'votos': 520471},\n",
       "    {'candidato': 1, 'votos': 210120},\n",
       "    {'candidato': 2, 'votos': 89951}],\n",
       "   'MT': [{'candidato': 0, 'votos': 663773},\n",
       "    {'candidato': 1, 'votos': 149462},\n",
       "    {'candidato': 2, 'votos': 67668}],\n",
       "   'PA': [{'candidato': 0, 'votos': 1020868},\n",
       "    {'candidato': 1, 'votos': 530722},\n",
       "    {'candidato': 2, 'votos': 165670}],\n",
       "   'PB': [{'candidato': 0, 'votos': 541067},\n",
       "    {'candidato': 1, 'votos': 402293},\n",
       "    {'candidato': 2, 'votos': 191878}],\n",
       "   'PE': [{'candidato': 0, 'votos': 1637394},\n",
       "    {'candidato': 1, 'votos': 890971},\n",
       "    {'candidato': 2, 'votos': 212168}],\n",
       "   'PI': [{'candidato': 0, 'votos': 482649},\n",
       "    {'candidato': 1, 'votos': 270465},\n",
       "    {'candidato': 2, 'votos': 185997}],\n",
       "   'PR': [{'candidato': 0, 'votos': 2492531},\n",
       "    {'candidato': 1, 'votos': 1168853},\n",
       "    {'candidato': 2, 'votos': 400966}],\n",
       "   'RJ': [{'candidato': 1, 'votos': 2851274},\n",
       "    {'candidato': 0, 'votos': 2848277},\n",
       "    {'candidato': 2, 'votos': 708279}],\n",
       "   'RN': [{'candidato': 0, 'votos': 525842},\n",
       "    {'candidato': 1, 'votos': 267883},\n",
       "    {'candidato': 2, 'votos': 193496}],\n",
       "   'RO': [{'candidato': 0, 'votos': 323743},\n",
       "    {'candidato': 1, 'votos': 103927},\n",
       "    {'candidato': 2, 'votos': 39398}],\n",
       "   'RR': [{'candidato': 0, 'votos': 71768},\n",
       "    {'candidato': 1, 'votos': 20601},\n",
       "    {'candidato': 2, 'votos': 20138}],\n",
       "   'RS': [{'candidato': 1, 'votos': 2460551},\n",
       "    {'candidato': 0, 'votos': 2036805},\n",
       "    {'candidato': 2, 'votos': 277866}],\n",
       "   'SC': [{'candidato': 0, 'votos': 1255253},\n",
       "    {'candidato': 1, 'votos': 929698},\n",
       "    {'candidato': 2, 'votos': 252659}],\n",
       "   'SE': [{'candidato': 0, 'votos': 297243},\n",
       "    {'candidato': 1, 'votos': 221565},\n",
       "    {'candidato': 2, 'votos': 71233}],\n",
       "   'SP': [{'candidato': 0, 'votos': 9736728},\n",
       "    {'candidato': 1, 'votos': 4688677},\n",
       "    {'candidato': 2, 'votos': 1208718}],\n",
       "   'TO': [{'candidato': 0, 'votos': 265393},\n",
       "    {'candidato': 1, 'votos': 66607},\n",
       "    {'candidato': 2, 'votos': 47566}]},\n",
       "  'turno': 1}]"
      ]
     },
     "execution_count": 255,
     "metadata": {},
     "output_type": "execute_result"
    }
   ],
   "source": [
    "r = resultados_turnos(1998, [1])\n",
    "r"
   ]
  },
  {
   "cell_type": "code",
   "execution_count": null,
   "metadata": {
    "collapsed": true
   },
   "outputs": [],
   "source": []
  },
  {
   "cell_type": "code",
   "execution_count": null,
   "metadata": {
    "collapsed": true
   },
   "outputs": [],
   "source": []
  },
  {
   "cell_type": "code",
   "execution_count": null,
   "metadata": {
    "collapsed": true
   },
   "outputs": [],
   "source": []
  },
  {
   "cell_type": "code",
   "execution_count": null,
   "metadata": {
    "collapsed": true
   },
   "outputs": [],
   "source": []
  },
  {
   "cell_type": "code",
   "execution_count": null,
   "metadata": {
    "collapsed": true
   },
   "outputs": [],
   "source": []
  },
  {
   "cell_type": "code",
   "execution_count": null,
   "metadata": {
    "collapsed": true
   },
   "outputs": [],
   "source": []
  },
  {
   "cell_type": "code",
   "execution_count": null,
   "metadata": {
    "collapsed": true
   },
   "outputs": [],
   "source": []
  },
  {
   "cell_type": "code",
   "execution_count": null,
   "metadata": {
    "collapsed": true
   },
   "outputs": [],
   "source": []
  },
  {
   "cell_type": "code",
   "execution_count": null,
   "metadata": {
    "collapsed": true
   },
   "outputs": [],
   "source": []
  },
  {
   "cell_type": "code",
   "execution_count": null,
   "metadata": {
    "collapsed": true
   },
   "outputs": [],
   "source": []
  }
 ],
 "metadata": {
  "kernelspec": {
   "display_name": "election_history",
   "language": "python",
   "name": "election_history"
  },
  "language_info": {
   "codemirror_mode": {
    "name": "ipython",
    "version": 3
   },
   "file_extension": ".py",
   "mimetype": "text/x-python",
   "name": "python",
   "nbconvert_exporter": "python",
   "pygments_lexer": "ipython3",
   "version": "3.6.0"
  }
 },
 "nbformat": 4,
 "nbformat_minor": 1
}
