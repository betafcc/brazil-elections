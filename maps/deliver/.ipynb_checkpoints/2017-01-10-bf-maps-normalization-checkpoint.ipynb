{
 "cells": [
  {
   "cell_type": "markdown",
   "metadata": {},
   "source": [
    "# Maps normalization"
   ]
  },
  {
   "cell_type": "markdown",
   "metadata": {},
   "source": [
    "## This notebook aims to:\n",
    "    - [X] Relacionar nomes dos estados com sigla postal, inventar uma se necessário\n",
    "    - [X] Criar um json com essa relação\n",
    "    - [X] Adicionar no arquivo dos mapas essa sigla nos devidos estados"
   ]
  },
  {
   "cell_type": "markdown",
   "metadata": {},
   "source": [
    "## Notes:\n",
    "    - Esse notebook usa o arquivo criado por ./2017-01-10-bf-maps-conversion.ipynb "
   ]
  },
  {
   "cell_type": "code",
   "execution_count": 1,
   "metadata": {
    "collapsed": true
   },
   "outputs": [],
   "source": [
    "import json"
   ]
  },
  {
   "cell_type": "code",
   "execution_count": 2,
   "metadata": {
    "collapsed": false
   },
   "outputs": [],
   "source": [
    "with open('../data/deliver_json/all.json', 'r') as file:\n",
    "    maps = json.load(file)"
   ]
  },
  {
   "cell_type": "code",
   "execution_count": 3,
   "metadata": {
    "collapsed": false
   },
   "outputs": [
    {
     "data": {
      "text/plain": [
       "{'nome': 'Território do Acre'}"
      ]
     },
     "execution_count": 3,
     "metadata": {},
     "output_type": "execute_result"
    }
   ],
   "source": [
    "maps[0]['map']['objects']['states']['geometries'][0]['properties']"
   ]
  },
  {
   "cell_type": "code",
   "execution_count": 4,
   "metadata": {
    "collapsed": false
   },
   "outputs": [],
   "source": [
    "nomes = []\n",
    "for map in maps:\n",
    "    for geometry in map['map']['objects']['states']['geometries']:\n",
    "        nomes.append(geometry['properties']['nome'])"
   ]
  },
  {
   "cell_type": "code",
   "execution_count": 5,
   "metadata": {
    "collapsed": false
   },
   "outputs": [
    {
     "data": {
      "text/plain": [
       "{'Acre',\n",
       " 'Alagoas',\n",
       " 'Amapá',\n",
       " 'Amazonas',\n",
       " 'Bahia',\n",
       " 'Brasília',\n",
       " 'Ceará',\n",
       " 'Distrito Federal',\n",
       " 'Espírito Santo',\n",
       " 'Goiás',\n",
       " 'Guanabara',\n",
       " 'Maranhão',\n",
       " 'Mato Grosso',\n",
       " 'Mato Grosso do Sul',\n",
       " 'Minas Gerais',\n",
       " 'Paraná',\n",
       " 'Paraíba',\n",
       " 'Pará',\n",
       " 'Pernambuco',\n",
       " 'Piauí',\n",
       " 'Rio Grande do Norte',\n",
       " 'Rio Grande do Sul',\n",
       " 'Rio de Janeiro',\n",
       " 'Rondônia',\n",
       " 'Roraima',\n",
       " 'Santa Catarina',\n",
       " 'Sergipe',\n",
       " 'São Paulo',\n",
       " 'Território De Rondônia',\n",
       " 'Território de Rondônia',\n",
       " 'Território de Roraima',\n",
       " 'Território do Acre',\n",
       " 'Território do Amapá',\n",
       " 'Território do Guaporé',\n",
       " 'Território do Rio Branco',\n",
       " 'Tocantins'}"
      ]
     },
     "execution_count": 5,
     "metadata": {},
     "output_type": "execute_result"
    }
   ],
   "source": [
    "set(nomes)"
   ]
  },
  {
   "cell_type": "code",
   "execution_count": 6,
   "metadata": {
    "collapsed": true
   },
   "outputs": [],
   "source": [
    "postals = {\n",
    "    'Acre' : 'AC',\n",
    "    'Alagoas' : 'AL',\n",
    "    'Amapá' : 'AP',\n",
    "    'Amazonas' : 'AM',\n",
    "    'Bahia' : 'BA',\n",
    "    'Ceará' : 'CE',\n",
    "    'Distrito Federal' : 'DF',\n",
    "    'Espírito Santo' : 'ES',\n",
    "    'Goiás' : 'GO',\n",
    "    'Maranhão' : 'MA',\n",
    "    'Mato Grosso' : 'MT',\n",
    "    'Mato Grosso do Sul' : 'MS',\n",
    "    'Minas Gerais' : 'MG',\n",
    "    'Pará' : 'PA',\n",
    "    'Paraíba' : 'PB',\n",
    "    'Paraná' : 'PR',\n",
    "    'Pernambuco' : 'PE',\n",
    "    'Piauí' : 'PI',\n",
    "    'Rio de Janeiro' : 'RJ',\n",
    "    'Rio Grande do Norte' : 'RN',\n",
    "    'Rio Grande do Sul' : 'RS',\n",
    "    'Rondônia' : 'RO',\n",
    "    'Roraima' : 'RR',\n",
    "    'Santa Catarina' : 'SC',\n",
    "    'São Paulo' : 'SP',\n",
    "    'Sergipe' : 'SE',\n",
    "    'Tocantins' : 'TO',\n",
    "\n",
    "\n",
    "    'Brasília': 'DF',\n",
    "\n",
    "    'Guanabara': 'GB',\n",
    "\n",
    "    'Território De Rondônia' : 'RO',\n",
    "    'Território de Rondônia': 'RO',\n",
    "    'Território de Roraima': 'RR',\n",
    "    'Território do Acre': 'AC',\n",
    "    'Território do Amapá': 'AP',\n",
    "    'Território do Guaporé': 'GP',\n",
    "    'Território do Rio Branco': 'RB'\n",
    "}"
   ]
  },
  {
   "cell_type": "code",
   "execution_count": 7,
   "metadata": {
    "collapsed": true
   },
   "outputs": [],
   "source": [
    "with open('../data/deliver_json/postals.json', 'w') as file:\n",
    "    json.dump(postals, file, ensure_ascii=False)"
   ]
  },
  {
   "cell_type": "code",
   "execution_count": 8,
   "metadata": {
    "collapsed": false
   },
   "outputs": [
    {
     "name": "stdout",
     "output_type": "stream",
     "text": [
      "{\"Acre\": \"AC\", \"Alagoas\": \"AL\", \"Amapá\": \"AP\", \"Amazonas\": \"AM\", \"Bahia\": \"BA\", \"Ceará\": \"CE\", \"Distrito Federal\": \"DF\", \"Espírito Santo\": \"ES\", \"Goiás\": \"GO\", \"Maranhão\": \"MA\", \"Mato Grosso\": \"MT\", \"Mato Grosso do Sul\": \"MS\", \"Minas Gerais\": \"MG\", \"Pará\": \"PA\", \"Paraíba\": \"PB\", \"Paraná\": \"PR\", \"Pernambuco\": \"PE\", \"Piauí\": \"PI\", \"Rio de Janeiro\": \"RJ\", \"Rio Grande do Norte\": \"RN\", \"Rio Grande do Sul\": \"RS\", \"Rondônia\": \"RO\", \"Roraima\": \"RR\", \"Santa Catarina\": \"SC\", \"São Paulo\": \"SP\", \"Sergipe\": \"SE\", \"Tocantins\": \"TO\", \"Brasília\": \"DF\", \"Guanabara\": \"GB\", \"Território De Rondônia\": \"RO\", \"Território de Rondônia\": \"RO\", \"Território de Roraima\": \"RR\", \"Território do Acre\": \"AC\", \"Território do Amapá\": \"AP\", \"Território do Guaporé\": \"GP\", \"Território do Rio Branco\": \"RB\"}"
     ]
    }
   ],
   "source": [
    "cat ../data/deliver_json/postals.json"
   ]
  },
  {
   "cell_type": "code",
   "execution_count": 9,
   "metadata": {
    "collapsed": false
   },
   "outputs": [],
   "source": [
    "for map in maps:\n",
    "    for geometry in map['map']['objects']['states']['geometries']:\n",
    "        nome = geometry['properties']['nome']\n",
    "        geometry['properties']['postal'] = postals[nome]"
   ]
  },
  {
   "cell_type": "code",
   "execution_count": 10,
   "metadata": {
    "collapsed": true
   },
   "outputs": [],
   "source": [
    "with open('../data/deliver_json/all_normalized.json', 'w') as file:\n",
    "    json.dump(maps, file, ensure_ascii=False)"
   ]
  },
  {
   "cell_type": "code",
   "execution_count": 11,
   "metadata": {
    "collapsed": false
   },
   "outputs": [
    {
     "name": "stdout",
     "output_type": "stream",
     "text": [
      "1940.json  1962.json  1980.json  all.json             postals.json\r\n",
      "1950.json  1970.json  1991.json  all_normalized.json\r\n"
     ]
    }
   ],
   "source": [
    "ls ../data/deliver_json/"
   ]
  }
 ],
 "metadata": {
  "kernelspec": {
   "display_name": "election_maps",
   "language": "python",
   "name": "election_maps"
  },
  "language_info": {
   "codemirror_mode": {
    "name": "ipython",
    "version": 3
   },
   "file_extension": ".py",
   "mimetype": "text/x-python",
   "name": "python",
   "nbconvert_exporter": "python",
   "pygments_lexer": "ipython3",
   "version": "3.6.0"
  }
 },
 "nbformat": 4,
 "nbformat_minor": 1
}
