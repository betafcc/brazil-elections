{
 "cells": [
  {
   "cell_type": "markdown",
   "metadata": {},
   "source": [
    "# Finding historical maps"
   ]
  },
  {
   "cell_type": "markdown",
   "metadata": {},
   "source": [
    "## This notebook aims to:\n",
    "    - [X] Find historical map files for brazil states\n",
    "    - [X] Download them\n",
    "    - [X] Find out which relates to which election"
   ]
  },
  {
   "cell_type": "markdown",
   "metadata": {},
   "source": [
    "## Notes:\n",
    "    - The links and IFrames here are valid as of today (2017-01-10) and may not be in the future"
   ]
  },
  {
   "cell_type": "code",
   "execution_count": 2,
   "metadata": {},
   "outputs": [],
   "source": [
    "import os\n",
    "import wget"
   ]
  },
  {
   "cell_type": "code",
   "execution_count": 3,
   "metadata": {},
   "outputs": [],
   "source": [
    "from IPython.display import IFrame"
   ]
  },
  {
   "cell_type": "markdown",
   "metadata": {},
   "source": [
    "## Mostre onde encontrar mapas históricos do Brasil"
   ]
  },
  {
   "cell_type": "markdown",
   "metadata": {},
   "source": [
    "No site mapas.ibge @2017-01-10, esse link parecia promissor:"
   ]
  },
  {
   "cell_type": "code",
   "execution_count": 4,
   "metadata": {},
   "outputs": [
    {
     "data": {
      "text/html": [
       "\n",
       "        <iframe\n",
       "            width=\"100%\"\n",
       "            height=\"400\"\n",
       "            src=\"http://mapas.ibge.gov.br/politico-administrativo/2012-05-31-17-03-17.html\"\n",
       "            frameborder=\"0\"\n",
       "            allowfullscreen\n",
       "        ></iframe>\n",
       "        "
      ],
      "text/plain": [
       "<IPython.lib.display.IFrame at 0x7f9a1c7bada0>"
      ]
     },
     "execution_count": 4,
     "metadata": {},
     "output_type": "execute_result"
    }
   ],
   "source": [
    "IFrame(\n",
    "    'http://mapas.ibge.gov.br/politico-administrativo/2012-05-31-17-03-17.html',\n",
    "    '100%', 400\n",
    ")"
   ]
  },
  {
   "cell_type": "markdown",
   "metadata": {},
   "source": [
    "Porém ao tentar baixar os arquivos, recebo \"550 Failed to change directory.\" do servidor"
   ]
  },
  {
   "cell_type": "markdown",
   "metadata": {},
   "source": [
    "Portanto, nesse link existe um pdf promissor:"
   ]
  },
  {
   "cell_type": "code",
   "execution_count": 6,
   "metadata": {},
   "outputs": [
    {
     "data": {
      "text/html": [
       "\n",
       "        <iframe\n",
       "            width=\"100%\"\n",
       "            height=\"400\"\n",
       "            src=\"http://www.ibge.gov.br/home/geociencias/geografia/default_evolucao.shtm\"\n",
       "            frameborder=\"0\"\n",
       "            allowfullscreen\n",
       "        ></iframe>\n",
       "        "
      ],
      "text/plain": [
       "<IPython.lib.display.IFrame at 0x7f9a1c136e48>"
      ]
     },
     "execution_count": 6,
     "metadata": {},
     "output_type": "execute_result"
    }
   ],
   "source": [
    "IFrame(\n",
    "    'http://www.ibge.gov.br/home/geociencias/geografia/default_evolucao.shtm',\n",
    "    '100%', 400\n",
    ")"
   ]
  },
  {
   "cell_type": "markdown",
   "metadata": {},
   "source": [
    "O arquivo \"Evolução da divisão territorial\" contém o que procuro:"
   ]
  },
  {
   "cell_type": "code",
   "execution_count": 7,
   "metadata": {},
   "outputs": [],
   "source": [
    "# wget.download(\n",
    "#     'ftp://geoftp.ibge.gov.br/organizacao_do_territorio/estrutura_territorial/evolucao_da_divisao_territorial_do_brasil_1872_2010/evolucao_da_divisao_territorial_mapas.pdf',\n",
    "#     '../data/'\n",
    "# )"
   ]
  },
  {
   "cell_type": "code",
   "execution_count": 8,
   "metadata": {},
   "outputs": [
    {
     "data": {
      "text/plain": [
       "['evolucao_da_divisao_territorial_mapas.pdf',\n",
       " 'maps_relation.json',\n",
       " 'historical_maps',\n",
       " 'maps_conversion',\n",
       " 'deliver_json']"
      ]
     },
     "execution_count": 8,
     "metadata": {},
     "output_type": "execute_result"
    }
   ],
   "source": [
    "os.listdir('../data')"
   ]
  },
  {
   "cell_type": "code",
   "execution_count": 9,
   "metadata": {},
   "outputs": [
    {
     "data": {
      "text/html": [
       "\n",
       "        <iframe\n",
       "            width=\"100%\"\n",
       "            height=\"400\"\n",
       "            src=\"../data/evolucao_da_divisao_territorial_mapas.pdf\"\n",
       "            frameborder=\"0\"\n",
       "            allowfullscreen\n",
       "        ></iframe>\n",
       "        "
      ],
      "text/plain": [
       "<IPython.lib.display.IFrame at 0x7f9a1c673128>"
      ]
     },
     "execution_count": 9,
     "metadata": {},
     "output_type": "execute_result"
    }
   ],
   "source": [
    "IFrame(\n",
    "    '../data/evolucao_da_divisao_territorial_mapas.pdf',\n",
    "    '100%', 400\n",
    ")"
   ]
  },
  {
   "cell_type": "markdown",
   "metadata": {},
   "source": [
    "Mas como o arquivo está em PDF, é difícil de mais pra trabalhar"
   ]
  },
  {
   "cell_type": "markdown",
   "metadata": {},
   "source": [
    "Por fim, encontrei uma boa fonte: \"https://earthworks.stanford.edu/\"\n",
    "que contém um ótimo banco de dados e sistema de busca:"
   ]
  },
  {
   "cell_type": "markdown",
   "metadata": {
    "collapsed": true
   },
   "source": [
    "https://earthworks.stanford.edu/?commit=Limit&q=state+brazil&range[solr_year_i][begin]=1940&range[solr_year_i][end]=2017&search_field=dummy_range#documents\n",
    "\n",
    "Por algum motivo a IFrame não carrega corretamente, mas os arquivos de interesse são os sob os links no formato 'State Boundaries: Brasil, < ano >'"
   ]
  },
  {
   "cell_type": "markdown",
   "metadata": {},
   "source": [
    "## Mostre a fonte final escolhida"
   ]
  },
  {
   "cell_type": "markdown",
   "metadata": {},
   "source": [
    "Do site anterior extraio os links dos arquivos:"
   ]
  },
  {
   "cell_type": "markdown",
   "metadata": {},
   "source": [
    "Preciso Fazer um novo mapa para 1956, quando GP passa a se chamar RO\n",
    "\n",
    "Uma outra observação para o suposto mapa de 1960, corrigo para 1962, notando que o que deveria ser Rio Branco está como Roraima apesar de RR ter sido criada em 1962"
   ]
  },
  {
   "cell_type": "code",
   "execution_count": 10,
   "metadata": {},
   "outputs": [],
   "source": [
    "maps = [\n",
    "    {'year': 1940, 'url': 'http://stacks.stanford.edu/file/druid:dm443sj2820/data.zip'},\n",
    "    {'year': 1950, 'url': 'http://stacks.stanford.edu/file/druid:yw498rc4263/data.zip'},\n",
    "    {'year': 1956, 'url': 'http://stacks.stanford.edu/file/druid:yw498rc4263/data.zip'},\n",
    "    {'year': 1962, 'url': 'http://stacks.stanford.edu/file/druid:zf548hv4473/data.zip'},\n",
    "    {'year': 1970, 'url': 'http://stacks.stanford.edu/file/druid:kx233jf3889/data.zip'},\n",
    "    {'year': 1980, 'url': 'http://stacks.stanford.edu/file/druid:nf449db8341/data.zip'},\n",
    "    {'year': 1991, 'url': 'http://stacks.stanford.edu/file/druid:ys298mq8577/data.zip'}   \n",
    "]"
   ]
  },
  {
   "cell_type": "markdown",
   "metadata": {},
   "source": [
    "## Faça download dos mapas"
   ]
  },
  {
   "cell_type": "code",
   "execution_count": 9,
   "metadata": {
    "collapsed": true
   },
   "outputs": [],
   "source": [
    "base_folder = '../data/historical_maps'"
   ]
  },
  {
   "cell_type": "code",
   "execution_count": 10,
   "metadata": {},
   "outputs": [
    {
     "name": "stdout",
     "output_type": "stream",
     "text": [
      "../data/historical_maps/1940/data.zip\n",
      "../data/historical_maps/1950/data.zip\n",
      "../data/historical_maps/1956/data.zip\n",
      "../data/historical_maps/1962/data.zip\n",
      "../data/historical_maps/1970/data.zip\n",
      "../data/historical_maps/1980/data.zip\n",
      "../data/historical_maps/1991/data.zip\n"
     ]
    }
   ],
   "source": [
    "os.mkdir(base_folder)\n",
    "for map in maps:\n",
    "    folder = f'{base_folder}/{map[\"year\"]}'\n",
    "    os.mkdir(folder)\n",
    "    r = wget.download(map['url'], folder)\n",
    "    print(r)"
   ]
  },
  {
   "cell_type": "code",
   "execution_count": 11,
   "metadata": {},
   "outputs": [
    {
     "data": {
      "text/plain": [
       "['1980', '1950', '1940', '1970', '1962', '1991', '1956']"
      ]
     },
     "execution_count": 11,
     "metadata": {},
     "output_type": "execute_result"
    }
   ],
   "source": [
    "os.listdir(base_folder)"
   ]
  },
  {
   "cell_type": "markdown",
   "metadata": {},
   "source": [
    "## Unzipe os arquivos"
   ]
  },
  {
   "cell_type": "code",
   "execution_count": 12,
   "metadata": {
    "collapsed": true
   },
   "outputs": [],
   "source": [
    "from glob import glob"
   ]
  },
  {
   "cell_type": "code",
   "execution_count": 13,
   "metadata": {},
   "outputs": [],
   "source": [
    "from zipfile import ZipFile\n",
    "\n",
    "for folder in glob(f'{base_folder}/*'):\n",
    "    with ZipFile(f'{folder}/data.zip', 'r') as zip_file:\n",
    "        zip_file.extractall(folder)"
   ]
  },
  {
   "cell_type": "code",
   "execution_count": 14,
   "metadata": {
    "scrolled": true
   },
   "outputs": [
    {
     "data": {
      "text/plain": [
       "['../data/historical_maps/1980/04_limiteestadual1980.prj',\n",
       " '../data/historical_maps/1980/data.zip',\n",
       " '../data/historical_maps/1980/04_limiteestadual1980.sbn',\n",
       " '../data/historical_maps/1980/04_limiteestadual1980.dbf',\n",
       " '../data/historical_maps/1980/04_limiteestadual1980-iso19110.xml',\n",
       " '../data/historical_maps/1980/04_limiteestadual1980.shp.xml',\n",
       " '../data/historical_maps/1980/04_limiteestadual1980.sbx',\n",
       " '../data/historical_maps/1980/04_limiteestadual1980-fgdc.xml',\n",
       " '../data/historical_maps/1980/04_limiteestadual1980-iso19139.xml',\n",
       " '../data/historical_maps/1980/04_limiteestadual1980.shx',\n",
       " '../data/historical_maps/1980/04_limiteestadual1980.shp',\n",
       " '../data/historical_maps/1950/04_limiteestadual1950-iso19139.xml',\n",
       " '../data/historical_maps/1950/04_limiteestadual1950-fgdc.xml',\n",
       " '../data/historical_maps/1950/data.zip',\n",
       " '../data/historical_maps/1950/04_limiteestadual1950.shp',\n",
       " '../data/historical_maps/1950/04_limiteestadual1950.shx',\n",
       " '../data/historical_maps/1950/04_limiteestadual1950.sbn',\n",
       " '../data/historical_maps/1950/04_limiteestadual1950-iso19110.xml',\n",
       " '../data/historical_maps/1950/04_limiteestadual1950.shp.xml',\n",
       " '../data/historical_maps/1950/04_limiteestadual1950.dbf',\n",
       " '../data/historical_maps/1950/04_limiteestadual1950.sbx',\n",
       " '../data/historical_maps/1950/04_limiteestadual1950.prj',\n",
       " '../data/historical_maps/1940/04_limiteestadual1940.shp.xml',\n",
       " '../data/historical_maps/1940/04_limiteestadual1940-fgdc.xml',\n",
       " '../data/historical_maps/1940/04_limiteestadual1940-iso19139.xml',\n",
       " '../data/historical_maps/1940/data.zip',\n",
       " '../data/historical_maps/1940/04_limiteestadual1940.prj',\n",
       " '../data/historical_maps/1940/04_limiteestadual1940.sbx',\n",
       " '../data/historical_maps/1940/04_limiteestadual1940.sbn',\n",
       " '../data/historical_maps/1940/04_limiteestadual1940.dbf',\n",
       " '../data/historical_maps/1940/04_limiteestadual1940-iso19110.xml',\n",
       " '../data/historical_maps/1940/04_limiteestadual1940.shx',\n",
       " '../data/historical_maps/1940/04_limiteestadual1940.shp',\n",
       " '../data/historical_maps/1970/04_limiteestadual1970.prj',\n",
       " '../data/historical_maps/1970/04_limiteestadual1970-iso19110.xml',\n",
       " '../data/historical_maps/1970/data.zip',\n",
       " '../data/historical_maps/1970/04_limiteestadual1970.dbf',\n",
       " '../data/historical_maps/1970/04_limiteestadual1970.shp.xml',\n",
       " '../data/historical_maps/1970/04_limiteestadual1970.sbn',\n",
       " '../data/historical_maps/1970/04_limiteestadual1970.shp',\n",
       " '../data/historical_maps/1970/04_limiteestadual1970-iso19139.xml',\n",
       " '../data/historical_maps/1970/04_limiteestadual1970-fgdc.xml',\n",
       " '../data/historical_maps/1970/04_limiteestadual1970.sbx',\n",
       " '../data/historical_maps/1970/04_limiteestadual1970.shx',\n",
       " '../data/historical_maps/1962/04_limiteestadual1960-iso19110.xml',\n",
       " '../data/historical_maps/1962/04_limiteestadual1960.dbf',\n",
       " '../data/historical_maps/1962/data.zip',\n",
       " '../data/historical_maps/1962/04_limiteestadual1960.sbn',\n",
       " '../data/historical_maps/1962/04_limiteestadual1960.shp',\n",
       " '../data/historical_maps/1962/04_limiteestadual1960.shp.xml',\n",
       " '../data/historical_maps/1962/04_limiteestadual1960-iso19139.xml',\n",
       " '../data/historical_maps/1962/04_limiteestadual1960-fgdc.xml',\n",
       " '../data/historical_maps/1962/04_limiteestadual1960.prj',\n",
       " '../data/historical_maps/1962/04_limiteestadual1960.shx',\n",
       " '../data/historical_maps/1962/04_limiteestadual1960.sbx',\n",
       " '../data/historical_maps/1991/04_limiteestadual1991.sbn',\n",
       " '../data/historical_maps/1991/04_limiteestadual1991.shp',\n",
       " '../data/historical_maps/1991/data.zip',\n",
       " '../data/historical_maps/1991/04_limiteestadual1991-iso19110.xml',\n",
       " '../data/historical_maps/1991/04_limiteestadual1991.shp.xml',\n",
       " '../data/historical_maps/1991/04_limiteestadual1991.shx',\n",
       " '../data/historical_maps/1991/04_limiteestadual1991.dbf',\n",
       " '../data/historical_maps/1991/04_limiteestadual1991.sbx',\n",
       " '../data/historical_maps/1991/04_limiteestadual1991-iso19139.xml',\n",
       " '../data/historical_maps/1991/04_limiteestadual1991-fgdc.xml',\n",
       " '../data/historical_maps/1991/04_limiteestadual1991.prj',\n",
       " '../data/historical_maps/1956/04_limiteestadual1950-iso19139.xml',\n",
       " '../data/historical_maps/1956/04_limiteestadual1950-fgdc.xml',\n",
       " '../data/historical_maps/1956/data.zip',\n",
       " '../data/historical_maps/1956/04_limiteestadual1950.shp',\n",
       " '../data/historical_maps/1956/04_limiteestadual1950.shx',\n",
       " '../data/historical_maps/1956/04_limiteestadual1950.sbn',\n",
       " '../data/historical_maps/1956/04_limiteestadual1950-iso19110.xml',\n",
       " '../data/historical_maps/1956/04_limiteestadual1950.shp.xml',\n",
       " '../data/historical_maps/1956/04_limiteestadual1950.dbf',\n",
       " '../data/historical_maps/1956/04_limiteestadual1950.sbx',\n",
       " '../data/historical_maps/1956/04_limiteestadual1950.prj']"
      ]
     },
     "execution_count": 14,
     "metadata": {},
     "output_type": "execute_result"
    }
   ],
   "source": [
    "glob(f'{base_folder}/*/*')"
   ]
  },
  {
   "cell_type": "markdown",
   "metadata": {},
   "source": [
    "## Liste os anos de eleições para presidente"
   ]
  },
  {
   "cell_type": "code",
   "execution_count": 11,
   "metadata": {},
   "outputs": [
    {
     "data": {
      "text/html": [
       "\n",
       "        <iframe\n",
       "            width=\"100%\"\n",
       "            height=\"400\"\n",
       "            src=\"https://pt.wikipedia.org/wiki/Lista_de_elei%C3%A7%C3%B5es_presidenciais_no_Brasil#toc\"\n",
       "            frameborder=\"0\"\n",
       "            allowfullscreen\n",
       "        ></iframe>\n",
       "        "
      ],
      "text/plain": [
       "<IPython.lib.display.IFrame at 0x7f9a1c0dd2e8>"
      ]
     },
     "execution_count": 11,
     "metadata": {},
     "output_type": "execute_result"
    }
   ],
   "source": [
    "IFrame(\n",
    "    'https://pt.wikipedia.org/wiki/Lista_de_elei%C3%A7%C3%B5es_presidenciais_no_Brasil#toc',\n",
    "    '100%', 400\n",
    ")"
   ]
  },
  {
   "cell_type": "code",
   "execution_count": 16,
   "metadata": {
    "collapsed": true
   },
   "outputs": [],
   "source": [
    "republica_velha = [\n",
    "    1891, 1894, 1898, 1902, 1906,\n",
    "    1910, 1914, 1918, 1919, 1922,\n",
    "    1926, 1930\n",
    "]\n",
    "\n",
    "era_vargas = [\n",
    "    1934\n",
    "]\n",
    "\n",
    "republica_nova = [\n",
    "    1945, 1950, 1955, 1960\n",
    "]\n",
    "\n",
    "regime_militar = [\n",
    "    1964, 1966, 1969, 1974, 1978\n",
    "]\n",
    "\n",
    "nova_republica = [\n",
    "    1985, 1989, 1994, 1998, 2002,\n",
    "    2006, 2010, 2014\n",
    "]"
   ]
  },
  {
   "cell_type": "code",
   "execution_count": 17,
   "metadata": {
    "collapsed": true
   },
   "outputs": [],
   "source": [
    "election_years_all = (\n",
    "    republica_velha + era_vargas + republica_nova +\n",
    "    regime_militar  + nova_republica\n",
    ")"
   ]
  },
  {
   "cell_type": "code",
   "execution_count": 18,
   "metadata": {},
   "outputs": [
    {
     "data": {
      "text/plain": [
       "30"
      ]
     },
     "execution_count": 18,
     "metadata": {},
     "output_type": "execute_result"
    }
   ],
   "source": [
    "len(election_years_all)"
   ]
  },
  {
   "cell_type": "markdown",
   "metadata": {},
   "source": [
    "## Relacione qual mapa deve ser usado pra qual eleição"
   ]
  },
  {
   "cell_type": "markdown",
   "metadata": {
    "collapsed": true
   },
   "source": [
    "Como eu só possuo os mapas à partir de 1940, só relacionarei as eleições a partir da republica nova (1945)"
   ]
  },
  {
   "cell_type": "markdown",
   "metadata": {},
   "source": [
    "Usarei o arquivo PDF citado acima '../data/evolucao_da_divisao_territorial_mapas.pdf' e terei que assumir que ele possui todas as mudanças territoriais relevantes.\n",
    "\n",
    "Com isso, criarei ranges em que o mapa se parmenece, supostamente, inalterado\n",
    "\n",
    "Com detalhe para 1956 que criei e 1960 que modifiquei para 1962, como observado acima na seção dos downloads"
   ]
  },
  {
   "cell_type": "code",
   "execution_count": 19,
   "metadata": {},
   "outputs": [],
   "source": [
    "years_listed = [1872, 1900, 1911, 1920, 1933, 1940, 1950, 1956, 1962, 1970, 1980, 1991, 2000, 2010]\n",
    "\n",
    "ranges = [range(start, end) for start, end in zip(years_listed[:-1], years_listed[1:])]\n",
    "ranges += [range(years_listed[-1], 2017 + 1)]"
   ]
  },
  {
   "cell_type": "code",
   "execution_count": 20,
   "metadata": {},
   "outputs": [
    {
     "data": {
      "text/plain": [
       "[range(1872, 1900),\n",
       " range(1900, 1911),\n",
       " range(1911, 1920),\n",
       " range(1920, 1933),\n",
       " range(1933, 1940),\n",
       " range(1940, 1950),\n",
       " range(1950, 1956),\n",
       " range(1956, 1962),\n",
       " range(1962, 1970),\n",
       " range(1970, 1980),\n",
       " range(1980, 1991),\n",
       " range(1991, 2000),\n",
       " range(2000, 2010),\n",
       " range(2010, 2018)]"
      ]
     },
     "execution_count": 20,
     "metadata": {},
     "output_type": "execute_result"
    }
   ],
   "source": [
    "ranges"
   ]
  },
  {
   "cell_type": "code",
   "execution_count": 21,
   "metadata": {},
   "outputs": [
    {
     "data": {
      "text/plain": [
       "[{'map_year': 1940,\n",
       "  'url': 'http://stacks.stanford.edu/file/druid:dm443sj2820/data.zip'},\n",
       " {'map_year': 1950,\n",
       "  'url': 'http://stacks.stanford.edu/file/druid:yw498rc4263/data.zip'},\n",
       " {'map_year': 1956,\n",
       "  'url': 'http://stacks.stanford.edu/file/druid:yw498rc4263/data.zip'},\n",
       " {'map_year': 1962,\n",
       "  'url': 'http://stacks.stanford.edu/file/druid:zf548hv4473/data.zip'},\n",
       " {'map_year': 1970,\n",
       "  'url': 'http://stacks.stanford.edu/file/druid:kx233jf3889/data.zip'},\n",
       " {'map_year': 1980,\n",
       "  'url': 'http://stacks.stanford.edu/file/druid:nf449db8341/data.zip'},\n",
       " {'map_year': 1991,\n",
       "  'url': 'http://stacks.stanford.edu/file/druid:ys298mq8577/data.zip'}]"
      ]
     },
     "execution_count": 21,
     "metadata": {},
     "output_type": "execute_result"
    }
   ],
   "source": [
    "map_url = [{'url': map['url'], 'map_year': map['year']} for map in maps]\n",
    "map_url"
   ]
  },
  {
   "cell_type": "code",
   "execution_count": 22,
   "metadata": {},
   "outputs": [],
   "source": [
    "# associe os anos de eleiçoes com o periodo:\n",
    "election_period = []\n",
    "for year in election_years_all:\n",
    "    for year_range in ranges:\n",
    "        if year in year_range:\n",
    "            election_period.append({'election_year': year, 'period': year_range})"
   ]
  },
  {
   "cell_type": "code",
   "execution_count": 23,
   "metadata": {
    "scrolled": true
   },
   "outputs": [
    {
     "data": {
      "text/plain": [
       "[{'election_year': 1891, 'period': range(1872, 1900)},\n",
       " {'election_year': 1894, 'period': range(1872, 1900)},\n",
       " {'election_year': 1898, 'period': range(1872, 1900)},\n",
       " {'election_year': 1902, 'period': range(1900, 1911)},\n",
       " {'election_year': 1906, 'period': range(1900, 1911)},\n",
       " {'election_year': 1910, 'period': range(1900, 1911)},\n",
       " {'election_year': 1914, 'period': range(1911, 1920)},\n",
       " {'election_year': 1918, 'period': range(1911, 1920)},\n",
       " {'election_year': 1919, 'period': range(1911, 1920)},\n",
       " {'election_year': 1922, 'period': range(1920, 1933)},\n",
       " {'election_year': 1926, 'period': range(1920, 1933)},\n",
       " {'election_year': 1930, 'period': range(1920, 1933)},\n",
       " {'election_year': 1934, 'period': range(1933, 1940)},\n",
       " {'election_year': 1945, 'period': range(1940, 1950)},\n",
       " {'election_year': 1950, 'period': range(1950, 1956)},\n",
       " {'election_year': 1955, 'period': range(1950, 1956)},\n",
       " {'election_year': 1960, 'period': range(1956, 1962)},\n",
       " {'election_year': 1964, 'period': range(1962, 1970)},\n",
       " {'election_year': 1966, 'period': range(1962, 1970)},\n",
       " {'election_year': 1969, 'period': range(1962, 1970)},\n",
       " {'election_year': 1974, 'period': range(1970, 1980)},\n",
       " {'election_year': 1978, 'period': range(1970, 1980)},\n",
       " {'election_year': 1985, 'period': range(1980, 1991)},\n",
       " {'election_year': 1989, 'period': range(1980, 1991)},\n",
       " {'election_year': 1994, 'period': range(1991, 2000)},\n",
       " {'election_year': 1998, 'period': range(1991, 2000)},\n",
       " {'election_year': 2002, 'period': range(2000, 2010)},\n",
       " {'election_year': 2006, 'period': range(2000, 2010)},\n",
       " {'election_year': 2010, 'period': range(2010, 2018)},\n",
       " {'election_year': 2014, 'period': range(2010, 2018)}]"
      ]
     },
     "execution_count": 23,
     "metadata": {},
     "output_type": "execute_result"
    }
   ],
   "source": [
    "election_period"
   ]
  },
  {
   "cell_type": "code",
   "execution_count": 24,
   "metadata": {},
   "outputs": [],
   "source": [
    "final_relation = []\n",
    "for election in election_period:\n",
    "    for map in map_url:\n",
    "        if map['map_year'] in election['period']:\n",
    "            final_relation.append({**map, **election})"
   ]
  },
  {
   "cell_type": "markdown",
   "metadata": {},
   "source": [
    "Essas são as relações confiáveis (assumindo as premissas já citadas):"
   ]
  },
  {
   "cell_type": "code",
   "execution_count": 25,
   "metadata": {},
   "outputs": [
    {
     "data": {
      "text/plain": [
       "[{'election_year': 1945,\n",
       "  'map_year': 1940,\n",
       "  'period': range(1940, 1950),\n",
       "  'url': 'http://stacks.stanford.edu/file/druid:dm443sj2820/data.zip'},\n",
       " {'election_year': 1950,\n",
       "  'map_year': 1950,\n",
       "  'period': range(1950, 1956),\n",
       "  'url': 'http://stacks.stanford.edu/file/druid:yw498rc4263/data.zip'},\n",
       " {'election_year': 1955,\n",
       "  'map_year': 1950,\n",
       "  'period': range(1950, 1956),\n",
       "  'url': 'http://stacks.stanford.edu/file/druid:yw498rc4263/data.zip'},\n",
       " {'election_year': 1960,\n",
       "  'map_year': 1956,\n",
       "  'period': range(1956, 1962),\n",
       "  'url': 'http://stacks.stanford.edu/file/druid:yw498rc4263/data.zip'},\n",
       " {'election_year': 1964,\n",
       "  'map_year': 1962,\n",
       "  'period': range(1962, 1970),\n",
       "  'url': 'http://stacks.stanford.edu/file/druid:zf548hv4473/data.zip'},\n",
       " {'election_year': 1966,\n",
       "  'map_year': 1962,\n",
       "  'period': range(1962, 1970),\n",
       "  'url': 'http://stacks.stanford.edu/file/druid:zf548hv4473/data.zip'},\n",
       " {'election_year': 1969,\n",
       "  'map_year': 1962,\n",
       "  'period': range(1962, 1970),\n",
       "  'url': 'http://stacks.stanford.edu/file/druid:zf548hv4473/data.zip'},\n",
       " {'election_year': 1974,\n",
       "  'map_year': 1970,\n",
       "  'period': range(1970, 1980),\n",
       "  'url': 'http://stacks.stanford.edu/file/druid:kx233jf3889/data.zip'},\n",
       " {'election_year': 1978,\n",
       "  'map_year': 1970,\n",
       "  'period': range(1970, 1980),\n",
       "  'url': 'http://stacks.stanford.edu/file/druid:kx233jf3889/data.zip'},\n",
       " {'election_year': 1985,\n",
       "  'map_year': 1980,\n",
       "  'period': range(1980, 1991),\n",
       "  'url': 'http://stacks.stanford.edu/file/druid:nf449db8341/data.zip'},\n",
       " {'election_year': 1989,\n",
       "  'map_year': 1980,\n",
       "  'period': range(1980, 1991),\n",
       "  'url': 'http://stacks.stanford.edu/file/druid:nf449db8341/data.zip'},\n",
       " {'election_year': 1994,\n",
       "  'map_year': 1991,\n",
       "  'period': range(1991, 2000),\n",
       "  'url': 'http://stacks.stanford.edu/file/druid:ys298mq8577/data.zip'},\n",
       " {'election_year': 1998,\n",
       "  'map_year': 1991,\n",
       "  'period': range(1991, 2000),\n",
       "  'url': 'http://stacks.stanford.edu/file/druid:ys298mq8577/data.zip'}]"
      ]
     },
     "execution_count": 25,
     "metadata": {},
     "output_type": "execute_result"
    }
   ],
   "source": [
    "final_relation"
   ]
  },
  {
   "cell_type": "markdown",
   "metadata": {},
   "source": [
    "Mas apesar disso vou usar o último mapa (de 1991) para todas as eleições desde então, já que empiricamente eu sei que as mudanças são irrelevantes pra minha aplicação:"
   ]
  },
  {
   "cell_type": "code",
   "execution_count": 26,
   "metadata": {
    "collapsed": true
   },
   "outputs": [],
   "source": [
    "final_relation = []\n",
    "for election in election_period:\n",
    "    if election['election_year'] > 1998:\n",
    "        final_relation.append({**map_url[-1], **election})\n",
    "    for map in map_url:\n",
    "        if map['map_year'] in election['period']:\n",
    "            final_relation.append({**map, **election})"
   ]
  },
  {
   "cell_type": "code",
   "execution_count": 27,
   "metadata": {},
   "outputs": [
    {
     "data": {
      "text/plain": [
       "[{'election_year': 1945,\n",
       "  'map_year': 1940,\n",
       "  'period': range(1940, 1950),\n",
       "  'url': 'http://stacks.stanford.edu/file/druid:dm443sj2820/data.zip'},\n",
       " {'election_year': 1950,\n",
       "  'map_year': 1950,\n",
       "  'period': range(1950, 1956),\n",
       "  'url': 'http://stacks.stanford.edu/file/druid:yw498rc4263/data.zip'},\n",
       " {'election_year': 1955,\n",
       "  'map_year': 1950,\n",
       "  'period': range(1950, 1956),\n",
       "  'url': 'http://stacks.stanford.edu/file/druid:yw498rc4263/data.zip'},\n",
       " {'election_year': 1960,\n",
       "  'map_year': 1956,\n",
       "  'period': range(1956, 1962),\n",
       "  'url': 'http://stacks.stanford.edu/file/druid:yw498rc4263/data.zip'},\n",
       " {'election_year': 1964,\n",
       "  'map_year': 1962,\n",
       "  'period': range(1962, 1970),\n",
       "  'url': 'http://stacks.stanford.edu/file/druid:zf548hv4473/data.zip'},\n",
       " {'election_year': 1966,\n",
       "  'map_year': 1962,\n",
       "  'period': range(1962, 1970),\n",
       "  'url': 'http://stacks.stanford.edu/file/druid:zf548hv4473/data.zip'},\n",
       " {'election_year': 1969,\n",
       "  'map_year': 1962,\n",
       "  'period': range(1962, 1970),\n",
       "  'url': 'http://stacks.stanford.edu/file/druid:zf548hv4473/data.zip'},\n",
       " {'election_year': 1974,\n",
       "  'map_year': 1970,\n",
       "  'period': range(1970, 1980),\n",
       "  'url': 'http://stacks.stanford.edu/file/druid:kx233jf3889/data.zip'},\n",
       " {'election_year': 1978,\n",
       "  'map_year': 1970,\n",
       "  'period': range(1970, 1980),\n",
       "  'url': 'http://stacks.stanford.edu/file/druid:kx233jf3889/data.zip'},\n",
       " {'election_year': 1985,\n",
       "  'map_year': 1980,\n",
       "  'period': range(1980, 1991),\n",
       "  'url': 'http://stacks.stanford.edu/file/druid:nf449db8341/data.zip'},\n",
       " {'election_year': 1989,\n",
       "  'map_year': 1980,\n",
       "  'period': range(1980, 1991),\n",
       "  'url': 'http://stacks.stanford.edu/file/druid:nf449db8341/data.zip'},\n",
       " {'election_year': 1994,\n",
       "  'map_year': 1991,\n",
       "  'period': range(1991, 2000),\n",
       "  'url': 'http://stacks.stanford.edu/file/druid:ys298mq8577/data.zip'},\n",
       " {'election_year': 1998,\n",
       "  'map_year': 1991,\n",
       "  'period': range(1991, 2000),\n",
       "  'url': 'http://stacks.stanford.edu/file/druid:ys298mq8577/data.zip'},\n",
       " {'election_year': 2002,\n",
       "  'map_year': 1991,\n",
       "  'period': range(2000, 2010),\n",
       "  'url': 'http://stacks.stanford.edu/file/druid:ys298mq8577/data.zip'},\n",
       " {'election_year': 2006,\n",
       "  'map_year': 1991,\n",
       "  'period': range(2000, 2010),\n",
       "  'url': 'http://stacks.stanford.edu/file/druid:ys298mq8577/data.zip'},\n",
       " {'election_year': 2010,\n",
       "  'map_year': 1991,\n",
       "  'period': range(2010, 2018),\n",
       "  'url': 'http://stacks.stanford.edu/file/druid:ys298mq8577/data.zip'},\n",
       " {'election_year': 2014,\n",
       "  'map_year': 1991,\n",
       "  'period': range(2010, 2018),\n",
       "  'url': 'http://stacks.stanford.edu/file/druid:ys298mq8577/data.zip'}]"
      ]
     },
     "execution_count": 27,
     "metadata": {},
     "output_type": "execute_result"
    }
   ],
   "source": [
    "final_relation"
   ]
  },
  {
   "cell_type": "markdown",
   "metadata": {},
   "source": [
    "## Exporte as relações para JSON"
   ]
  },
  {
   "cell_type": "code",
   "execution_count": 28,
   "metadata": {
    "collapsed": true
   },
   "outputs": [],
   "source": [
    "import json"
   ]
  },
  {
   "cell_type": "code",
   "execution_count": 29,
   "metadata": {},
   "outputs": [],
   "source": [
    "relation_copy = [{**rel} for rel in final_relation]\n",
    "for relation in relation_copy:\n",
    "    r = relation['period']\n",
    "    relation['period'] = [r.start, r.stop]"
   ]
  },
  {
   "cell_type": "code",
   "execution_count": 30,
   "metadata": {
    "collapsed": true
   },
   "outputs": [],
   "source": [
    "with open('../data/maps_relation.json', 'w') as f:\n",
    "    f.write(json.dumps(relation_copy))"
   ]
  },
  {
   "cell_type": "code",
   "execution_count": 31,
   "metadata": {},
   "outputs": [
    {
     "data": {
      "text/plain": [
       "['evolucao_da_divisao_territorial_mapas.pdf',\n",
       " 'historical_maps',\n",
       " 'maps_relation.json']"
      ]
     },
     "execution_count": 31,
     "metadata": {},
     "output_type": "execute_result"
    }
   ],
   "source": [
    "os.listdir('../data/')"
   ]
  },
  {
   "cell_type": "code",
   "execution_count": 32,
   "metadata": {},
   "outputs": [
    {
     "name": "stdout",
     "output_type": "stream",
     "text": [
      "[{\"url\": \"http://stacks.stanford.edu/file/druid:dm443sj2820/data.zip\", \"map_year\": 1940, \"election_year\": 1945, \"period\": [1940, 1950]}, {\"url\": \"http://stacks.stanford.edu/file/druid:yw498rc4263/data.zip\", \"map_year\": 1950, \"election_year\": 1950, \"period\": [1950, 1956]}, {\"url\": \"http://stacks.stanford.edu/file/druid:yw498rc4263/data.zip\", \"map_year\": 1950, \"election_year\": 1955, \"period\": [1950, 1956]}, {\"url\": \"http://stacks.stanford.edu/file/druid:yw498rc4263/data.zip\", \"map_year\": 1956, \"election_year\": 1960, \"period\": [1956, 1962]}, {\"url\": \"http://stacks.stanford.edu/file/druid:zf548hv4473/data.zip\", \"map_year\": 1962, \"election_year\": 1964, \"period\": [1962, 1970]}, {\"url\": \"http://stacks.stanford.edu/file/druid:zf548hv4473/data.zip\", \"map_year\": 1962, \"election_year\": 1966, \"period\": [1962, 1970]}, {\"url\": \"http://stacks.stanford.edu/file/druid:zf548hv4473/data.zip\", \"map_year\": 1962, \"election_year\": 1969, \"period\": [1962, 1970]}, {\"url\": \"http://stacks.stanford.edu/file/druid:kx233jf3889/data.zip\", \"map_year\": 1970, \"election_year\": 1974, \"period\": [1970, 1980]}, {\"url\": \"http://stacks.stanford.edu/file/druid:kx233jf3889/data.zip\", \"map_year\": 1970, \"election_year\": 1978, \"period\": [1970, 1980]}, {\"url\": \"http://stacks.stanford.edu/file/druid:nf449db8341/data.zip\", \"map_year\": 1980, \"election_year\": 1985, \"period\": [1980, 1991]}, {\"url\": \"http://stacks.stanford.edu/file/druid:nf449db8341/data.zip\", \"map_year\": 1980, \"election_year\": 1989, \"period\": [1980, 1991]}, {\"url\": \"http://stacks.stanford.edu/file/druid:ys298mq8577/data.zip\", \"map_year\": 1991, \"election_year\": 1994, \"period\": [1991, 2000]}, {\"url\": \"http://stacks.stanford.edu/file/druid:ys298mq8577/data.zip\", \"map_year\": 1991, \"election_year\": 1998, \"period\": [1991, 2000]}, {\"url\": \"http://stacks.stanford.edu/file/druid:ys298mq8577/data.zip\", \"map_year\": 1991, \"election_year\": 2002, \"period\": [2000, 2010]}, {\"url\": \"http://stacks.stanford.edu/file/druid:ys298mq8577/data.zip\", \"map_year\": 1991, \"election_year\": 2006, \"period\": [2000, 2010]}, {\"url\": \"http://stacks.stanford.edu/file/druid:ys298mq8577/data.zip\", \"map_year\": 1991, \"election_year\": 2010, \"period\": [2010, 2018]}, {\"url\": \"http://stacks.stanford.edu/file/druid:ys298mq8577/data.zip\", \"map_year\": 1991, \"election_year\": 2014, \"period\": [2010, 2018]}]"
     ]
    }
   ],
   "source": [
    "%%bash\n",
    "cat ../data/maps_relation.json"
   ]
  },
  {
   "cell_type": "code",
   "execution_count": null,
   "metadata": {
    "collapsed": true
   },
   "outputs": [],
   "source": []
  }
 ],
 "metadata": {
  "kernelspec": {
   "display_name": "Python 3",
   "language": "python",
   "name": "python3"
  },
  "language_info": {
   "codemirror_mode": {
    "name": "ipython",
    "version": 3
   },
   "file_extension": ".py",
   "mimetype": "text/x-python",
   "name": "python",
   "nbconvert_exporter": "python",
   "pygments_lexer": "ipython3",
   "version": "3.6.3"
  }
 },
 "nbformat": 4,
 "nbformat_minor": 1
}
