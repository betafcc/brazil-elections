{
 "cells": [
  {
   "cell_type": "markdown",
   "metadata": {},
   "source": [
    "# Maps coversion to TOPOJSON"
   ]
  },
  {
   "cell_type": "markdown",
   "metadata": {},
   "source": [
    "## This notebook aims to:\n",
    "    - [X] Converter cada shapefile de mapa para seu formato topojson\n",
    "    - [X] Produzir um único JSON que contém a relação dos topojson e ano"
   ]
  },
  {
   "cell_type": "markdown",
   "metadata": {},
   "source": [
    "## Notes:\n",
    "    - Esse notebook usa os arquivos criados em ./2017-01-10-bf-historical-maps.ipynb\n",
    "    - Esse notebook tem como dependências os binários 'ogr2ogr', 'geo2topo' e 'toposimplify'\n",
    "    - O formato do arquivo final é um JSON na estrutura:\n",
    "        [{\"year\": < ano >}]"
   ]
  },
  {
   "cell_type": "markdown",
   "metadata": {},
   "source": [
    "## Converta mapas para GeoJSON"
   ]
  },
  {
   "cell_type": "code",
   "execution_count": 1,
   "metadata": {
    "collapsed": false
   },
   "outputs": [],
   "source": [
    "%%bash\n",
    "infolder=../data/historical_maps\n",
    "outfolder=../data/maps_conversion\n",
    "mkdir $outfolder\n",
    "for map_year in $(ls $infolder); do\n",
    "    mkdir $outfolder/$map_year\n",
    "    ogr2ogr -f GeoJSON -t_srs \"EPSG:4326\" $outfolder/$map_year/states.json $infolder/$map_year/*.shp\n",
    "done"
   ]
  },
  {
   "cell_type": "markdown",
   "metadata": {},
   "source": [
    "Lembrando da observação feita no notebook anterior, eu baixei o mapa de 1950 para representar 1956, já que as fronteiras são as mesmas, mas para ficar correto, tenho que corrigir o nome de Território de Guaporé para Território de Rondônia"
   ]
  },
  {
   "cell_type": "code",
   "execution_count": 16,
   "metadata": {
    "collapsed": false
   },
   "outputs": [],
   "source": [
    "%%bash\n",
    "sed -i -e 's/Território do Guaporé/Território de Rondônia/' ../data/maps_conversion/1956/states.json"
   ]
  },
  {
   "cell_type": "markdown",
   "metadata": {},
   "source": [
    "## Converta para TopoJSON"
   ]
  },
  {
   "cell_type": "code",
   "execution_count": 2,
   "metadata": {
    "collapsed": false
   },
   "outputs": [],
   "source": [
    "%%bash\n",
    "folder=../data/maps_conversion\n",
    "for map_year in $(ls $folder); do\n",
    "    geo2topo -o $folder/$map_year/states.topo.json -- $folder/$map_year/states.json\n",
    "done"
   ]
  },
  {
   "cell_type": "markdown",
   "metadata": {},
   "source": [
    "## Simplifique os arquivos"
   ]
  },
  {
   "cell_type": "code",
   "execution_count": 3,
   "metadata": {
    "collapsed": false
   },
   "outputs": [
    {
     "name": "stderr",
     "output_type": "stream",
     "text": [
      "equivalent --planar-area 0.004864058560179687\n",
      "equivalent --planar-area 0.0046958326918853585\n",
      "equivalent --planar-area 0.0046958326918853585\n",
      "equivalent --planar-area 0.004840564706383291\n",
      "equivalent --planar-area 0.00446150815736295\n",
      "equivalent --planar-area 0.0043850919071649124\n",
      "equivalent --planar-area 0.004355568956756782\n"
     ]
    }
   ],
   "source": [
    "%%bash\n",
    "folder=../data/maps_conversion\n",
    "for map_year in $(ls $folder); do\n",
    "    toposimplify $folder/$map_year/states.topo.json -P 0.1 -f \\\n",
    "        -o $folder/$map_year/states_simplified.topo.json\n",
    "done"
   ]
  },
  {
   "cell_type": "code",
   "execution_count": 4,
   "metadata": {
    "collapsed": false
   },
   "outputs": [
    {
     "name": "stdout",
     "output_type": "stream",
     "text": [
      "1,5M\t../data/maps_conversion/1940/states.json\n",
      "152K\t../data/maps_conversion/1940/states_simplified.topo.json\n",
      "1,3M\t../data/maps_conversion/1940/states.topo.json\n",
      "1,7M\t../data/maps_conversion/1950/states.json\n",
      "172K\t../data/maps_conversion/1950/states_simplified.topo.json\n",
      "1,4M\t../data/maps_conversion/1950/states.topo.json\n",
      "1,7M\t../data/maps_conversion/1956/states.json\n",
      "172K\t../data/maps_conversion/1956/states_simplified.topo.json\n",
      "1,4M\t../data/maps_conversion/1956/states.topo.json\n",
      "1,7M\t../data/maps_conversion/1962/states.json\n",
      "144K\t../data/maps_conversion/1962/states_simplified.topo.json\n",
      "1,3M\t../data/maps_conversion/1962/states.topo.json\n",
      "1,7M\t../data/maps_conversion/1970/states.json\n",
      "184K\t../data/maps_conversion/1970/states_simplified.topo.json\n",
      "1,4M\t../data/maps_conversion/1970/states.topo.json\n",
      "1,8M\t../data/maps_conversion/1980/states.json\n",
      "184K\t../data/maps_conversion/1980/states_simplified.topo.json\n",
      "1,5M\t../data/maps_conversion/1980/states.topo.json\n",
      "1,8M\t../data/maps_conversion/1991/states.json\n",
      "184K\t../data/maps_conversion/1991/states_simplified.topo.json\n",
      "1,4M\t../data/maps_conversion/1991/states.topo.json\n"
     ]
    }
   ],
   "source": [
    "%%bash\n",
    "du -h ../data/maps_conversion/*/*.json"
   ]
  },
  {
   "cell_type": "code",
   "execution_count": 5,
   "metadata": {
    "collapsed": false,
    "scrolled": true
   },
   "outputs": [],
   "source": [
    "%%bash\n",
    "folder=../data/maps_conversion\n",
    "dest=../data/deliver_json\n",
    "\n",
    "mkdir $dest\n",
    "for map_year in $(ls $folder); do\n",
    "    echo \"{\\\"year\\\": $map_year, \\\"map\\\":\" \\\n",
    "        $(cat $folder/$map_year/*simplified.topo.json) \\\n",
    "        \"}\" > $dest/$map_year.json\n",
    "done"
   ]
  },
  {
   "cell_type": "code",
   "execution_count": 6,
   "metadata": {
    "collapsed": false
   },
   "outputs": [
    {
     "name": "stdout",
     "output_type": "stream",
     "text": [
      "1940.json\n",
      "1950.json\n",
      "1956.json\n",
      "1962.json\n",
      "1970.json\n",
      "1980.json\n",
      "1991.json\n"
     ]
    }
   ],
   "source": [
    "%%bash\n",
    "ls ../data/deliver_json/"
   ]
  },
  {
   "cell_type": "code",
   "execution_count": 7,
   "metadata": {
    "collapsed": true
   },
   "outputs": [],
   "source": [
    "from glob import glob\n",
    "import os\n",
    "import json"
   ]
  },
  {
   "cell_type": "code",
   "execution_count": 8,
   "metadata": {
    "collapsed": false
   },
   "outputs": [],
   "source": [
    "contents = []\n",
    "for file_path in glob('../data/deliver_json/*'):\n",
    "    with open(file_path, 'r') as file:\n",
    "        contents.append(json.load(file))"
   ]
  },
  {
   "cell_type": "code",
   "execution_count": 9,
   "metadata": {
    "collapsed": false
   },
   "outputs": [],
   "source": [
    "contents = sorted(contents, key=lambda d: d['year'])"
   ]
  },
  {
   "cell_type": "code",
   "execution_count": 10,
   "metadata": {
    "collapsed": false
   },
   "outputs": [],
   "source": [
    "with open('../data/deliver_json/all.json', 'w') as file:\n",
    "    json.dump(contents, file, ensure_ascii=False)"
   ]
  },
  {
   "cell_type": "code",
   "execution_count": 11,
   "metadata": {
    "collapsed": false
   },
   "outputs": [
    {
     "name": "stdout",
     "output_type": "stream",
     "text": [
      "1940.json  1956.json  1970.json  1991.json\r\n",
      "1950.json  1962.json  1980.json  all.json\r\n"
     ]
    }
   ],
   "source": [
    "ls ../data/deliver_json/"
   ]
  }
 ],
 "metadata": {
  "kernelspec": {
   "display_name": "election_maps",
   "language": "python",
   "name": "election_maps"
  },
  "language_info": {
   "codemirror_mode": {
    "name": "ipython",
    "version": 3
   },
   "file_extension": ".py",
   "mimetype": "text/x-python",
   "name": "python",
   "nbconvert_exporter": "python",
   "pygments_lexer": "ipython3",
   "version": "3.6.0"
  }
 },
 "nbformat": 4,
 "nbformat_minor": 1
}
